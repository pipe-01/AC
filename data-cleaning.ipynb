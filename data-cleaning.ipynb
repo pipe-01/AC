{
 "cells": [
  {
   "cell_type": "code",
   "execution_count": null,
   "metadata": {},
   "outputs": [],
   "source": [
    "import pandas as pd"
   ]
  },
  {
   "cell_type": "markdown",
   "metadata": {},
   "source": [
    "## Card"
   ]
  },
  {
   "cell_type": "code",
   "execution_count": null,
   "metadata": {},
   "outputs": [],
   "source": [
    "## Read competion and develop dataframes\n",
    "card_comp = pd.read_csv(\"dados/pre-processed/card_comp.csv\")\n",
    "card_dev = pd.read_csv(\"dados/pre-processed//card_dev.csv\")\n",
    "\n",
    "## Concat them\n",
    "card = pd.concat([card_comp, card_dev])\n",
    "\n",
    "## Drop type column of disposition\n",
    "disp_df = pd.read_csv(\"dados/pre-processed/disp.csv\")\n",
    "disp_df.drop(\"type\", axis=1, inplace=True)\n",
    "\n",
    "## Merge card with disposition (how=Left so we have all clients and not only those with cards)\n",
    "card_disp = pd.merge(disp_df, card, on=\"disp_id\", how=\"left\")\n",
    "\n",
    "## Readability\n",
    "card_disp.rename(columns = {\"type\":\"type_card\"}, inplace=True)\n",
    "\n",
    "## Replace NaN values with \"Other\"\n",
    "card_disp[\"type_card\"].fillna(\"other\", inplace=True)\n",
    "\n",
    "## Type of card from numerical to categorical\n",
    "card_disp = pd.get_dummies(card_disp, columns = ['type_card'])\n",
    "\n",
    "## Function to check whether a person has a card\n",
    "def has_card(row):\n",
    "    return 0 if pd.isna(row[\"card_id\"]) else 1\n",
    "\n",
    "## Apply function to new column\n",
    "card_disp[\"has_card\"] = card_disp.apply(lambda x: has_card(x), axis = 1)\n",
    "\n",
    "## Drop columns\n",
    "card_disp.drop([\"card_issued_date\", \"card_id\", \"account_id\", \"client_id\"], axis=1, inplace=True)\n",
    "\n",
    "## Save\n",
    "card_disp.to_csv(\"dados/cleaned/card.csv\", index=False)\n",
    "\n",
    "card_disp.head()"
   ]
  },
  {
   "cell_type": "markdown",
   "metadata": {},
   "source": [
    "## Client"
   ]
  },
  {
   "cell_type": "code",
   "execution_count": null,
   "metadata": {},
   "outputs": [],
   "source": [
    "## Read useful dataframes\n",
    "client = pd.read_csv(\"dados/pre-processed/client.csv\")\n",
    "\n",
    "## Sex from categorical to numerical\n",
    "client['sex'].replace(['m', 'f'], [0, 1], inplace=True)\n",
    "\n",
    "## To csv\n",
    "client.to_csv(\"dados/cleaned/client.csv\")\n",
    "\n",
    "client.head()"
   ]
  },
  {
   "cell_type": "markdown",
   "metadata": {},
   "source": [
    "## Disposition"
   ]
  },
  {
   "cell_type": "code",
   "execution_count": null,
   "metadata": {},
   "outputs": [],
   "source": [
    "disp   = pd.read_csv(\"dados/pre-processed/disp.csv\")\n",
    "\n",
    "## Keep only account owners\n",
    "disp = disp[disp[\"type\"] == \"owner\"]\n",
    "\n",
    "## Drop type column\n",
    "disp.drop(\"type\", axis=1, inplace=True)\n",
    "\n",
    "## To CSV\n",
    "disp.to_csv(\"dados/cleaned/disp.csv\", index=False)\n",
    "\n",
    "disp.head()"
   ]
  },
  {
   "cell_type": "markdown",
   "metadata": {},
   "source": [
    "## District"
   ]
  },
  {
   "cell_type": "code",
   "execution_count": null,
   "metadata": {},
   "outputs": [],
   "source": [
    "## Read df\n",
    "dist = pd.read_csv(\"dados/pre-processed/district.csv\")\n",
    "\n",
    "## Standardize values\n",
    "dist[\"num_crimes_95\"] = round(dist[\"num_crimes_95\"]/dist[\"num_inhab\"] * 1000, 2)\n",
    "dist[\"num_crimes_96\"] = round(dist[\"num_crimes_96\"]/dist[\"num_inhab\"] * 1000, 2)"
   ]
  },
  {
   "cell_type": "code",
   "execution_count": null,
   "metadata": {},
   "outputs": [],
   "source": [
    "## Find missing values\n",
    "dist.isna().any()"
   ]
  },
  {
   "cell_type": "code",
   "execution_count": null,
   "metadata": {},
   "outputs": [],
   "source": [
    "## We have missing values in both perc_unemploy_95 and num_crimes_95. \n",
    "## We can deal with it by using the data avaliable in other years\n",
    "dist[\"perc_unemploy_95\"].fillna(dist[\"perc_unemploy_96\"], inplace=True)\n",
    "dist[\"num_crimes_95\"].fillna(dist[\"num_crimes_96\"], inplace=True)\n",
    "\n",
    "## Deal with missing Prague zoning\n",
    "dist.loc[dist[\"region\"] == \"Prague\", [\"region_zone\"]] = \"Prague\"\n",
    "\n",
    "dist.isna().any()"
   ]
  },
  {
   "cell_type": "code",
   "execution_count": null,
   "metadata": {},
   "outputs": [],
   "source": [
    "## Drop some columns\n",
    "columns_to_drop = [\n",
    "    'num_municip_inhab_0_499',\n",
    "    'num_municip_inhab_500_1999', \n",
    "    'num_municip_inhab_2000_9999',\n",
    "    'num_municip_inhab_10000_', \n",
    "    'num_cities'\n",
    "    ]\n",
    "dist.drop(columns=columns_to_drop, axis = 1, inplace = True)"
   ]
  },
  {
   "cell_type": "code",
   "execution_count": null,
   "metadata": {},
   "outputs": [],
   "source": [
    "dist.head()"
   ]
  },
  {
   "cell_type": "code",
   "execution_count": null,
   "metadata": {},
   "outputs": [],
   "source": [
    "dist[[\"perc_unemploy_95\", \"perc_unemploy_96\"]].corr()"
   ]
  },
  {
   "cell_type": "code",
   "execution_count": null,
   "metadata": {},
   "outputs": [],
   "source": [
    "dist[[\"num_crimes_95\", \"num_crimes_96\"]].corr()"
   ]
  },
  {
   "cell_type": "code",
   "execution_count": 79,
   "metadata": {},
   "outputs": [],
   "source": [
    "## Since those variables are correlated, let's drop both and keep only the average value\n",
    "dist[\"num_crimes\"]   = round((dist[\"num_crimes_95\"] + dist[\"num_crimes_96\"]) / 2, 2)\n",
    "dist[\"unemployment\"] = round((dist[\"perc_unemploy_95\"] + dist[\"perc_unemploy_96\"]) / 2, 2)\n",
    "\n",
    "## Calculate the unemployment variation in %\n",
    "dist[\"unemployment_delta\"] = round((dist[\"perc_unemploy_96\"] - dist[\"perc_unemploy_95\"]) / dist[\"perc_unemploy_95\"] , 2)\n",
    "dist[\"crimes_delta\"]       = round((dist[\"num_crimes_96\"] - dist[\"num_crimes_95\"]) / dist[\"num_crimes_95\"] * 100, 2)\n"
   ]
  },
  {
   "cell_type": "code",
   "execution_count": 80,
   "metadata": {},
   "outputs": [],
   "source": [
    "## Drop columns\n",
    "columns_to_drop = [\n",
    "    'perc_unemploy_95',\n",
    "    'perc_unemploy_96',\n",
    "    'num_crimes_95',\n",
    "    'num_crimes_96'\n",
    "]\n",
    "\n",
    "dist.drop(columns=columns_to_drop, axis = 1, inplace = True)"
   ]
  },
  {
   "cell_type": "code",
   "execution_count": 81,
   "metadata": {},
   "outputs": [
    {
     "data": {
      "text/html": [
       "<div>\n",
       "<style scoped>\n",
       "    .dataframe tbody tr th:only-of-type {\n",
       "        vertical-align: middle;\n",
       "    }\n",
       "\n",
       "    .dataframe tbody tr th {\n",
       "        vertical-align: top;\n",
       "    }\n",
       "\n",
       "    .dataframe thead th {\n",
       "        text-align: right;\n",
       "    }\n",
       "</style>\n",
       "<table border=\"1\" class=\"dataframe\">\n",
       "  <thead>\n",
       "    <tr style=\"text-align: right;\">\n",
       "      <th></th>\n",
       "      <th>id</th>\n",
       "      <th>city</th>\n",
       "      <th>region</th>\n",
       "      <th>num_inhab</th>\n",
       "      <th>perc_urban_inhab</th>\n",
       "      <th>avg_salary</th>\n",
       "      <th>enterp_per_1000</th>\n",
       "      <th>region_zone</th>\n",
       "      <th>num_crimes</th>\n",
       "      <th>unemployment</th>\n",
       "      <th>unemployment_delta</th>\n",
       "      <th>crimes_delta</th>\n",
       "    </tr>\n",
       "  </thead>\n",
       "  <tbody>\n",
       "    <tr>\n",
       "      <th>0</th>\n",
       "      <td>1</td>\n",
       "      <td>Hl.m. Praha</td>\n",
       "      <td>Prague</td>\n",
       "      <td>1204953</td>\n",
       "      <td>100.0</td>\n",
       "      <td>12541.0</td>\n",
       "      <td>167</td>\n",
       "      <td>Prague</td>\n",
       "      <td>76.68</td>\n",
       "      <td>0.36</td>\n",
       "      <td>0.48</td>\n",
       "      <td>15.68</td>\n",
       "    </tr>\n",
       "    <tr>\n",
       "      <th>1</th>\n",
       "      <td>2</td>\n",
       "      <td>Benesov</td>\n",
       "      <td>Bohemia</td>\n",
       "      <td>88884</td>\n",
       "      <td>46.7</td>\n",
       "      <td>8507.0</td>\n",
       "      <td>132</td>\n",
       "      <td>central</td>\n",
       "      <td>27.18</td>\n",
       "      <td>1.76</td>\n",
       "      <td>0.11</td>\n",
       "      <td>23.84</td>\n",
       "    </tr>\n",
       "    <tr>\n",
       "      <th>2</th>\n",
       "      <td>3</td>\n",
       "      <td>Beroun</td>\n",
       "      <td>Bohemia</td>\n",
       "      <td>75232</td>\n",
       "      <td>41.7</td>\n",
       "      <td>8980.0</td>\n",
       "      <td>111</td>\n",
       "      <td>central</td>\n",
       "      <td>37.47</td>\n",
       "      <td>2.08</td>\n",
       "      <td>0.13</td>\n",
       "      <td>-0.40</td>\n",
       "    </tr>\n",
       "    <tr>\n",
       "      <th>3</th>\n",
       "      <td>4</td>\n",
       "      <td>Kladno</td>\n",
       "      <td>Bohemia</td>\n",
       "      <td>149893</td>\n",
       "      <td>67.4</td>\n",
       "      <td>9753.0</td>\n",
       "      <td>109</td>\n",
       "      <td>central</td>\n",
       "      <td>37.14</td>\n",
       "      <td>4.84</td>\n",
       "      <td>0.09</td>\n",
       "      <td>12.38</td>\n",
       "    </tr>\n",
       "    <tr>\n",
       "      <th>4</th>\n",
       "      <td>5</td>\n",
       "      <td>Kolin</td>\n",
       "      <td>Bohemia</td>\n",
       "      <td>95616</td>\n",
       "      <td>51.4</td>\n",
       "      <td>9307.0</td>\n",
       "      <td>118</td>\n",
       "      <td>central</td>\n",
       "      <td>29.58</td>\n",
       "      <td>4.14</td>\n",
       "      <td>0.15</td>\n",
       "      <td>16.19</td>\n",
       "    </tr>\n",
       "  </tbody>\n",
       "</table>\n",
       "</div>"
      ],
      "text/plain": [
       "   id         city   region  num_inhab  perc_urban_inhab  avg_salary  \\\n",
       "0   1  Hl.m. Praha   Prague    1204953             100.0     12541.0   \n",
       "1   2      Benesov  Bohemia      88884              46.7      8507.0   \n",
       "2   3       Beroun  Bohemia      75232              41.7      8980.0   \n",
       "3   4       Kladno  Bohemia     149893              67.4      9753.0   \n",
       "4   5        Kolin  Bohemia      95616              51.4      9307.0   \n",
       "\n",
       "   enterp_per_1000 region_zone  num_crimes  unemployment  unemployment_delta  \\\n",
       "0              167      Prague       76.68          0.36                0.48   \n",
       "1              132     central       27.18          1.76                0.11   \n",
       "2              111     central       37.47          2.08                0.13   \n",
       "3              109     central       37.14          4.84                0.09   \n",
       "4              118     central       29.58          4.14                0.15   \n",
       "\n",
       "   crimes_delta  \n",
       "0         15.68  \n",
       "1         23.84  \n",
       "2         -0.40  \n",
       "3         12.38  \n",
       "4         16.19  "
      ]
     },
     "execution_count": 81,
     "metadata": {},
     "output_type": "execute_result"
    }
   ],
   "source": [
    "dist.head()"
   ]
  },
  {
   "cell_type": "code",
   "execution_count": 82,
   "metadata": {},
   "outputs": [],
   "source": [
    "dist.to_csv(\"dados/cleaned/district.csv\", index = False)"
   ]
  },
  {
   "cell_type": "markdown",
   "metadata": {},
   "source": [
    "## Transaction"
   ]
  },
  {
   "cell_type": "code",
   "execution_count": null,
   "metadata": {},
   "outputs": [],
   "source": []
  }
 ],
 "metadata": {
  "kernelspec": {
   "display_name": "Python 3.10.4 64-bit",
   "language": "python",
   "name": "python3"
  },
  "language_info": {
   "codemirror_mode": {
    "name": "ipython",
    "version": 3
   },
   "file_extension": ".py",
   "mimetype": "text/x-python",
   "name": "python",
   "nbconvert_exporter": "python",
   "pygments_lexer": "ipython3",
   "version": "3.10.4"
  },
  "orig_nbformat": 4,
  "vscode": {
   "interpreter": {
    "hash": "d262e7d787343bb66990a00de3e9893afc6af4e1c4b01eb9fd482a95e03b1473"
   }
  }
 },
 "nbformat": 4,
 "nbformat_minor": 2
}
