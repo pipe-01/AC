{
 "cells": [
  {
   "cell_type": "code",
   "execution_count": 12,
   "metadata": {},
   "outputs": [],
   "source": [
    "import pandas as pd"
   ]
  },
  {
   "cell_type": "code",
   "execution_count": 13,
   "metadata": {},
   "outputs": [],
   "source": [
    "account    = pd.read_csv(\"dados/cleaned/account.csv\")\n",
    "card       = pd.read_csv(\"dados/cleaned/card.csv\")\n",
    "client     = pd.read_csv(\"dados/cleaned/client.csv\")\n",
    "disp       = pd.read_csv(\"dados/cleaned/disp.csv\")\n",
    "district   = pd.read_csv(\"dados/cleaned/district.csv\")\n",
    "loan_comp  = pd.read_csv(\"dados/cleaned/loan_comp.csv\")\n",
    "loan_dev   = pd.read_csv(\"dados/cleaned/loan_dev.csv\")\n",
    "trans_comp = pd.read_csv(\"dados/cleaned/trans_comp.csv\")\n",
    "trans_dev  = pd.read_csv(\"dados/cleaned/trans_dev.csv\")"
   ]
  },
  {
   "cell_type": "code",
   "execution_count": 14,
   "metadata": {},
   "outputs": [],
   "source": [
    "all_merged = []"
   ]
  },
  {
   "cell_type": "code",
   "execution_count": 15,
   "metadata": {},
   "outputs": [],
   "source": [
    "for i, loan in enumerate([loan_comp, loan_dev]):\n",
    "    ## Client and disctrict\n",
    "    client_dist = pd.merge(client, district, left_on=\"district_id\", right_on=\"id\", suffixes=(\"_client\", \"_dist\"))\n",
    "\n",
    "    ## Loan and account\n",
    "    loan_acc = pd.merge(loan, account, on=\"account_id\", how=\"left\", suffixes=(\"_loan\", \"_acc\"))\n",
    "    ## And disp\n",
    "    loan_acc_disp = pd.merge(loan_acc, disp, on=\"account_id\", how=\"inner\")\n",
    "    \n",
    "    ## Loan/Account/Disp with Client/District\n",
    "    df = pd.merge(loan_acc_disp, client_dist, on=\"client_id\", how=\"inner\", suffixes=(\"_acc\", \"_client\"))\n",
    "    \n",
    "    ## Loan/Account/Disp/Client/District with Card\n",
    "    df = pd.merge(df, card, on=\"disp_id\", how=\"left\")\n",
    "\n",
    "    ## Loan/Account/Disp/Client/District/Card with transactions\n",
    "    \n",
    "    ## If competition (i == 0)\n",
    "    if not i:\n",
    "        df = pd.merge(df, trans_comp, on=\"account_id\", how=\"inner\")\n",
    "    else:\n",
    "        df = pd.merge(df, trans_dev, on=\"account_id\", how=\"inner\")\n",
    "    \n",
    "    df[\"status\"].replace([1, -1], [0, 1], inplace=True)\n",
    "\n",
    "    all_merged.append(df)"
   ]
  },
  {
   "cell_type": "code",
   "execution_count": 16,
   "metadata": {},
   "outputs": [],
   "source": [
    "columns_to_drop = [\n",
    "    \"account_id\",\n",
    "    \"client_id\",\n",
    "    \"district_id_acc\",\n",
    "    \"district_id_client\",\n",
    "    ## LOAN\n",
    "    \"loan_date\",\n",
    "    ## DISP\n",
    "    \"disp_id\",\n",
    "    ## ACC\n",
    "    \"acc_creation_date\",\n",
    "    \"frequency\",\n",
    "    ## CARD\n",
    "    \"card_issued_year\",\n",
    "    \"card_issued_month\",\n",
    "    \"card_issued_day\",\n",
    "    ## DIST\n",
    "    \"city\",\n",
    "    \"region\",\n",
    "    \"id\",\n",
    "    \"region_zone\"\n",
    "]\n"
   ]
  },
  {
   "cell_type": "code",
   "execution_count": 17,
   "metadata": {},
   "outputs": [],
   "source": [
    "all_merged[0].drop(columns=columns_to_drop, axis = 1, inplace = True)"
   ]
  },
  {
   "cell_type": "code",
   "execution_count": 18,
   "metadata": {},
   "outputs": [],
   "source": [
    "all_merged[1].drop(columns=columns_to_drop, axis = 1, inplace = True)"
   ]
  },
  {
   "cell_type": "code",
   "execution_count": 19,
   "metadata": {},
   "outputs": [
    {
     "data": {
      "text/plain": [
       "Index(['loan_id', 'amount', 'duration', 'payments', 'status',\n",
       "       'acc_age_at_loan', 'is_account_shared', 'sex', 'age', 'num_inhab',\n",
       "       'perc_urban_inhab', 'avg_salary', 'enterp_per_1000', 'num_crimes',\n",
       "       'unemployment', 'unemployment_delta', 'crimes_delta',\n",
       "       'type_card_classic', 'type_card_gold', 'type_card_junior',\n",
       "       'type_card_other', 'has_card', 'min_balance', 'avg_balance',\n",
       "       'max_balance', 'sanctions', 'only_to_na'],\n",
       "      dtype='object')"
      ]
     },
     "execution_count": 19,
     "metadata": {},
     "output_type": "execute_result"
    }
   ],
   "source": [
    "all_merged[0].columns"
   ]
  },
  {
   "cell_type": "code",
   "execution_count": 20,
   "metadata": {},
   "outputs": [],
   "source": [
    "all_merged[0].to_csv(\"dados/ready/comp.csv\", index = False)\n",
    "all_merged[1].to_csv(\"dados/ready/dev.csv\",  index = False)"
   ]
  }
 ],
 "metadata": {
  "kernelspec": {
   "display_name": "Python 3.11.0 64-bit",
   "language": "python",
   "name": "python3"
  },
  "language_info": {
   "codemirror_mode": {
    "name": "ipython",
    "version": 3
   },
   "file_extension": ".py",
   "mimetype": "text/x-python",
   "name": "python",
   "nbconvert_exporter": "python",
   "pygments_lexer": "ipython3",
   "version": "3.11.0"
  },
  "orig_nbformat": 4,
  "vscode": {
   "interpreter": {
    "hash": "5238573367df39f7286bb46f9ff5f08f63a01a80960060ce41e3c79b190280fa"
   }
  }
 },
 "nbformat": 4,
 "nbformat_minor": 2
}
