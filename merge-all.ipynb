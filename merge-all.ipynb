{
 "cells": [
  {
   "cell_type": "code",
   "execution_count": 1,
   "metadata": {},
   "outputs": [],
   "source": [
    "import pandas as pd"
   ]
  },
  {
   "cell_type": "code",
   "execution_count": 2,
   "metadata": {},
   "outputs": [],
   "source": [
    "account    = pd.read_csv(\"dados/cleaned/account.csv\")\n",
    "card       = pd.read_csv(\"dados/cleaned/card.csv\")\n",
    "client     = pd.read_csv(\"dados/cleaned/client.csv\")\n",
    "disp       = pd.read_csv(\"dados/cleaned/disp.csv\")\n",
    "district   = pd.read_csv(\"dados/cleaned/district.csv\")\n",
    "loan_comp  = pd.read_csv(\"dados/cleaned/loan_comp.csv\")\n",
    "loan_dev   = pd.read_csv(\"dados/cleaned/loan_dev.csv\")\n",
    "trans_comp = pd.read_csv(\"dados/cleaned/trans_comp.csv\")\n",
    "trans_dev  = pd.read_csv(\"dados/cleaned/trans_dev.csv\")"
   ]
  },
  {
   "cell_type": "code",
   "execution_count": 3,
   "metadata": {},
   "outputs": [],
   "source": [
    "all_merged = []"
   ]
  },
  {
   "cell_type": "code",
   "execution_count": 4,
   "metadata": {},
   "outputs": [],
   "source": [
    "for i, loan in enumerate([loan_comp, loan_dev]):\n",
    "    ## Client and disctrict\n",
    "    client_dist = pd.merge(client, district, left_on=\"district_id\", right_on=\"id\", suffixes=(\"_client\", \"_dist\"))\n",
    "\n",
    "    ## Loan and account\n",
    "    loan_acc = pd.merge(loan, account, on=\"account_id\", how=\"left\", suffixes=(\"_loan\", \"_acc\"))\n",
    "    ## And disp\n",
    "    loan_acc_disp = pd.merge(loan_acc, disp, on=\"account_id\", how=\"inner\")\n",
    "    \n",
    "    ## Loan/Account/Disp with Client/District\n",
    "    df = pd.merge(loan_acc_disp, client_dist, on=\"client_id\", how=\"inner\", suffixes=(\"_acc\", \"_client\"))\n",
    "    \n",
    "    ## Loan/Account/Disp/Client/District with Card\n",
    "    df = pd.merge(df, card, on=\"disp_id\", how=\"left\")\n",
    "\n",
    "    ## Loan/Account/Disp/Client/District/Card with transactions\n",
    "    \n",
    "    ## If competition (i == 0)\n",
    "    if not i:\n",
    "        df = pd.merge(df, trans_comp, on=\"account_id\", how=\"inner\")\n",
    "    else:\n",
    "        df = pd.merge(df, trans_dev, on=\"account_id\", how=\"inner\")\n",
    "    \n",
    "    df[\"status\"].replace([1, -1], [0, 1], inplace=True)\n",
    "\n",
    "    all_merged.append(df)"
   ]
  },
  {
   "cell_type": "code",
   "execution_count": 5,
   "metadata": {},
   "outputs": [],
   "source": [
    "columns_to_drop = [\n",
    "    \"account_id\",\n",
    "    \"client_id\",\n",
    "    \"district_id_acc\",\n",
    "    \"district_id_client\",\n",
    "    ## LOAN\n",
    "    \"loan_date\",\n",
    "    ## DISP\n",
    "    \"disp_id\",\n",
    "    ## ACC\n",
    "    \"acc_creation_date\",\n",
    "    \"frequency\",\n",
    "    ## CARD\n",
    "    \"card_issued_year\",\n",
    "    \"card_issued_month\",\n",
    "    \"card_issued_day\",\n",
    "    \"type_card_other\",\n",
    "    ## DIST\n",
    "    \"city\",\n",
    "    \"region\",\n",
    "    \"id\",\n",
    "    \"region_zone\"\n",
    "]\n"
   ]
  },
  {
   "cell_type": "code",
   "execution_count": 6,
   "metadata": {},
   "outputs": [],
   "source": [
    "all_merged[0].drop(columns=columns_to_drop, axis = 1, inplace = True)"
   ]
  },
  {
   "cell_type": "code",
   "execution_count": 7,
   "metadata": {},
   "outputs": [],
   "source": [
    "all_merged[1].drop(columns=columns_to_drop, axis = 1, inplace = True)"
   ]
  },
  {
   "cell_type": "code",
   "execution_count": 8,
   "metadata": {},
   "outputs": [
    {
     "data": {
      "text/plain": [
       "Index(['loan_id', 'amount', 'duration', 'payments', 'status',\n",
       "       'acc_age_at_loan', 'is_shared', 'sex', 'age', 'num_inhab',\n",
       "       'perc_urban_inhab', 'avg_salary', 'enterp_per_1000', 'num_crimes',\n",
       "       'unemployment', 'unemployment_delta', 'crimes_delta',\n",
       "       'type_card_classic', 'type_card_gold', 'type_card_junior', 'has_card',\n",
       "       'min_balance', 'avg_balance', 'max_balance', 'sanctions',\n",
       "       'negative_balance', 'only_to_na'],\n",
       "      dtype='object')"
      ]
     },
     "execution_count": 8,
     "metadata": {},
     "output_type": "execute_result"
    }
   ],
   "source": [
    "all_merged[0].columns"
   ]
  },
  {
   "cell_type": "code",
   "execution_count": 9,
   "metadata": {},
   "outputs": [],
   "source": [
    "all_merged[0].to_csv(\"dados/ready/comp.csv\", index = False)\n",
    "all_merged[1].to_csv(\"dados/ready/dev.csv\",  index = False)"
   ]
  }
 ],
 "metadata": {
  "kernelspec": {
   "display_name": "Python 3.10.4 64-bit",
   "language": "python",
   "name": "python3"
  },
  "language_info": {
   "codemirror_mode": {
    "name": "ipython",
    "version": 3
   },
   "file_extension": ".py",
   "mimetype": "text/x-python",
   "name": "python",
   "nbconvert_exporter": "python",
   "pygments_lexer": "ipython3",
   "version": "3.10.4"
  },
  "orig_nbformat": 4,
  "vscode": {
   "interpreter": {
    "hash": "d262e7d787343bb66990a00de3e9893afc6af4e1c4b01eb9fd482a95e03b1473"
   }
  }
 },
 "nbformat": 4,
 "nbformat_minor": 2
}
