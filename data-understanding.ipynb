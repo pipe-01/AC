{
 "cells": [
  {
   "cell_type": "markdown",
   "metadata": {},
   "source": [
    "### Data Understanding"
   ]
  },
  {
   "cell_type": "code",
   "execution_count": 15,
   "metadata": {},
   "outputs": [],
   "source": [
    "import matplotlib.pyplot as plt\n",
    "import plotly.graph_objects as go\n",
    "import seaborn as sns\n",
    "import pandas as pd\n",
    "\n",
    "%matplotlib inline"
   ]
  },
  {
   "cell_type": "markdown",
   "metadata": {},
   "source": [
    "Helper function that takes in the name of the table, and return a dataframe with the data"
   ]
  },
  {
   "cell_type": "code",
   "execution_count": 16,
   "metadata": {},
   "outputs": [],
   "source": [
    "def read_csv(filename: str):\n",
    "    return pd.read_csv(\"dados/pre-preocessed/\" + filename + \".csv\", sep=\",\")"
   ]
  },
  {
   "cell_type": "markdown",
   "metadata": {},
   "source": [
    "Helper function that takes in a table and checks how many account ids are repeated"
   ]
  },
  {
   "cell_type": "code",
   "execution_count": 120,
   "metadata": {},
   "outputs": [],
   "source": [
    "def check_repeated(df: pd.DataFrame, table_name: str):\n",
    "    count = df['account_id'].value_counts().values\n",
    "    repeated = [i for i in count if i >= 2]\n",
    "    print(\"Number of repeated account id values in \" + table_name + \": \" + str(len(repeated)))"
   ]
  },
  {
   "cell_type": "code",
   "execution_count": 72,
   "metadata": {},
   "outputs": [],
   "source": [
    "loans = read_csv(\"loan_dev\")"
   ]
  },
  {
   "cell_type": "markdown",
   "metadata": {},
   "source": [
    "### Loans"
   ]
  },
  {
   "cell_type": "markdown",
   "metadata": {},
   "source": [
    "Start by reading the csv to a dataframe. Display first rows to assess the kind of data we're working with"
   ]
  },
  {
   "cell_type": "code",
   "execution_count": 41,
   "metadata": {},
   "outputs": [
    {
     "data": {
      "text/html": [
       "<div>\n",
       "<style scoped>\n",
       "    .dataframe tbody tr th:only-of-type {\n",
       "        vertical-align: middle;\n",
       "    }\n",
       "\n",
       "    .dataframe tbody tr th {\n",
       "        vertical-align: top;\n",
       "    }\n",
       "\n",
       "    .dataframe thead th {\n",
       "        text-align: right;\n",
       "    }\n",
       "</style>\n",
       "<table border=\"1\" class=\"dataframe\">\n",
       "  <thead>\n",
       "    <tr style=\"text-align: right;\">\n",
       "      <th></th>\n",
       "      <th>loan_id</th>\n",
       "      <th>account_id</th>\n",
       "      <th>amount</th>\n",
       "      <th>duration</th>\n",
       "      <th>payments</th>\n",
       "      <th>status</th>\n",
       "      <th>loan_date</th>\n",
       "      <th>loan_year</th>\n",
       "      <th>loan_month</th>\n",
       "      <th>loan_day</th>\n",
       "    </tr>\n",
       "  </thead>\n",
       "  <tbody>\n",
       "    <tr>\n",
       "      <th>0</th>\n",
       "      <td>4959</td>\n",
       "      <td>2</td>\n",
       "      <td>80952</td>\n",
       "      <td>24</td>\n",
       "      <td>3373</td>\n",
       "      <td>1</td>\n",
       "      <td>1994-01-05</td>\n",
       "      <td>1994</td>\n",
       "      <td>1</td>\n",
       "      <td>5</td>\n",
       "    </tr>\n",
       "    <tr>\n",
       "      <th>1</th>\n",
       "      <td>4961</td>\n",
       "      <td>19</td>\n",
       "      <td>30276</td>\n",
       "      <td>12</td>\n",
       "      <td>2523</td>\n",
       "      <td>-1</td>\n",
       "      <td>1996-04-29</td>\n",
       "      <td>1996</td>\n",
       "      <td>4</td>\n",
       "      <td>29</td>\n",
       "    </tr>\n",
       "    <tr>\n",
       "      <th>2</th>\n",
       "      <td>4973</td>\n",
       "      <td>67</td>\n",
       "      <td>165960</td>\n",
       "      <td>24</td>\n",
       "      <td>6915</td>\n",
       "      <td>1</td>\n",
       "      <td>1996-05-02</td>\n",
       "      <td>1996</td>\n",
       "      <td>5</td>\n",
       "      <td>2</td>\n",
       "    </tr>\n",
       "    <tr>\n",
       "      <th>3</th>\n",
       "      <td>4996</td>\n",
       "      <td>132</td>\n",
       "      <td>88440</td>\n",
       "      <td>12</td>\n",
       "      <td>7370</td>\n",
       "      <td>1</td>\n",
       "      <td>1996-11-06</td>\n",
       "      <td>1996</td>\n",
       "      <td>11</td>\n",
       "      <td>6</td>\n",
       "    </tr>\n",
       "    <tr>\n",
       "      <th>4</th>\n",
       "      <td>5002</td>\n",
       "      <td>173</td>\n",
       "      <td>104808</td>\n",
       "      <td>12</td>\n",
       "      <td>8734</td>\n",
       "      <td>1</td>\n",
       "      <td>1994-05-31</td>\n",
       "      <td>1994</td>\n",
       "      <td>5</td>\n",
       "      <td>31</td>\n",
       "    </tr>\n",
       "  </tbody>\n",
       "</table>\n",
       "</div>"
      ],
      "text/plain": [
       "   loan_id  account_id  amount  duration  payments  status   loan_date  \\\n",
       "0     4959           2   80952        24      3373       1  1994-01-05   \n",
       "1     4961          19   30276        12      2523      -1  1996-04-29   \n",
       "2     4973          67  165960        24      6915       1  1996-05-02   \n",
       "3     4996         132   88440        12      7370       1  1996-11-06   \n",
       "4     5002         173  104808        12      8734       1  1994-05-31   \n",
       "\n",
       "   loan_year  loan_month  loan_day  \n",
       "0       1994           1         5  \n",
       "1       1996           4        29  \n",
       "2       1996           5         2  \n",
       "3       1996          11         6  \n",
       "4       1994           5        31  "
      ]
     },
     "execution_count": 41,
     "metadata": {},
     "output_type": "execute_result"
    }
   ],
   "source": [
    "loans = read_csv(\"loan_dev\")\n",
    "loans.head()"
   ]
  },
  {
   "cell_type": "markdown",
   "metadata": {},
   "source": [
    "Let's check for repeated rows. There can be two loans per account, however, there should not be any rows with the same loan_id"
   ]
  },
  {
   "cell_type": "code",
   "execution_count": 18,
   "metadata": {},
   "outputs": [
    {
     "name": "stdout",
     "output_type": "stream",
     "text": [
      "There are 0 duplicated loans\n",
      "Number of account with more than one loan: 0\n"
     ]
    }
   ],
   "source": [
    "duplicated_loan = loans.loan_id.duplicated().any() if loans.loan_id.duplicated().any() else 0\n",
    "loans_per_acc   = loans.account_id.duplicated().any() if loans.account_id.duplicated().any() else 0\n",
    "\n",
    "print (\"There are\", duplicated_loan, \"duplicated loans\")\n",
    "print (\"Number of account with more than one loan:\", loans_per_acc)"
   ]
  },
  {
   "cell_type": "markdown",
   "metadata": {},
   "source": [
    "#### Heatmap\n",
    "\n",
    "Find correlation between attributes using a heatmap"
   ]
  },
  {
   "cell_type": "code",
   "execution_count": 19,
   "metadata": {},
   "outputs": [
    {
     "data": {
      "text/plain": [
       "<AxesSubplot:>"
      ]
     },
     "execution_count": 19,
     "metadata": {},
     "output_type": "execute_result"
    },
    {
     "data": {
      "image/png": "[encoded data removed]",
      "text/plain": [
       "<Figure size 720x720 with 1 Axes>"
      ]
     },
     "metadata": {
      "needs_background": "light"
     },
     "output_type": "display_data"
    }
   ],
   "source": [
    "plt.figure(figsize=(10, 10))\n",
    "sns.heatmap(loans.corr(), annot=True, cbar=False)"
   ]
  },
  {
   "cell_type": "markdown",
   "metadata": {},
   "source": [
    "Status is inversely proportional to payments and amount, which is also expected, as the bigger the loan, the harder it is to pay it.\n",
    "As per observation of the heatmap above, we see that payments, duration and amount of loan are correlated, as per expected."
   ]
  },
  {
   "cell_type": "markdown",
   "metadata": {},
   "source": [
    "#### Variable distribution"
   ]
  },
  {
   "cell_type": "markdown",
   "metadata": {},
   "source": [
    "So let's analyse the distribution of values for amount and payments with two histograms."
   ]
  },
  {
   "cell_type": "code",
   "execution_count": 22,
   "metadata": {},
   "outputs": [
    {
     "data": {
      "text/plain": [
       "<AxesSubplot:xlabel='payments', ylabel='Count'>"
      ]
     },
     "execution_count": 22,
     "metadata": {},
     "output_type": "execute_result"
    },
    {
     "data": {
      "image/png": "[encoded data removed]",
      "text/plain": [
       "<Figure size 432x288 with 2 Axes>"
      ]
     },
     "metadata": {
      "needs_background": "light"
     },
     "output_type": "display_data"
    }
   ],
   "source": [
    "fig, ax = plt.subplots(1,2)\n",
    "\n",
    "# Create the graphics\n",
    "sns.histplot(data=loans, x='amount', ax=ax[0])\n",
    "sns.histplot(data=loans, x='payments', ax=ax[1])"
   ]
  },
  {
   "cell_type": "markdown",
   "metadata": {},
   "source": [
    "We can also see the valid values for duration."
   ]
  },
  {
   "cell_type": "code",
   "execution_count": 35,
   "metadata": {},
   "outputs": [
    {
     "name": "stdout",
     "output_type": "stream",
     "text": [
      "Loan Durations [24, 12, 48, 60, 36]\n"
     ]
    }
   ],
   "source": [
    "print(\"Loan Durations\", loans.duration.unique().tolist())"
   ]
  },
  {
   "cell_type": "markdown",
   "metadata": {},
   "source": [
    "As we can see above, these correspond to years, so let's convert them"
   ]
  },
  {
   "cell_type": "code",
   "execution_count": 45,
   "metadata": {},
   "outputs": [
    {
     "data": {
      "text/plain": [
       "<AxesSubplot:xlabel='duration', ylabel='Count'>"
      ]
     },
     "execution_count": 45,
     "metadata": {},
     "output_type": "execute_result"
    },
    {
     "data": {
      "image/png": "[encoded data removed]",
      "text/plain": [
       "<Figure size 432x288 with 1 Axes>"
      ]
     },
     "metadata": {
      "needs_background": "light"
     },
     "output_type": "display_data"
    }
   ],
   "source": [
    "loans.duration = (loans.duration / 12).astype('int')\n",
    "sns.histplot(data=loans, x='duration', discrete=True)"
   ]
  },
  {
   "cell_type": "markdown",
   "metadata": {},
   "source": [
    "No issues, looks balanced"
   ]
  },
  {
   "cell_type": "markdown",
   "metadata": {},
   "source": [
    "### Dispostion"
   ]
  },
  {
   "cell_type": "code",
   "execution_count": 46,
   "metadata": {},
   "outputs": [
    {
     "data": {
      "text/html": [
       "<div>\n",
       "<style scoped>\n",
       "    .dataframe tbody tr th:only-of-type {\n",
       "        vertical-align: middle;\n",
       "    }\n",
       "\n",
       "    .dataframe tbody tr th {\n",
       "        vertical-align: top;\n",
       "    }\n",
       "\n",
       "    .dataframe thead th {\n",
       "        text-align: right;\n",
       "    }\n",
       "</style>\n",
       "<table border=\"1\" class=\"dataframe\">\n",
       "  <thead>\n",
       "    <tr style=\"text-align: right;\">\n",
       "      <th></th>\n",
       "      <th>disp_id</th>\n",
       "      <th>client_id</th>\n",
       "      <th>account_id</th>\n",
       "      <th>type</th>\n",
       "    </tr>\n",
       "  </thead>\n",
       "  <tbody>\n",
       "    <tr>\n",
       "      <th>0</th>\n",
       "      <td>1</td>\n",
       "      <td>1</td>\n",
       "      <td>1</td>\n",
       "      <td>owner</td>\n",
       "    </tr>\n",
       "    <tr>\n",
       "      <th>1</th>\n",
       "      <td>2</td>\n",
       "      <td>2</td>\n",
       "      <td>2</td>\n",
       "      <td>owner</td>\n",
       "    </tr>\n",
       "    <tr>\n",
       "      <th>2</th>\n",
       "      <td>3</td>\n",
       "      <td>3</td>\n",
       "      <td>2</td>\n",
       "      <td>disponent</td>\n",
       "    </tr>\n",
       "    <tr>\n",
       "      <th>3</th>\n",
       "      <td>4</td>\n",
       "      <td>4</td>\n",
       "      <td>3</td>\n",
       "      <td>owner</td>\n",
       "    </tr>\n",
       "    <tr>\n",
       "      <th>4</th>\n",
       "      <td>5</td>\n",
       "      <td>5</td>\n",
       "      <td>3</td>\n",
       "      <td>disponent</td>\n",
       "    </tr>\n",
       "  </tbody>\n",
       "</table>\n",
       "</div>"
      ],
      "text/plain": [
       "   disp_id  client_id  account_id       type\n",
       "0        1          1           1      owner\n",
       "1        2          2           2      owner\n",
       "2        3          3           2  disponent\n",
       "3        4          4           3      owner\n",
       "4        5          5           3  disponent"
      ]
     },
     "execution_count": 46,
     "metadata": {},
     "output_type": "execute_result"
    }
   ],
   "source": [
    "disp = read_csv(\"disp\")\n",
    "disp.head()"
   ]
  },
  {
   "cell_type": "markdown",
   "metadata": {},
   "source": [
    "As per the discription of the table, the tuple (client_id, disp_id) should be unique. However, one account might have one or more client_ids\n",
    "\n",
    "We will check for repetead values in all columns mentionted above"
   ]
  },
  {
   "cell_type": "code",
   "execution_count": 121,
   "metadata": {},
   "outputs": [
    {
     "name": "stdout",
     "output_type": "stream",
     "text": [
      "Duplicates in disp_id:\t\t0\n",
      "Duplicates in client_id:\t0\n",
      "Number of repeated account id values in dispostion: 869\n",
      "Owner:    4500\n",
      "Disponent: 869\n"
     ]
    }
   ],
   "source": [
    "print(\"Duplicates in disp_id:\\t\\t%d\" %disp['disp_id'].duplicated().any())\n",
    "print(\"Duplicates in client_id:\\t%d\" %disp['client_id'].duplicated().any())\n",
    "check_repeated(disp, \"dispostion\")\n",
    "\n",
    "owner = disp['type'].str.count(\"owner\")\n",
    "print(\"Owner:   \", owner.sum())\n",
    "print(\"Disponent:\", owner.count() - owner.sum())\n"
   ]
  },
  {
   "cell_type": "markdown",
   "metadata": {},
   "source": [
    "There are no repeated client_id or account_id so there's no issues yet. The rest makes sense as there are 869 clients who are the disponent of an account and, there are exactly 869 repeated account ids"
   ]
  },
  {
   "cell_type": "markdown",
   "metadata": {},
   "source": [
    "#### Heatmap"
   ]
  },
  {
   "cell_type": "markdown",
   "metadata": {},
   "source": [
    "Let's merge dispostion and loan so that we can better assess correlation between varibales "
   ]
  },
  {
   "cell_type": "code",
   "execution_count": 73,
   "metadata": {},
   "outputs": [
    {
     "name": "stdout",
     "output_type": "stream",
     "text": [
      "   account_id  status  disp_id  client_id       type\n",
      "0           2       1        2          2      owner\n",
      "1           2       1        3          3  disponent\n",
      "2          19      -1       25         25      owner\n",
      "3          67       1       78         78      owner\n",
      "4         132       1      158        158      owner\n"
     ]
    }
   ],
   "source": [
    "loans_ = loans[['account_id', 'status']]\n",
    "loans_disp= loans_.merge(right=disp, how='inner', on='account_id')\n",
    "print(loans_disp.head())"
   ]
  },
  {
   "cell_type": "markdown",
   "metadata": {},
   "source": [
    "To use the type in the heatmap, we need to convert it to a numerical value"
   ]
  },
  {
   "cell_type": "code",
   "execution_count": 74,
   "metadata": {},
   "outputs": [
    {
     "name": "stdout",
     "output_type": "stream",
     "text": [
      "     account_id  status  disp_id  client_id  type\n",
      "398       11265       1    13537      13845     0\n",
      "399       11349       1    13647      13955     0\n",
      "400       11349       1    13648      13956     1\n",
      "401       11359       1    13660      13968     0\n",
      "402       11362       1    13663      13971     0\n"
     ]
    }
   ],
   "source": [
    "loans_disp[\"type\"].replace([\"owner\", \"disponent\"], [0, 1], inplace =True)\n",
    "print(loans_disp.tail())"
   ]
  },
  {
   "cell_type": "code",
   "execution_count": 75,
   "metadata": {},
   "outputs": [
    {
     "data": {
      "text/plain": [
       "<AxesSubplot:>"
      ]
     },
     "execution_count": 75,
     "metadata": {},
     "output_type": "execute_result"
    },
    {
     "data": {
      "image/png": "[encoded data removed]",
      "text/plain": [
       "<Figure size 720x720 with 1 Axes>"
      ]
     },
     "metadata": {
      "needs_background": "light"
     },
     "output_type": "display_data"
    }
   ],
   "source": [
    "plt.figure(figsize=(10, 10))\n",
    "sns.heatmap(loans_disp.corr(), annot=True, cbar=False)"
   ]
  },
  {
   "cell_type": "markdown",
   "metadata": {},
   "source": [
    "### Account"
   ]
  },
  {
   "cell_type": "code",
   "execution_count": 71,
   "metadata": {},
   "outputs": [
    {
     "data": {
      "text/html": [
       "<div>\n",
       "<style scoped>\n",
       "    .dataframe tbody tr th:only-of-type {\n",
       "        vertical-align: middle;\n",
       "    }\n",
       "\n",
       "    .dataframe tbody tr th {\n",
       "        vertical-align: top;\n",
       "    }\n",
       "\n",
       "    .dataframe thead th {\n",
       "        text-align: right;\n",
       "    }\n",
       "</style>\n",
       "<table border=\"1\" class=\"dataframe\">\n",
       "  <thead>\n",
       "    <tr style=\"text-align: right;\">\n",
       "      <th></th>\n",
       "      <th>account_id</th>\n",
       "      <th>district_id</th>\n",
       "      <th>frequency</th>\n",
       "      <th>acc_creation_date</th>\n",
       "      <th>acc_creation_year</th>\n",
       "      <th>acc_creation_month</th>\n",
       "      <th>acc_creation_day</th>\n",
       "    </tr>\n",
       "  </thead>\n",
       "  <tbody>\n",
       "    <tr>\n",
       "      <th>0</th>\n",
       "      <td>1</td>\n",
       "      <td>18</td>\n",
       "      <td>monthly issuance</td>\n",
       "      <td>1995-03-24</td>\n",
       "      <td>1995</td>\n",
       "      <td>3</td>\n",
       "      <td>24</td>\n",
       "    </tr>\n",
       "    <tr>\n",
       "      <th>1</th>\n",
       "      <td>2</td>\n",
       "      <td>1</td>\n",
       "      <td>monthly issuance</td>\n",
       "      <td>1993-02-26</td>\n",
       "      <td>1993</td>\n",
       "      <td>2</td>\n",
       "      <td>26</td>\n",
       "    </tr>\n",
       "    <tr>\n",
       "      <th>2</th>\n",
       "      <td>3</td>\n",
       "      <td>5</td>\n",
       "      <td>monthly issuance</td>\n",
       "      <td>1997-07-07</td>\n",
       "      <td>1997</td>\n",
       "      <td>7</td>\n",
       "      <td>7</td>\n",
       "    </tr>\n",
       "    <tr>\n",
       "      <th>3</th>\n",
       "      <td>4</td>\n",
       "      <td>12</td>\n",
       "      <td>monthly issuance</td>\n",
       "      <td>1996-02-21</td>\n",
       "      <td>1996</td>\n",
       "      <td>2</td>\n",
       "      <td>21</td>\n",
       "    </tr>\n",
       "    <tr>\n",
       "      <th>4</th>\n",
       "      <td>5</td>\n",
       "      <td>15</td>\n",
       "      <td>monthly issuance</td>\n",
       "      <td>1997-05-30</td>\n",
       "      <td>1997</td>\n",
       "      <td>5</td>\n",
       "      <td>30</td>\n",
       "    </tr>\n",
       "  </tbody>\n",
       "</table>\n",
       "</div>"
      ],
      "text/plain": [
       "   account_id  district_id         frequency acc_creation_date  \\\n",
       "0           1           18  monthly issuance        1995-03-24   \n",
       "1           2            1  monthly issuance        1993-02-26   \n",
       "2           3            5  monthly issuance        1997-07-07   \n",
       "3           4           12  monthly issuance        1996-02-21   \n",
       "4           5           15  monthly issuance        1997-05-30   \n",
       "\n",
       "   acc_creation_year  acc_creation_month  acc_creation_day  \n",
       "0               1995                   3                24  \n",
       "1               1993                   2                26  \n",
       "2               1997                   7                 7  \n",
       "3               1996                   2                21  \n",
       "4               1997                   5                30  "
      ]
     },
     "execution_count": 71,
     "metadata": {},
     "output_type": "execute_result"
    }
   ],
   "source": [
    "accounts = read_csv('account')\n",
    "accounts.head()"
   ]
  },
  {
   "cell_type": "markdown",
   "metadata": {},
   "source": [
    "Merge with the loans dataset"
   ]
  },
  {
   "cell_type": "code",
   "execution_count": 77,
   "metadata": {},
   "outputs": [
    {
     "data": {
      "text/html": [
       "<div>\n",
       "<style scoped>\n",
       "    .dataframe tbody tr th:only-of-type {\n",
       "        vertical-align: middle;\n",
       "    }\n",
       "\n",
       "    .dataframe tbody tr th {\n",
       "        vertical-align: top;\n",
       "    }\n",
       "\n",
       "    .dataframe thead th {\n",
       "        text-align: right;\n",
       "    }\n",
       "</style>\n",
       "<table border=\"1\" class=\"dataframe\">\n",
       "  <thead>\n",
       "    <tr style=\"text-align: right;\">\n",
       "      <th></th>\n",
       "      <th>loan_id</th>\n",
       "      <th>account_id</th>\n",
       "      <th>amount</th>\n",
       "      <th>duration</th>\n",
       "      <th>payments</th>\n",
       "      <th>status</th>\n",
       "      <th>loan_date</th>\n",
       "      <th>loan_year</th>\n",
       "      <th>loan_month</th>\n",
       "      <th>loan_day</th>\n",
       "      <th>district_id</th>\n",
       "      <th>frequency</th>\n",
       "      <th>acc_creation_date</th>\n",
       "      <th>acc_creation_year</th>\n",
       "      <th>acc_creation_month</th>\n",
       "      <th>acc_creation_day</th>\n",
       "    </tr>\n",
       "  </thead>\n",
       "  <tbody>\n",
       "    <tr>\n",
       "      <th>0</th>\n",
       "      <td>4959</td>\n",
       "      <td>2</td>\n",
       "      <td>80952</td>\n",
       "      <td>24</td>\n",
       "      <td>3373</td>\n",
       "      <td>1</td>\n",
       "      <td>1994-01-05</td>\n",
       "      <td>1994</td>\n",
       "      <td>1</td>\n",
       "      <td>5</td>\n",
       "      <td>1</td>\n",
       "      <td>monthly issuance</td>\n",
       "      <td>1993-02-26</td>\n",
       "      <td>1993</td>\n",
       "      <td>2</td>\n",
       "      <td>26</td>\n",
       "    </tr>\n",
       "    <tr>\n",
       "      <th>1</th>\n",
       "      <td>4961</td>\n",
       "      <td>19</td>\n",
       "      <td>30276</td>\n",
       "      <td>12</td>\n",
       "      <td>2523</td>\n",
       "      <td>-1</td>\n",
       "      <td>1996-04-29</td>\n",
       "      <td>1996</td>\n",
       "      <td>4</td>\n",
       "      <td>29</td>\n",
       "      <td>21</td>\n",
       "      <td>monthly issuance</td>\n",
       "      <td>1995-04-07</td>\n",
       "      <td>1995</td>\n",
       "      <td>4</td>\n",
       "      <td>7</td>\n",
       "    </tr>\n",
       "    <tr>\n",
       "      <th>2</th>\n",
       "      <td>4973</td>\n",
       "      <td>67</td>\n",
       "      <td>165960</td>\n",
       "      <td>24</td>\n",
       "      <td>6915</td>\n",
       "      <td>1</td>\n",
       "      <td>1996-05-02</td>\n",
       "      <td>1996</td>\n",
       "      <td>5</td>\n",
       "      <td>2</td>\n",
       "      <td>16</td>\n",
       "      <td>monthly issuance</td>\n",
       "      <td>1994-10-19</td>\n",
       "      <td>1994</td>\n",
       "      <td>10</td>\n",
       "      <td>19</td>\n",
       "    </tr>\n",
       "    <tr>\n",
       "      <th>3</th>\n",
       "      <td>4996</td>\n",
       "      <td>132</td>\n",
       "      <td>88440</td>\n",
       "      <td>12</td>\n",
       "      <td>7370</td>\n",
       "      <td>1</td>\n",
       "      <td>1996-11-06</td>\n",
       "      <td>1996</td>\n",
       "      <td>11</td>\n",
       "      <td>6</td>\n",
       "      <td>40</td>\n",
       "      <td>issuance after transaction</td>\n",
       "      <td>1996-05-11</td>\n",
       "      <td>1996</td>\n",
       "      <td>5</td>\n",
       "      <td>11</td>\n",
       "    </tr>\n",
       "    <tr>\n",
       "      <th>4</th>\n",
       "      <td>5002</td>\n",
       "      <td>173</td>\n",
       "      <td>104808</td>\n",
       "      <td>12</td>\n",
       "      <td>8734</td>\n",
       "      <td>1</td>\n",
       "      <td>1994-05-31</td>\n",
       "      <td>1994</td>\n",
       "      <td>5</td>\n",
       "      <td>31</td>\n",
       "      <td>66</td>\n",
       "      <td>monthly issuance</td>\n",
       "      <td>1993-11-26</td>\n",
       "      <td>1993</td>\n",
       "      <td>11</td>\n",
       "      <td>26</td>\n",
       "    </tr>\n",
       "  </tbody>\n",
       "</table>\n",
       "</div>"
      ],
      "text/plain": [
       "   loan_id  account_id  amount  duration  payments  status   loan_date  \\\n",
       "0     4959           2   80952        24      3373       1  1994-01-05   \n",
       "1     4961          19   30276        12      2523      -1  1996-04-29   \n",
       "2     4973          67  165960        24      6915       1  1996-05-02   \n",
       "3     4996         132   88440        12      7370       1  1996-11-06   \n",
       "4     5002         173  104808        12      8734       1  1994-05-31   \n",
       "\n",
       "   loan_year  loan_month  loan_day  district_id                   frequency  \\\n",
       "0       1994           1         5            1            monthly issuance   \n",
       "1       1996           4        29           21            monthly issuance   \n",
       "2       1996           5         2           16            monthly issuance   \n",
       "3       1996          11         6           40  issuance after transaction   \n",
       "4       1994           5        31           66            monthly issuance   \n",
       "\n",
       "  acc_creation_date  acc_creation_year  acc_creation_month  acc_creation_day  \n",
       "0        1993-02-26               1993                   2                26  \n",
       "1        1995-04-07               1995                   4                 7  \n",
       "2        1994-10-19               1994                  10                19  \n",
       "3        1996-05-11               1996                   5                11  \n",
       "4        1993-11-26               1993                  11                26  "
      ]
     },
     "execution_count": 77,
     "metadata": {},
     "output_type": "execute_result"
    }
   ],
   "source": [
    "loan_accounts = pd.merge(loans, accounts, how=\"left\", on=[\"account_id\"])\n",
    "loan_accounts.head()"
   ]
  },
  {
   "cell_type": "markdown",
   "metadata": {},
   "source": [
    "We can also create new variables to better visualise the data, as the account age that is the subtraction of the year of the loan and the year of the creation of the account"
   ]
  },
  {
   "cell_type": "code",
   "execution_count": 82,
   "metadata": {},
   "outputs": [],
   "source": [
    "loan_accounts[\"acc_age\"] = loan_accounts.loan_year - loan_accounts.acc_creation_year"
   ]
  },
  {
   "cell_type": "markdown",
   "metadata": {},
   "source": [
    "#### Heatmap"
   ]
  },
  {
   "cell_type": "code",
   "execution_count": 83,
   "metadata": {},
   "outputs": [
    {
     "data": {
      "text/plain": [
       "<AxesSubplot:>"
      ]
     },
     "execution_count": 83,
     "metadata": {},
     "output_type": "execute_result"
    },
    {
     "data": {
      "image/png": "[encoded data removed]",
      "text/plain": [
       "<Figure size 720x720 with 1 Axes>"
      ]
     },
     "metadata": {
      "needs_background": "light"
     },
     "output_type": "display_data"
    }
   ],
   "source": [
    "plt.figure(figsize=(10, 10))\n",
    "sns.heatmap(loan_accounts.corr(), annot=True, cbar=False)"
   ]
  },
  {
   "cell_type": "markdown",
   "metadata": {},
   "source": [
    "We can observe a correlation between acc_creation_year and loan_year, let's dive further"
   ]
  },
  {
   "cell_type": "code",
   "execution_count": 84,
   "metadata": {},
   "outputs": [
    {
     "data": {
      "text/plain": [
       "<AxesSubplot:xlabel='acc_age', ylabel='Count'>"
      ]
     },
     "execution_count": 84,
     "metadata": {},
     "output_type": "execute_result"
    },
    {
     "data": {
      "image/png": "[encoded data removed]",
      "text/plain": [
       "<Figure size 432x288 with 2 Axes>"
      ]
     },
     "metadata": {
      "needs_background": "light"
     },
     "output_type": "display_data"
    }
   ],
   "source": [
    "fig, ax = plt.subplots(1,2)\n",
    "\n",
    "# Create the graphics\n",
    "sns.histplot(data=loan_accounts, x='acc_creation_year', discrete=True, ax=ax[0])\n",
    "sns.histplot(data=loan_accounts, x='acc_age', discrete=True, ax=ax[1])"
   ]
  },
  {
   "cell_type": "markdown",
   "metadata": {},
   "source": [
    "### Card"
   ]
  },
  {
   "cell_type": "code",
   "execution_count": 86,
   "metadata": {},
   "outputs": [
    {
     "data": {
      "text/html": [
       "<div>\n",
       "<style scoped>\n",
       "    .dataframe tbody tr th:only-of-type {\n",
       "        vertical-align: middle;\n",
       "    }\n",
       "\n",
       "    .dataframe tbody tr th {\n",
       "        vertical-align: top;\n",
       "    }\n",
       "\n",
       "    .dataframe thead th {\n",
       "        text-align: right;\n",
       "    }\n",
       "</style>\n",
       "<table border=\"1\" class=\"dataframe\">\n",
       "  <thead>\n",
       "    <tr style=\"text-align: right;\">\n",
       "      <th></th>\n",
       "      <th>card_id</th>\n",
       "      <th>disp_id</th>\n",
       "      <th>type</th>\n",
       "      <th>card_issued_date</th>\n",
       "      <th>card_issued_year</th>\n",
       "      <th>card_issued_month</th>\n",
       "      <th>card_issued_day</th>\n",
       "    </tr>\n",
       "  </thead>\n",
       "  <tbody>\n",
       "    <tr>\n",
       "      <th>172</th>\n",
       "      <td>1164</td>\n",
       "      <td>12269</td>\n",
       "      <td>classic</td>\n",
       "      <td>1996-08-12</td>\n",
       "      <td>1996</td>\n",
       "      <td>8</td>\n",
       "      <td>12</td>\n",
       "    </tr>\n",
       "    <tr>\n",
       "      <th>173</th>\n",
       "      <td>1176</td>\n",
       "      <td>12502</td>\n",
       "      <td>gold</td>\n",
       "      <td>1996-07-03</td>\n",
       "      <td>1996</td>\n",
       "      <td>7</td>\n",
       "      <td>3</td>\n",
       "    </tr>\n",
       "    <tr>\n",
       "      <th>174</th>\n",
       "      <td>1187</td>\n",
       "      <td>12635</td>\n",
       "      <td>gold</td>\n",
       "      <td>1996-07-17</td>\n",
       "      <td>1996</td>\n",
       "      <td>7</td>\n",
       "      <td>17</td>\n",
       "    </tr>\n",
       "    <tr>\n",
       "      <th>175</th>\n",
       "      <td>1225</td>\n",
       "      <td>13268</td>\n",
       "      <td>classic</td>\n",
       "      <td>1995-11-22</td>\n",
       "      <td>1995</td>\n",
       "      <td>11</td>\n",
       "      <td>22</td>\n",
       "    </tr>\n",
       "    <tr>\n",
       "      <th>176</th>\n",
       "      <td>1247</td>\n",
       "      <td>13660</td>\n",
       "      <td>classic</td>\n",
       "      <td>1995-06-13</td>\n",
       "      <td>1995</td>\n",
       "      <td>6</td>\n",
       "      <td>13</td>\n",
       "    </tr>\n",
       "  </tbody>\n",
       "</table>\n",
       "</div>"
      ],
      "text/plain": [
       "     card_id  disp_id     type card_issued_date  card_issued_year  \\\n",
       "172     1164    12269  classic       1996-08-12              1996   \n",
       "173     1176    12502     gold       1996-07-03              1996   \n",
       "174     1187    12635     gold       1996-07-17              1996   \n",
       "175     1225    13268  classic       1995-11-22              1995   \n",
       "176     1247    13660  classic       1995-06-13              1995   \n",
       "\n",
       "     card_issued_month  card_issued_day  \n",
       "172                  8               12  \n",
       "173                  7                3  \n",
       "174                  7               17  \n",
       "175                 11               22  \n",
       "176                  6               13  "
      ]
     },
     "execution_count": 86,
     "metadata": {},
     "output_type": "execute_result"
    }
   ],
   "source": [
    "cards = read_csv('card_dev')\n",
    "cards.tail()"
   ]
  },
  {
   "cell_type": "markdown",
   "metadata": {},
   "source": [
    "Merge card table with dispotion and loan to check for variable correlation"
   ]
  },
  {
   "cell_type": "code",
   "execution_count": 87,
   "metadata": {},
   "outputs": [
    {
     "data": {
      "text/html": [
       "<div>\n",
       "<style scoped>\n",
       "    .dataframe tbody tr th:only-of-type {\n",
       "        vertical-align: middle;\n",
       "    }\n",
       "\n",
       "    .dataframe tbody tr th {\n",
       "        vertical-align: top;\n",
       "    }\n",
       "\n",
       "    .dataframe thead th {\n",
       "        text-align: right;\n",
       "    }\n",
       "</style>\n",
       "<table border=\"1\" class=\"dataframe\">\n",
       "  <thead>\n",
       "    <tr style=\"text-align: right;\">\n",
       "      <th></th>\n",
       "      <th>loan_id</th>\n",
       "      <th>account_id</th>\n",
       "      <th>amount</th>\n",
       "      <th>duration</th>\n",
       "      <th>payments</th>\n",
       "      <th>status</th>\n",
       "      <th>loan_date</th>\n",
       "      <th>loan_year</th>\n",
       "      <th>loan_month</th>\n",
       "      <th>loan_day</th>\n",
       "      <th>card_id</th>\n",
       "      <th>disp_id</th>\n",
       "      <th>type_x</th>\n",
       "      <th>card_issued_date</th>\n",
       "      <th>card_issued_year</th>\n",
       "      <th>card_issued_month</th>\n",
       "      <th>card_issued_day</th>\n",
       "      <th>client_id</th>\n",
       "      <th>type_y</th>\n",
       "    </tr>\n",
       "  </thead>\n",
       "  <tbody>\n",
       "    <tr>\n",
       "      <th>0</th>\n",
       "      <td>5088</td>\n",
       "      <td>544</td>\n",
       "      <td>91152</td>\n",
       "      <td>24</td>\n",
       "      <td>3798</td>\n",
       "      <td>1</td>\n",
       "      <td>1996-08-22</td>\n",
       "      <td>1996</td>\n",
       "      <td>8</td>\n",
       "      <td>22</td>\n",
       "      <td>119</td>\n",
       "      <td>655</td>\n",
       "      <td>classic</td>\n",
       "      <td>1996-08-08</td>\n",
       "      <td>1996</td>\n",
       "      <td>8</td>\n",
       "      <td>8</td>\n",
       "      <td>655</td>\n",
       "      <td>owner</td>\n",
       "    </tr>\n",
       "    <tr>\n",
       "      <th>1</th>\n",
       "      <td>5311</td>\n",
       "      <td>1766</td>\n",
       "      <td>30060</td>\n",
       "      <td>60</td>\n",
       "      <td>501</td>\n",
       "      <td>1</td>\n",
       "      <td>1996-06-15</td>\n",
       "      <td>1996</td>\n",
       "      <td>6</td>\n",
       "      <td>15</td>\n",
       "      <td>337</td>\n",
       "      <td>2141</td>\n",
       "      <td>classic</td>\n",
       "      <td>1996-01-01</td>\n",
       "      <td>1996</td>\n",
       "      <td>1</td>\n",
       "      <td>1</td>\n",
       "      <td>2141</td>\n",
       "      <td>owner</td>\n",
       "    </tr>\n",
       "    <tr>\n",
       "      <th>2</th>\n",
       "      <td>5595</td>\n",
       "      <td>3050</td>\n",
       "      <td>82896</td>\n",
       "      <td>12</td>\n",
       "      <td>6908</td>\n",
       "      <td>1</td>\n",
       "      <td>1994-09-02</td>\n",
       "      <td>1994</td>\n",
       "      <td>9</td>\n",
       "      <td>2</td>\n",
       "      <td>577</td>\n",
       "      <td>3687</td>\n",
       "      <td>classic</td>\n",
       "      <td>1994-02-15</td>\n",
       "      <td>1994</td>\n",
       "      <td>2</td>\n",
       "      <td>15</td>\n",
       "      <td>3687</td>\n",
       "      <td>owner</td>\n",
       "    </tr>\n",
       "    <tr>\n",
       "      <th>3</th>\n",
       "      <td>5900</td>\n",
       "      <td>4503</td>\n",
       "      <td>135360</td>\n",
       "      <td>48</td>\n",
       "      <td>2820</td>\n",
       "      <td>1</td>\n",
       "      <td>1996-01-01</td>\n",
       "      <td>1996</td>\n",
       "      <td>1</td>\n",
       "      <td>1</td>\n",
       "      <td>783</td>\n",
       "      <td>5433</td>\n",
       "      <td>junior</td>\n",
       "      <td>1995-10-24</td>\n",
       "      <td>1995</td>\n",
       "      <td>10</td>\n",
       "      <td>24</td>\n",
       "      <td>5433</td>\n",
       "      <td>owner</td>\n",
       "    </tr>\n",
       "    <tr>\n",
       "      <th>4</th>\n",
       "      <td>6550</td>\n",
       "      <td>7614</td>\n",
       "      <td>320592</td>\n",
       "      <td>48</td>\n",
       "      <td>6679</td>\n",
       "      <td>1</td>\n",
       "      <td>1996-05-18</td>\n",
       "      <td>1996</td>\n",
       "      <td>5</td>\n",
       "      <td>18</td>\n",
       "      <td>989</td>\n",
       "      <td>9119</td>\n",
       "      <td>classic</td>\n",
       "      <td>1996-02-21</td>\n",
       "      <td>1996</td>\n",
       "      <td>2</td>\n",
       "      <td>21</td>\n",
       "      <td>9427</td>\n",
       "      <td>owner</td>\n",
       "    </tr>\n",
       "  </tbody>\n",
       "</table>\n",
       "</div>"
      ],
      "text/plain": [
       "   loan_id  account_id  amount  duration  payments  status   loan_date  \\\n",
       "0     5088         544   91152        24      3798       1  1996-08-22   \n",
       "1     5311        1766   30060        60       501       1  1996-06-15   \n",
       "2     5595        3050   82896        12      6908       1  1994-09-02   \n",
       "3     5900        4503  135360        48      2820       1  1996-01-01   \n",
       "4     6550        7614  320592        48      6679       1  1996-05-18   \n",
       "\n",
       "   loan_year  loan_month  loan_day  card_id  disp_id   type_x  \\\n",
       "0       1996           8        22      119      655  classic   \n",
       "1       1996           6        15      337     2141  classic   \n",
       "2       1994           9         2      577     3687  classic   \n",
       "3       1996           1         1      783     5433   junior   \n",
       "4       1996           5        18      989     9119  classic   \n",
       "\n",
       "  card_issued_date  card_issued_year  card_issued_month  card_issued_day  \\\n",
       "0       1996-08-08              1996                  8                8   \n",
       "1       1996-01-01              1996                  1                1   \n",
       "2       1994-02-15              1994                  2               15   \n",
       "3       1995-10-24              1995                 10               24   \n",
       "4       1996-02-21              1996                  2               21   \n",
       "\n",
       "   client_id type_y  \n",
       "0        655  owner  \n",
       "1       2141  owner  \n",
       "2       3687  owner  \n",
       "3       5433  owner  \n",
       "4       9427  owner  "
      ]
     },
     "execution_count": 87,
     "metadata": {},
     "output_type": "execute_result"
    }
   ],
   "source": [
    "## Read disposition\n",
    "disps = read_csv('disp')\n",
    "\n",
    "## Merge card df with disposition\n",
    "card_disps = pd.merge(cards, disps, how=\"left\", on=\"disp_id\")\n",
    "\n",
    "## Merge the new df with loans\n",
    "loan_cards = pd.merge(loans, card_disps, how=\"inner\", on=\"account_id\")\n",
    "\n",
    "loan_cards.head()"
   ]
  },
  {
   "cell_type": "markdown",
   "metadata": {},
   "source": [
    "#### Heatmap"
   ]
  },
  {
   "cell_type": "code",
   "execution_count": 88,
   "metadata": {},
   "outputs": [
    {
     "data": {
      "text/plain": [
       "<AxesSubplot:>"
      ]
     },
     "execution_count": 88,
     "metadata": {},
     "output_type": "execute_result"
    },
    {
     "data": {
      "image/png": "[encoded data removed]",
      "text/plain": [
       "<Figure size 720x720 with 1 Axes>"
      ]
     },
     "metadata": {
      "needs_background": "light"
     },
     "output_type": "display_data"
    }
   ],
   "source": [
    "plt.figure(figsize=(10, 10))\n",
    "sns.heatmap(loan_cards.corr(), annot=True, cbar=False)"
   ]
  },
  {
   "cell_type": "markdown",
   "metadata": {},
   "source": [
    "### Client"
   ]
  },
  {
   "cell_type": "code",
   "execution_count": 96,
   "metadata": {},
   "outputs": [],
   "source": [
    "def check_invalid_year(years: list):\n",
    "    valid = range(1900, 2000)\n",
    "    invalid = 0\n",
    "    for year in years:\n",
    "        if year not in valid:\n",
    "            invalid = invalid + 1\n",
    "    \n",
    "    return invalid"
   ]
  },
  {
   "cell_type": "code",
   "execution_count": 100,
   "metadata": {},
   "outputs": [],
   "source": [
    "def check_invalid_month(months: list):\n",
    "    valid = range(1, 13)\n",
    "    invalid = 0\n",
    "    for month in months:\n",
    "        if month not in valid:\n",
    "            invalid = invalid + 1\n",
    "    \n",
    "    return invalid"
   ]
  },
  {
   "cell_type": "code",
   "execution_count": 98,
   "metadata": {},
   "outputs": [],
   "source": [
    "def check_invalid_day(days: list):\n",
    "    valid = range(1, 32)\n",
    "    invalid = 0\n",
    "    for day in days:\n",
    "        if day not in valid:\n",
    "            invalid = invalid + 1\n",
    "    \n",
    "    return invalid"
   ]
  },
  {
   "cell_type": "code",
   "execution_count": 91,
   "metadata": {},
   "outputs": [
    {
     "data": {
      "text/html": [
       "<div>\n",
       "<style scoped>\n",
       "    .dataframe tbody tr th:only-of-type {\n",
       "        vertical-align: middle;\n",
       "    }\n",
       "\n",
       "    .dataframe tbody tr th {\n",
       "        vertical-align: top;\n",
       "    }\n",
       "\n",
       "    .dataframe thead th {\n",
       "        text-align: right;\n",
       "    }\n",
       "</style>\n",
       "<table border=\"1\" class=\"dataframe\">\n",
       "  <thead>\n",
       "    <tr style=\"text-align: right;\">\n",
       "      <th></th>\n",
       "      <th>client_id</th>\n",
       "      <th>district_id</th>\n",
       "      <th>birthdate</th>\n",
       "      <th>birthdate_year</th>\n",
       "      <th>birthdate_month</th>\n",
       "      <th>birthdate_day</th>\n",
       "      <th>sex</th>\n",
       "    </tr>\n",
       "  </thead>\n",
       "  <tbody>\n",
       "    <tr>\n",
       "      <th>5364</th>\n",
       "      <td>13955</td>\n",
       "      <td>1</td>\n",
       "      <td>1945-60-30</td>\n",
       "      <td>1945</td>\n",
       "      <td>10</td>\n",
       "      <td>30</td>\n",
       "      <td>f</td>\n",
       "    </tr>\n",
       "    <tr>\n",
       "      <th>5365</th>\n",
       "      <td>13956</td>\n",
       "      <td>1</td>\n",
       "      <td>1943-04-06</td>\n",
       "      <td>1943</td>\n",
       "      <td>4</td>\n",
       "      <td>6</td>\n",
       "      <td>m</td>\n",
       "    </tr>\n",
       "    <tr>\n",
       "      <th>5366</th>\n",
       "      <td>13968</td>\n",
       "      <td>61</td>\n",
       "      <td>1968-04-13</td>\n",
       "      <td>1968</td>\n",
       "      <td>4</td>\n",
       "      <td>13</td>\n",
       "      <td>m</td>\n",
       "    </tr>\n",
       "    <tr>\n",
       "      <th>5367</th>\n",
       "      <td>13971</td>\n",
       "      <td>67</td>\n",
       "      <td>1962-60-19</td>\n",
       "      <td>1962</td>\n",
       "      <td>10</td>\n",
       "      <td>19</td>\n",
       "      <td>f</td>\n",
       "    </tr>\n",
       "    <tr>\n",
       "      <th>5368</th>\n",
       "      <td>13998</td>\n",
       "      <td>74</td>\n",
       "      <td>1953-58-12</td>\n",
       "      <td>1953</td>\n",
       "      <td>8</td>\n",
       "      <td>12</td>\n",
       "      <td>f</td>\n",
       "    </tr>\n",
       "  </tbody>\n",
       "</table>\n",
       "</div>"
      ],
      "text/plain": [
       "      client_id  district_id   birthdate  birthdate_year  birthdate_month  \\\n",
       "5364      13955            1  1945-60-30            1945               10   \n",
       "5365      13956            1  1943-04-06            1943                4   \n",
       "5366      13968           61  1968-04-13            1968                4   \n",
       "5367      13971           67  1962-60-19            1962               10   \n",
       "5368      13998           74  1953-58-12            1953                8   \n",
       "\n",
       "      birthdate_day sex  \n",
       "5364             30   f  \n",
       "5365              6   m  \n",
       "5366             13   m  \n",
       "5367             19   f  \n",
       "5368             12   f  "
      ]
     },
     "execution_count": 91,
     "metadata": {},
     "output_type": "execute_result"
    }
   ],
   "source": [
    "client = read_csv(\"client\")\n",
    "client.tail()"
   ]
  },
  {
   "cell_type": "markdown",
   "metadata": {},
   "source": [
    "Check for invalid dates"
   ]
  },
  {
   "cell_type": "code",
   "execution_count": 101,
   "metadata": {},
   "outputs": [
    {
     "name": "stdout",
     "output_type": "stream",
     "text": [
      "Invalid years ->  0\n",
      "Invalid months ->  0\n",
      "Invalid days ->  0\n"
     ]
    }
   ],
   "source": [
    "invalid_years = check_invalid_year(list(client.birthdate_year))\n",
    "print(\"Invalid years -> \", invalid_years)\n",
    "\n",
    "invalid_months = check_invalid_month(list(client.birthdate_month))\n",
    "print(\"Invalid months -> \", invalid_months)\n",
    "\n",
    "invalid_days = check_invalid_day(list(client.birthdate_day))\n",
    "print(\"Invalid days -> \", invalid_days)\n"
   ]
  },
  {
   "cell_type": "markdown",
   "metadata": {},
   "source": [
    "Let's check for gender inbalance"
   ]
  },
  {
   "cell_type": "code",
   "execution_count": 102,
   "metadata": {},
   "outputs": [
    {
     "name": "stdout",
     "output_type": "stream",
     "text": [
      "m    2724\n",
      "f    2645\n",
      "Name: sex, dtype: int64\n"
     ]
    }
   ],
   "source": [
    "print(client.sex.value_counts())"
   ]
  },
  {
   "cell_type": "markdown",
   "metadata": {},
   "source": [
    "Looks pretty balanced, nothing to worry about"
   ]
  },
  {
   "cell_type": "markdown",
   "metadata": {},
   "source": [
    "Let's now merge the client table with the loan table"
   ]
  },
  {
   "cell_type": "code",
   "execution_count": 124,
   "metadata": {},
   "outputs": [
    {
     "data": {
      "text/html": [
       "<div>\n",
       "<style scoped>\n",
       "    .dataframe tbody tr th:only-of-type {\n",
       "        vertical-align: middle;\n",
       "    }\n",
       "\n",
       "    .dataframe tbody tr th {\n",
       "        vertical-align: top;\n",
       "    }\n",
       "\n",
       "    .dataframe thead th {\n",
       "        text-align: right;\n",
       "    }\n",
       "</style>\n",
       "<table border=\"1\" class=\"dataframe\">\n",
       "  <thead>\n",
       "    <tr style=\"text-align: right;\">\n",
       "      <th></th>\n",
       "      <th>disp_id</th>\n",
       "      <th>client_id</th>\n",
       "      <th>account_id</th>\n",
       "      <th>type</th>\n",
       "      <th>loan_id</th>\n",
       "      <th>amount</th>\n",
       "      <th>duration</th>\n",
       "      <th>payments</th>\n",
       "      <th>status</th>\n",
       "      <th>loan_date</th>\n",
       "      <th>loan_year</th>\n",
       "      <th>loan_month</th>\n",
       "      <th>loan_day</th>\n",
       "    </tr>\n",
       "  </thead>\n",
       "  <tbody>\n",
       "    <tr>\n",
       "      <th>0</th>\n",
       "      <td>2</td>\n",
       "      <td>2</td>\n",
       "      <td>2</td>\n",
       "      <td>owner</td>\n",
       "      <td>4959</td>\n",
       "      <td>80952</td>\n",
       "      <td>24</td>\n",
       "      <td>3373</td>\n",
       "      <td>1</td>\n",
       "      <td>1994-01-05</td>\n",
       "      <td>1994</td>\n",
       "      <td>1</td>\n",
       "      <td>5</td>\n",
       "    </tr>\n",
       "    <tr>\n",
       "      <th>1</th>\n",
       "      <td>3</td>\n",
       "      <td>3</td>\n",
       "      <td>2</td>\n",
       "      <td>disponent</td>\n",
       "      <td>4959</td>\n",
       "      <td>80952</td>\n",
       "      <td>24</td>\n",
       "      <td>3373</td>\n",
       "      <td>1</td>\n",
       "      <td>1994-01-05</td>\n",
       "      <td>1994</td>\n",
       "      <td>1</td>\n",
       "      <td>5</td>\n",
       "    </tr>\n",
       "    <tr>\n",
       "      <th>2</th>\n",
       "      <td>25</td>\n",
       "      <td>25</td>\n",
       "      <td>19</td>\n",
       "      <td>owner</td>\n",
       "      <td>4961</td>\n",
       "      <td>30276</td>\n",
       "      <td>12</td>\n",
       "      <td>2523</td>\n",
       "      <td>-1</td>\n",
       "      <td>1996-04-29</td>\n",
       "      <td>1996</td>\n",
       "      <td>4</td>\n",
       "      <td>29</td>\n",
       "    </tr>\n",
       "    <tr>\n",
       "      <th>3</th>\n",
       "      <td>78</td>\n",
       "      <td>78</td>\n",
       "      <td>67</td>\n",
       "      <td>owner</td>\n",
       "      <td>4973</td>\n",
       "      <td>165960</td>\n",
       "      <td>24</td>\n",
       "      <td>6915</td>\n",
       "      <td>1</td>\n",
       "      <td>1996-05-02</td>\n",
       "      <td>1996</td>\n",
       "      <td>5</td>\n",
       "      <td>2</td>\n",
       "    </tr>\n",
       "    <tr>\n",
       "      <th>4</th>\n",
       "      <td>158</td>\n",
       "      <td>158</td>\n",
       "      <td>132</td>\n",
       "      <td>owner</td>\n",
       "      <td>4996</td>\n",
       "      <td>88440</td>\n",
       "      <td>12</td>\n",
       "      <td>7370</td>\n",
       "      <td>1</td>\n",
       "      <td>1996-11-06</td>\n",
       "      <td>1996</td>\n",
       "      <td>11</td>\n",
       "      <td>6</td>\n",
       "    </tr>\n",
       "  </tbody>\n",
       "</table>\n",
       "</div>"
      ],
      "text/plain": [
       "   disp_id  client_id  account_id       type  loan_id  amount  duration  \\\n",
       "0        2          2           2      owner     4959   80952        24   \n",
       "1        3          3           2  disponent     4959   80952        24   \n",
       "2       25         25          19      owner     4961   30276        12   \n",
       "3       78         78          67      owner     4973  165960        24   \n",
       "4      158        158         132      owner     4996   88440        12   \n",
       "\n",
       "   payments  status   loan_date  loan_year  loan_month  loan_day  \n",
       "0      3373       1  1994-01-05       1994           1         5  \n",
       "1      3373       1  1994-01-05       1994           1         5  \n",
       "2      2523      -1  1996-04-29       1996           4        29  \n",
       "3      6915       1  1996-05-02       1996           5         2  \n",
       "4      7370       1  1996-11-06       1996          11         6  "
      ]
     },
     "execution_count": 124,
     "metadata": {},
     "output_type": "execute_result"
    }
   ],
   "source": [
    "client_loan = disp.merge(right = loans, how = \"inner\", on=\"account_id\")\n",
    "client_loan.head()"
   ]
  },
  {
   "cell_type": "code",
   "execution_count": 125,
   "metadata": {},
   "outputs": [
    {
     "name": "stdout",
     "output_type": "stream",
     "text": [
      "Number of repeated account id values in loan merged with client: 75\n"
     ]
    }
   ],
   "source": [
    "check_repeated(client_loan, \"loan merged with client\")"
   ]
  },
  {
   "cell_type": "markdown",
   "metadata": {},
   "source": [
    "There are 75 loans that have been taken by accounts that are used by 2 clients"
   ]
  },
  {
   "cell_type": "markdown",
   "metadata": {},
   "source": [
    "#### Could people that share an account have be a better change at paying the loan since their household income would possibly be higher that those that are alone in an account?"
   ]
  },
  {
   "cell_type": "code",
   "execution_count": 135,
   "metadata": {},
   "outputs": [
    {
     "data": {
      "text/html": [
       "<div>\n",
       "<style scoped>\n",
       "    .dataframe tbody tr th:only-of-type {\n",
       "        vertical-align: middle;\n",
       "    }\n",
       "\n",
       "    .dataframe tbody tr th {\n",
       "        vertical-align: top;\n",
       "    }\n",
       "\n",
       "    .dataframe thead th {\n",
       "        text-align: right;\n",
       "    }\n",
       "</style>\n",
       "<table border=\"1\" class=\"dataframe\">\n",
       "  <thead>\n",
       "    <tr style=\"text-align: right;\">\n",
       "      <th></th>\n",
       "      <th>loan_id</th>\n",
       "      <th>count</th>\n",
       "      <th>status</th>\n",
       "    </tr>\n",
       "  </thead>\n",
       "  <tbody>\n",
       "    <tr>\n",
       "      <th>0</th>\n",
       "      <td>4959</td>\n",
       "      <td>2</td>\n",
       "      <td>1</td>\n",
       "    </tr>\n",
       "    <tr>\n",
       "      <th>2</th>\n",
       "      <td>4961</td>\n",
       "      <td>1</td>\n",
       "      <td>-1</td>\n",
       "    </tr>\n",
       "    <tr>\n",
       "      <th>3</th>\n",
       "      <td>4973</td>\n",
       "      <td>1</td>\n",
       "      <td>1</td>\n",
       "    </tr>\n",
       "    <tr>\n",
       "      <th>4</th>\n",
       "      <td>4996</td>\n",
       "      <td>2</td>\n",
       "      <td>1</td>\n",
       "    </tr>\n",
       "    <tr>\n",
       "      <th>6</th>\n",
       "      <td>5002</td>\n",
       "      <td>2</td>\n",
       "      <td>1</td>\n",
       "    </tr>\n",
       "    <tr>\n",
       "      <th>...</th>\n",
       "      <td>...</td>\n",
       "      <td>...</td>\n",
       "      <td>...</td>\n",
       "    </tr>\n",
       "    <tr>\n",
       "      <th>396</th>\n",
       "      <td>7271</td>\n",
       "      <td>2</td>\n",
       "      <td>1</td>\n",
       "    </tr>\n",
       "    <tr>\n",
       "      <th>398</th>\n",
       "      <td>7284</td>\n",
       "      <td>1</td>\n",
       "      <td>1</td>\n",
       "    </tr>\n",
       "    <tr>\n",
       "      <th>399</th>\n",
       "      <td>7304</td>\n",
       "      <td>2</td>\n",
       "      <td>1</td>\n",
       "    </tr>\n",
       "    <tr>\n",
       "      <th>401</th>\n",
       "      <td>7305</td>\n",
       "      <td>1</td>\n",
       "      <td>1</td>\n",
       "    </tr>\n",
       "    <tr>\n",
       "      <th>402</th>\n",
       "      <td>7308</td>\n",
       "      <td>1</td>\n",
       "      <td>1</td>\n",
       "    </tr>\n",
       "  </tbody>\n",
       "</table>\n",
       "<p>328 rows × 3 columns</p>\n",
       "</div>"
      ],
      "text/plain": [
       "     loan_id  count  status\n",
       "0       4959      2       1\n",
       "2       4961      1      -1\n",
       "3       4973      1       1\n",
       "4       4996      2       1\n",
       "6       5002      2       1\n",
       "..       ...    ...     ...\n",
       "396     7271      2       1\n",
       "398     7284      1       1\n",
       "399     7304      2       1\n",
       "401     7305      1       1\n",
       "402     7308      1       1\n",
       "\n",
       "[328 rows x 3 columns]"
      ]
     },
     "execution_count": 135,
     "metadata": {},
     "output_type": "execute_result"
    }
   ],
   "source": [
    "## Get repeated loan ids\n",
    "repeated = client_loan.groupby(\"loan_id\").count()['disp_id'].sort_index()\n",
    "\n",
    "## Export it to a dataframe\n",
    "repeated_df = pd.DataFrame({\"loan_id\": repeated.index, \"count\": repeated.values})\n",
    "\n",
    "## Get the status of the loans\n",
    "status = client_loan[['loan_id', 'status']]\n",
    "\n",
    "## Merge with the repeated dataframe using a inner join on loan_id\n",
    "count_clients = repeated_df.merge(right=status, on=\"loan_id\", how=\"inner\")\n",
    "\n",
    "## Remove duplicated values\n",
    "count_clients.drop_duplicates(subset=['loan_id'])"
   ]
  },
  {
   "cell_type": "markdown",
   "metadata": {},
   "source": [
    "Check for correlation"
   ]
  },
  {
   "cell_type": "code",
   "execution_count": 139,
   "metadata": {},
   "outputs": [
    {
     "data": {
      "text/html": [
       "<div>\n",
       "<style scoped>\n",
       "    .dataframe tbody tr th:only-of-type {\n",
       "        vertical-align: middle;\n",
       "    }\n",
       "\n",
       "    .dataframe tbody tr th {\n",
       "        vertical-align: top;\n",
       "    }\n",
       "\n",
       "    .dataframe thead th {\n",
       "        text-align: right;\n",
       "    }\n",
       "</style>\n",
       "<table border=\"1\" class=\"dataframe\">\n",
       "  <thead>\n",
       "    <tr style=\"text-align: right;\">\n",
       "      <th></th>\n",
       "      <th>count</th>\n",
       "      <th>status</th>\n",
       "    </tr>\n",
       "  </thead>\n",
       "  <tbody>\n",
       "    <tr>\n",
       "      <th>count</th>\n",
       "      <td>1.000000</td>\n",
       "      <td>0.276395</td>\n",
       "    </tr>\n",
       "    <tr>\n",
       "      <th>status</th>\n",
       "      <td>0.276395</td>\n",
       "      <td>1.000000</td>\n",
       "    </tr>\n",
       "  </tbody>\n",
       "</table>\n",
       "</div>"
      ],
      "text/plain": [
       "           count    status\n",
       "count   1.000000  0.276395\n",
       "status  0.276395  1.000000"
      ]
     },
     "execution_count": 139,
     "metadata": {},
     "output_type": "execute_result"
    }
   ],
   "source": [
    "count_clients[[\"count\", \"status\"]].corr()"
   ]
  },
  {
   "cell_type": "markdown",
   "metadata": {},
   "source": [
    "#### Check for correlation in gender and age"
   ]
  },
  {
   "cell_type": "markdown",
   "metadata": {},
   "source": [
    "Firstly, let's convert categorical sex value to numerical"
   ]
  },
  {
   "cell_type": "code",
   "execution_count": 141,
   "metadata": {},
   "outputs": [
    {
     "data": {
      "text/html": [
       "<div>\n",
       "<style scoped>\n",
       "    .dataframe tbody tr th:only-of-type {\n",
       "        vertical-align: middle;\n",
       "    }\n",
       "\n",
       "    .dataframe tbody tr th {\n",
       "        vertical-align: top;\n",
       "    }\n",
       "\n",
       "    .dataframe thead th {\n",
       "        text-align: right;\n",
       "    }\n",
       "</style>\n",
       "<table border=\"1\" class=\"dataframe\">\n",
       "  <thead>\n",
       "    <tr style=\"text-align: right;\">\n",
       "      <th></th>\n",
       "      <th>client_id</th>\n",
       "      <th>district_id</th>\n",
       "      <th>birthdate</th>\n",
       "      <th>birthdate_year</th>\n",
       "      <th>birthdate_month</th>\n",
       "      <th>birthdate_day</th>\n",
       "      <th>sex</th>\n",
       "    </tr>\n",
       "  </thead>\n",
       "  <tbody>\n",
       "    <tr>\n",
       "      <th>5364</th>\n",
       "      <td>13955</td>\n",
       "      <td>1</td>\n",
       "      <td>1945-60-30</td>\n",
       "      <td>1945</td>\n",
       "      <td>10</td>\n",
       "      <td>30</td>\n",
       "      <td>1</td>\n",
       "    </tr>\n",
       "    <tr>\n",
       "      <th>5365</th>\n",
       "      <td>13956</td>\n",
       "      <td>1</td>\n",
       "      <td>1943-04-06</td>\n",
       "      <td>1943</td>\n",
       "      <td>4</td>\n",
       "      <td>6</td>\n",
       "      <td>0</td>\n",
       "    </tr>\n",
       "    <tr>\n",
       "      <th>5366</th>\n",
       "      <td>13968</td>\n",
       "      <td>61</td>\n",
       "      <td>1968-04-13</td>\n",
       "      <td>1968</td>\n",
       "      <td>4</td>\n",
       "      <td>13</td>\n",
       "      <td>0</td>\n",
       "    </tr>\n",
       "    <tr>\n",
       "      <th>5367</th>\n",
       "      <td>13971</td>\n",
       "      <td>67</td>\n",
       "      <td>1962-60-19</td>\n",
       "      <td>1962</td>\n",
       "      <td>10</td>\n",
       "      <td>19</td>\n",
       "      <td>1</td>\n",
       "    </tr>\n",
       "    <tr>\n",
       "      <th>5368</th>\n",
       "      <td>13998</td>\n",
       "      <td>74</td>\n",
       "      <td>1953-58-12</td>\n",
       "      <td>1953</td>\n",
       "      <td>8</td>\n",
       "      <td>12</td>\n",
       "      <td>1</td>\n",
       "    </tr>\n",
       "  </tbody>\n",
       "</table>\n",
       "</div>"
      ],
      "text/plain": [
       "      client_id  district_id   birthdate  birthdate_year  birthdate_month  \\\n",
       "5364      13955            1  1945-60-30            1945               10   \n",
       "5365      13956            1  1943-04-06            1943                4   \n",
       "5366      13968           61  1968-04-13            1968                4   \n",
       "5367      13971           67  1962-60-19            1962               10   \n",
       "5368      13998           74  1953-58-12            1953                8   \n",
       "\n",
       "      birthdate_day  sex  \n",
       "5364             30    1  \n",
       "5365              6    0  \n",
       "5366             13    0  \n",
       "5367             19    1  \n",
       "5368             12    1  "
      ]
     },
     "execution_count": 141,
     "metadata": {},
     "output_type": "execute_result"
    }
   ],
   "source": [
    "client.replace([\"m\", \"f\"], [0, 1], inplace=True)\n",
    "client.tail()"
   ]
  },
  {
   "cell_type": "code",
   "execution_count": 147,
   "metadata": {},
   "outputs": [
    {
     "data": {
      "text/html": [
       "<div>\n",
       "<style scoped>\n",
       "    .dataframe tbody tr th:only-of-type {\n",
       "        vertical-align: middle;\n",
       "    }\n",
       "\n",
       "    .dataframe tbody tr th {\n",
       "        vertical-align: top;\n",
       "    }\n",
       "\n",
       "    .dataframe thead th {\n",
       "        text-align: right;\n",
       "    }\n",
       "</style>\n",
       "<table border=\"1\" class=\"dataframe\">\n",
       "  <thead>\n",
       "    <tr style=\"text-align: right;\">\n",
       "      <th></th>\n",
       "      <th>client_id</th>\n",
       "      <th>birthdate_year</th>\n",
       "      <th>sex</th>\n",
       "    </tr>\n",
       "  </thead>\n",
       "  <tbody>\n",
       "    <tr>\n",
       "      <th>0</th>\n",
       "      <td>1</td>\n",
       "      <td>1970</td>\n",
       "      <td>1</td>\n",
       "    </tr>\n",
       "    <tr>\n",
       "      <th>1</th>\n",
       "      <td>2</td>\n",
       "      <td>1945</td>\n",
       "      <td>0</td>\n",
       "    </tr>\n",
       "    <tr>\n",
       "      <th>2</th>\n",
       "      <td>3</td>\n",
       "      <td>1940</td>\n",
       "      <td>1</td>\n",
       "    </tr>\n",
       "    <tr>\n",
       "      <th>3</th>\n",
       "      <td>4</td>\n",
       "      <td>1956</td>\n",
       "      <td>0</td>\n",
       "    </tr>\n",
       "    <tr>\n",
       "      <th>4</th>\n",
       "      <td>5</td>\n",
       "      <td>1960</td>\n",
       "      <td>1</td>\n",
       "    </tr>\n",
       "    <tr>\n",
       "      <th>...</th>\n",
       "      <td>...</td>\n",
       "      <td>...</td>\n",
       "      <td>...</td>\n",
       "    </tr>\n",
       "    <tr>\n",
       "      <th>5364</th>\n",
       "      <td>13955</td>\n",
       "      <td>1945</td>\n",
       "      <td>1</td>\n",
       "    </tr>\n",
       "    <tr>\n",
       "      <th>5365</th>\n",
       "      <td>13956</td>\n",
       "      <td>1943</td>\n",
       "      <td>0</td>\n",
       "    </tr>\n",
       "    <tr>\n",
       "      <th>5366</th>\n",
       "      <td>13968</td>\n",
       "      <td>1968</td>\n",
       "      <td>0</td>\n",
       "    </tr>\n",
       "    <tr>\n",
       "      <th>5367</th>\n",
       "      <td>13971</td>\n",
       "      <td>1962</td>\n",
       "      <td>1</td>\n",
       "    </tr>\n",
       "    <tr>\n",
       "      <th>5368</th>\n",
       "      <td>13998</td>\n",
       "      <td>1953</td>\n",
       "      <td>1</td>\n",
       "    </tr>\n",
       "  </tbody>\n",
       "</table>\n",
       "<p>5369 rows × 3 columns</p>\n",
       "</div>"
      ],
      "text/plain": [
       "      client_id  birthdate_year  sex\n",
       "0             1            1970    1\n",
       "1             2            1945    0\n",
       "2             3            1940    1\n",
       "3             4            1956    0\n",
       "4             5            1960    1\n",
       "...         ...             ...  ...\n",
       "5364      13955            1945    1\n",
       "5365      13956            1943    0\n",
       "5366      13968            1968    0\n",
       "5367      13971            1962    1\n",
       "5368      13998            1953    1\n",
       "\n",
       "[5369 rows x 3 columns]"
      ]
     },
     "execution_count": 147,
     "metadata": {},
     "output_type": "execute_result"
    }
   ],
   "source": [
    "client_loan_2 = disp.merge(right = loans, how = \"inner\", on=\"account_id\")\n",
    "client_loan_2 = client_loan_2[['account_id', 'client_id', 'status']]\n",
    "client_2 = client[['client_id', 'birthdate_year', 'sex']]\n",
    "client_2"
   ]
  },
  {
   "cell_type": "code",
   "execution_count": 149,
   "metadata": {},
   "outputs": [],
   "source": [
    "association = client_2.merge(right=client_loan_2, on=\"client_id\", how=\"inner\")\n",
    "association = association[[\"birthdate_year\", \"sex\", \"status\"]]"
   ]
  },
  {
   "cell_type": "code",
   "execution_count": 152,
   "metadata": {},
   "outputs": [
    {
     "data": {
      "text/plain": [
       "<AxesSubplot:>"
      ]
     },
     "execution_count": 152,
     "metadata": {},
     "output_type": "execute_result"
    },
    {
     "data": {
      "image/png": "[encoded data removed]",
      "text/plain": [
       "<Figure size 720x720 with 1 Axes>"
      ]
     },
     "metadata": {
      "needs_background": "light"
     },
     "output_type": "display_data"
    }
   ],
   "source": [
    "plt.figure(figsize=(10, 10))\n",
    "sns.heatmap(association.corr(), annot=True, cbar=False)"
   ]
  },
  {
   "cell_type": "markdown",
   "metadata": {},
   "source": [
    "### District"
   ]
  },
  {
   "cell_type": "code",
   "execution_count": 155,
   "metadata": {},
   "outputs": [
    {
     "data": {
      "text/html": [
       "<div>\n",
       "<style scoped>\n",
       "    .dataframe tbody tr th:only-of-type {\n",
       "        vertical-align: middle;\n",
       "    }\n",
       "\n",
       "    .dataframe tbody tr th {\n",
       "        vertical-align: top;\n",
       "    }\n",
       "\n",
       "    .dataframe thead th {\n",
       "        text-align: right;\n",
       "    }\n",
       "</style>\n",
       "<table border=\"1\" class=\"dataframe\">\n",
       "  <thead>\n",
       "    <tr style=\"text-align: right;\">\n",
       "      <th></th>\n",
       "      <th>id</th>\n",
       "      <th>city</th>\n",
       "      <th>region</th>\n",
       "      <th>num_inhab</th>\n",
       "      <th>num_municip_inhab_0_499</th>\n",
       "      <th>num_municip_inhab_500_1999</th>\n",
       "      <th>num_municip_inhab_2000_9999</th>\n",
       "      <th>num_municip_inhab_10000_</th>\n",
       "      <th>num_cities</th>\n",
       "      <th>perc_urban_inhab</th>\n",
       "      <th>avg_salary</th>\n",
       "      <th>perc_unemploy_95</th>\n",
       "      <th>perc_unemploy_96</th>\n",
       "      <th>enterp_per_1000</th>\n",
       "      <th>num_crimes_95</th>\n",
       "      <th>num_crimes_96</th>\n",
       "      <th>region_zone</th>\n",
       "    </tr>\n",
       "  </thead>\n",
       "  <tbody>\n",
       "    <tr>\n",
       "      <th>72</th>\n",
       "      <td>73</td>\n",
       "      <td>Opava</td>\n",
       "      <td>Moravia</td>\n",
       "      <td>182027</td>\n",
       "      <td>17</td>\n",
       "      <td>49</td>\n",
       "      <td>12</td>\n",
       "      <td>2</td>\n",
       "      <td>7</td>\n",
       "      <td>56.4</td>\n",
       "      <td>8746.0</td>\n",
       "      <td>3.33</td>\n",
       "      <td>3.74</td>\n",
       "      <td>90</td>\n",
       "      <td>4355.0</td>\n",
       "      <td>4433</td>\n",
       "      <td>north</td>\n",
       "    </tr>\n",
       "    <tr>\n",
       "      <th>73</th>\n",
       "      <td>74</td>\n",
       "      <td>Ostrava</td>\n",
       "      <td>Moravia</td>\n",
       "      <td>323870</td>\n",
       "      <td>0</td>\n",
       "      <td>0</td>\n",
       "      <td>0</td>\n",
       "      <td>1</td>\n",
       "      <td>1</td>\n",
       "      <td>100.0</td>\n",
       "      <td>10673.0</td>\n",
       "      <td>4.75</td>\n",
       "      <td>5.44</td>\n",
       "      <td>100</td>\n",
       "      <td>18782.0</td>\n",
       "      <td>18347</td>\n",
       "      <td>north</td>\n",
       "    </tr>\n",
       "    <tr>\n",
       "      <th>74</th>\n",
       "      <td>75</td>\n",
       "      <td>Prerov</td>\n",
       "      <td>Moravia</td>\n",
       "      <td>138032</td>\n",
       "      <td>67</td>\n",
       "      <td>30</td>\n",
       "      <td>4</td>\n",
       "      <td>2</td>\n",
       "      <td>5</td>\n",
       "      <td>64.6</td>\n",
       "      <td>8819.0</td>\n",
       "      <td>5.38</td>\n",
       "      <td>5.66</td>\n",
       "      <td>99</td>\n",
       "      <td>4063.0</td>\n",
       "      <td>4505</td>\n",
       "      <td>north</td>\n",
       "    </tr>\n",
       "    <tr>\n",
       "      <th>75</th>\n",
       "      <td>76</td>\n",
       "      <td>Sumperk</td>\n",
       "      <td>Moravia</td>\n",
       "      <td>127369</td>\n",
       "      <td>31</td>\n",
       "      <td>32</td>\n",
       "      <td>13</td>\n",
       "      <td>2</td>\n",
       "      <td>7</td>\n",
       "      <td>51.2</td>\n",
       "      <td>8369.0</td>\n",
       "      <td>4.73</td>\n",
       "      <td>5.88</td>\n",
       "      <td>107</td>\n",
       "      <td>3736.0</td>\n",
       "      <td>2807</td>\n",
       "      <td>north</td>\n",
       "    </tr>\n",
       "    <tr>\n",
       "      <th>76</th>\n",
       "      <td>77</td>\n",
       "      <td>Vsetin</td>\n",
       "      <td>Moravia</td>\n",
       "      <td>148545</td>\n",
       "      <td>8</td>\n",
       "      <td>35</td>\n",
       "      <td>12</td>\n",
       "      <td>3</td>\n",
       "      <td>4</td>\n",
       "      <td>53.5</td>\n",
       "      <td>8909.0</td>\n",
       "      <td>4.01</td>\n",
       "      <td>5.56</td>\n",
       "      <td>113</td>\n",
       "      <td>3460.0</td>\n",
       "      <td>3590</td>\n",
       "      <td>north</td>\n",
       "    </tr>\n",
       "  </tbody>\n",
       "</table>\n",
       "</div>"
      ],
      "text/plain": [
       "    id     city   region  num_inhab  num_municip_inhab_0_499  \\\n",
       "72  73    Opava  Moravia     182027                       17   \n",
       "73  74  Ostrava  Moravia     323870                        0   \n",
       "74  75   Prerov  Moravia     138032                       67   \n",
       "75  76  Sumperk  Moravia     127369                       31   \n",
       "76  77   Vsetin  Moravia     148545                        8   \n",
       "\n",
       "    num_municip_inhab_500_1999  num_municip_inhab_2000_9999  \\\n",
       "72                          49                           12   \n",
       "73                           0                            0   \n",
       "74                          30                            4   \n",
       "75                          32                           13   \n",
       "76                          35                           12   \n",
       "\n",
       "    num_municip_inhab_10000_  num_cities  perc_urban_inhab  avg_salary  \\\n",
       "72                         2           7              56.4      8746.0   \n",
       "73                         1           1             100.0     10673.0   \n",
       "74                         2           5              64.6      8819.0   \n",
       "75                         2           7              51.2      8369.0   \n",
       "76                         3           4              53.5      8909.0   \n",
       "\n",
       "    perc_unemploy_95  perc_unemploy_96  enterp_per_1000  num_crimes_95  \\\n",
       "72              3.33              3.74               90         4355.0   \n",
       "73              4.75              5.44              100        18782.0   \n",
       "74              5.38              5.66               99         4063.0   \n",
       "75              4.73              5.88              107         3736.0   \n",
       "76              4.01              5.56              113         3460.0   \n",
       "\n",
       "    num_crimes_96 region_zone  \n",
       "72           4433       north  \n",
       "73          18347       north  \n",
       "74           4505       north  \n",
       "75           2807       north  \n",
       "76           3590       north  "
      ]
     },
     "execution_count": 155,
     "metadata": {},
     "output_type": "execute_result"
    }
   ],
   "source": [
    "districts = read_csv('district')\n",
    "districts.tail()"
   ]
  },
  {
   "cell_type": "markdown",
   "metadata": {},
   "source": [
    "Let's visualize correlations between attributtes using a heatmap"
   ]
  },
  {
   "cell_type": "markdown",
   "metadata": {},
   "source": [
    "#### Heatmap"
   ]
  },
  {
   "cell_type": "code",
   "execution_count": 157,
   "metadata": {},
   "outputs": [
    {
     "data": {
      "text/plain": [
       "<AxesSubplot:>"
      ]
     },
     "execution_count": 157,
     "metadata": {},
     "output_type": "execute_result"
    },
    {
     "data": {
      "image/png": "[encoded data removed]",
      "text/plain": [
       "<Figure size 1080x1080 with 1 Axes>"
      ]
     },
     "metadata": {
      "needs_background": "light"
     },
     "output_type": "display_data"
    }
   ],
   "source": [
    "plt.figure(figsize=(15, 15))\n",
    "sns.heatmap(districts.corr(), annot=True, cbar=False)"
   ]
  },
  {
   "cell_type": "markdown",
   "metadata": {},
   "source": [
    "Some interesting but rather expected findings:\n",
    "-   The higher the percentage of urban population, the higher the average salary\n",
    "-   The higher the unemployment rate in any of the years, the lower the number of enterpreneurs per 100 people\n",
    "\n",
    "Other correlations might be due to the fact that the data is not standardized"
   ]
  },
  {
   "cell_type": "markdown",
   "metadata": {},
   "source": [
    "Let's plot some variables"
   ]
  },
  {
   "cell_type": "code",
   "execution_count": 173,
   "metadata": {},
   "outputs": [
    {
     "data": {
      "text/plain": [
       "<AxesSubplot:xlabel='num_inhab', ylabel='Count'>"
      ]
     },
     "execution_count": 173,
     "metadata": {},
     "output_type": "execute_result"
    },
    {
     "data": {
      "image/png": "[encoded data removed]",
      "text/plain": [
       "<Figure size 432x288 with 1 Axes>"
      ]
     },
     "metadata": {
      "needs_background": "light"
     },
     "output_type": "display_data"
    }
   ],
   "source": [
    "fig = plt.plot()\n",
    "sns.histplot(data=districts, x='num_inhab')"
   ]
  },
  {
   "cell_type": "markdown",
   "metadata": {},
   "source": [
    "There's a region whose number of habitatnts is way above the rest.\n",
    "Let's see if we're dealing with an outlier"
   ]
  },
  {
   "cell_type": "code",
   "execution_count": 208,
   "metadata": {},
   "outputs": [
    {
     "data": {
      "text/html": [
       "<div>\n",
       "<style scoped>\n",
       "    .dataframe tbody tr th:only-of-type {\n",
       "        vertical-align: middle;\n",
       "    }\n",
       "\n",
       "    .dataframe tbody tr th {\n",
       "        vertical-align: top;\n",
       "    }\n",
       "\n",
       "    .dataframe thead th {\n",
       "        text-align: right;\n",
       "    }\n",
       "</style>\n",
       "<table border=\"1\" class=\"dataframe\">\n",
       "  <thead>\n",
       "    <tr style=\"text-align: right;\">\n",
       "      <th></th>\n",
       "      <th>id</th>\n",
       "      <th>city</th>\n",
       "      <th>region</th>\n",
       "      <th>num_inhab</th>\n",
       "      <th>num_municip_inhab_0_499</th>\n",
       "      <th>num_municip_inhab_500_1999</th>\n",
       "      <th>num_municip_inhab_2000_9999</th>\n",
       "      <th>num_municip_inhab_10000_</th>\n",
       "      <th>num_cities</th>\n",
       "      <th>perc_urban_inhab</th>\n",
       "      <th>avg_salary</th>\n",
       "      <th>perc_unemploy_95</th>\n",
       "      <th>perc_unemploy_96</th>\n",
       "      <th>enterp_per_1000</th>\n",
       "      <th>num_crimes_95</th>\n",
       "      <th>num_crimes_96</th>\n",
       "      <th>region_zone</th>\n",
       "    </tr>\n",
       "  </thead>\n",
       "  <tbody>\n",
       "    <tr>\n",
       "      <th>0</th>\n",
       "      <td>1</td>\n",
       "      <td>Hl.m. Praha</td>\n",
       "      <td>Prague</td>\n",
       "      <td>1204953</td>\n",
       "      <td>0</td>\n",
       "      <td>0</td>\n",
       "      <td>0</td>\n",
       "      <td>1</td>\n",
       "      <td>1</td>\n",
       "      <td>100.0</td>\n",
       "      <td>12541.0</td>\n",
       "      <td>0.29</td>\n",
       "      <td>0.43</td>\n",
       "      <td>167</td>\n",
       "      <td>85677.0</td>\n",
       "      <td>99107</td>\n",
       "      <td>NaN</td>\n",
       "    </tr>\n",
       "  </tbody>\n",
       "</table>\n",
       "</div>"
      ],
      "text/plain": [
       "   id         city  region  num_inhab  num_municip_inhab_0_499  \\\n",
       "0   1  Hl.m. Praha  Prague    1204953                        0   \n",
       "\n",
       "   num_municip_inhab_500_1999  num_municip_inhab_2000_9999  \\\n",
       "0                           0                            0   \n",
       "\n",
       "   num_municip_inhab_10000_  num_cities  perc_urban_inhab  avg_salary  \\\n",
       "0                         1           1             100.0     12541.0   \n",
       "\n",
       "   perc_unemploy_95  perc_unemploy_96  enterp_per_1000  num_crimes_95  \\\n",
       "0              0.29              0.43              167        85677.0   \n",
       "\n",
       "   num_crimes_96 region_zone  \n",
       "0          99107         NaN  "
      ]
     },
     "execution_count": 208,
     "metadata": {},
     "output_type": "execute_result"
    }
   ],
   "source": [
    "districts[districts[\"num_inhab\"] > 1000000]"
   ]
  },
  {
   "cell_type": "markdown",
   "metadata": {},
   "source": [
    "A simple google search can atest the verocity of the population value. Not an outlier"
   ]
  },
  {
   "cell_type": "code",
   "execution_count": 179,
   "metadata": {},
   "outputs": [
    {
     "data": {
      "text/plain": [
       "<AxesSubplot:xlabel='num_crimes_95', ylabel='Count'>"
      ]
     },
     "execution_count": 179,
     "metadata": {},
     "output_type": "execute_result"
    },
    {
     "data": {
      "image/png": "[encoded data removed]",
      "text/plain": [
       "<Figure size 432x288 with 1 Axes>"
      ]
     },
     "metadata": {
      "needs_background": "light"
     },
     "output_type": "display_data"
    }
   ],
   "source": [
    "fig = plt.plot()\n",
    "sns.histplot(data=districts, x='num_crimes_95')"
   ]
  },
  {
   "cell_type": "markdown",
   "metadata": {},
   "source": [
    "Don't need to check if that's an outlier, it's just Prague. "
   ]
  },
  {
   "cell_type": "code",
   "execution_count": 180,
   "metadata": {},
   "outputs": [
    {
     "data": {
      "text/plain": [
       "<AxesSubplot:xlabel='num_crimes_96', ylabel='Count'>"
      ]
     },
     "execution_count": 180,
     "metadata": {},
     "output_type": "execute_result"
    },
    {
     "data": {
      "image/png": "[encoded data removed]",
      "text/plain": [
       "<Figure size 432x288 with 1 Axes>"
      ]
     },
     "metadata": {
      "needs_background": "light"
     },
     "output_type": "display_data"
    }
   ],
   "source": [
    "fig = plt.plot()\n",
    "sns.histplot(data=districts, x='num_crimes_96')"
   ]
  },
  {
   "cell_type": "markdown",
   "metadata": {},
   "source": [
    "Same here"
   ]
  },
  {
   "cell_type": "markdown",
   "metadata": {},
   "source": [
    "#### Unemployment rate & Crimes"
   ]
  },
  {
   "cell_type": "markdown",
   "metadata": {},
   "source": [
    "Let's do some exploratory analysis of this columns as they're some of the most important columns when deciding who to give a loan to (more the unemployment that crimes)"
   ]
  },
  {
   "cell_type": "markdown",
   "metadata": {},
   "source": [
    "Check if there was an increase in unemployment in the two years in the dataset"
   ]
  },
  {
   "cell_type": "code",
   "execution_count": 204,
   "metadata": {},
   "outputs": [
    {
     "name": "stdout",
     "output_type": "stream",
     "text": [
      "\t1995\n",
      "Crimes:  4850.315789473684\n",
      "Unemployment:  3.119342105263158\n",
      "\t1996\n",
      "Crimes:  5030.831168831169\n",
      "Unemployment:  3.787012987012987\n",
      "\n",
      "\n",
      "Crime percentage increase: 3.72%\n",
      "Unemploymnet percentage increase: 0.67%\n"
     ]
    }
   ],
   "source": [
    "crimes_95_mean = districts['num_crimes_95'].mean()\n",
    "crimes_96_mean = districts['num_crimes_96'].mean()\n",
    "\n",
    "unemployment_95_mean = districts['perc_unemploy_95'].mean()\n",
    "unemployment_96_mean = districts['perc_unemploy_96'].mean()\n",
    "\n",
    "print(\"\\t1995\")\n",
    "print(\"Crimes: \", crimes_95_mean)\n",
    "print(\"Unemployment: \", unemployment_95_mean)\n",
    "\n",
    "print(\"\\t1996\")\n",
    "print(\"Crimes: \", crimes_96_mean)\n",
    "print(\"Unemployment: \", unemployment_96_mean)\n",
    "\n",
    "print(\"\\n\")\n",
    "\n",
    "print(f\"Crime percentage increase: {round((crimes_96_mean - crimes_95_mean)/crimes_95_mean*100, 2)}%\")\n",
    "print(f\"Unemploymnet percentage increase: {round(unemployment_96_mean - unemployment_95_mean,2)}%\")"
   ]
  },
  {
   "cell_type": "markdown",
   "metadata": {},
   "source": [
    "Let's now take a look into the regions"
   ]
  },
  {
   "cell_type": "code",
   "execution_count": 209,
   "metadata": {},
   "outputs": [
    {
     "data": {
      "text/plain": [
       "array(['Prague', 'Bohemia', 'Moravia'], dtype=object)"
      ]
     },
     "execution_count": 209,
     "metadata": {},
     "output_type": "execute_result"
    }
   ],
   "source": [
    "districts[\"region\"].unique()"
   ]
  },
  {
   "cell_type": "markdown",
   "metadata": {},
   "source": [
    "Only three regions in the dataset, let's take a look into each one"
   ]
  },
  {
   "cell_type": "code",
   "execution_count": 210,
   "metadata": {},
   "outputs": [],
   "source": [
    "prague = districts[districts['region'] == 'Prague']\n",
    "bohemia = districts[districts['region'] == 'Bohemia']\n",
    "moravia = districts[districts['region'] == 'Moravia']"
   ]
  },
  {
   "cell_type": "markdown",
   "metadata": {},
   "source": [
    "Compare salaries in all"
   ]
  },
  {
   "cell_type": "code",
   "execution_count": 215,
   "metadata": {},
   "outputs": [
    {
     "name": "stdout",
     "output_type": "stream",
     "text": [
      "Average salary in Prague:  12541.0€\n",
      "Average salary in Bohemia: 9042.31€\n",
      "Average salary in Moravia: 8869.6€\n"
     ]
    }
   ],
   "source": [
    "print(f\"Average salary in Prague:  {round(prague['avg_salary'].mean(), 2)}€\")\n",
    "print(f\"Average salary in Bohemia: {round(bohemia['avg_salary'].mean(), 2)}€\")\n",
    "print(f\"Average salary in Moravia: {round(moravia['avg_salary'].mean(), 2)}€\")"
   ]
  },
  {
   "cell_type": "markdown",
   "metadata": {},
   "source": [
    "Prague is the richest region, which is to be expected since it's the capital of the country"
   ]
  },
  {
   "cell_type": "markdown",
   "metadata": {},
   "source": [
    "#### Prague"
   ]
  },
  {
   "cell_type": "code",
   "execution_count": 220,
   "metadata": {},
   "outputs": [
    {
     "name": "stdout",
     "output_type": "stream",
     "text": [
      "Crimes per inhab: 0.08224968110789384\n",
      "Unemployment rate: 0.43\n",
      "Percentage of people living in urban areas: 100.0\n",
      "Number of enterpreneurs per 1000 people: 167.0\n",
      "Number of entries for Prague: 1\n"
     ]
    }
   ],
   "source": [
    "print(f\"Crimes per inhab: {prague['num_crimes_96'].mean() / prague['num_inhab'].mean()}\") \n",
    "print(f\"Unemployment rate: {prague['perc_unemploy_96'].mean()}\")\n",
    "print(f\"Percentage of people living in urban areas: {prague['perc_urban_inhab'].mean()}\")\n",
    "print(f\"Number of enterpreneurs per 1000 people: {prague['enterp_per_1000'].mean()}\")\n",
    "\n",
    "print(f\"Number of entries for Prague: {len(prague)}\")"
   ]
  },
  {
   "cell_type": "markdown",
   "metadata": {},
   "source": [
    "Prague only has one entrie in the whole dataset, we will count it as an outlier"
   ]
  },
  {
   "cell_type": "markdown",
   "metadata": {},
   "source": [
    "#### Bohemia"
   ]
  },
  {
   "cell_type": "code",
   "execution_count": 221,
   "metadata": {},
   "outputs": [
    {
     "name": "stdout",
     "output_type": "stream",
     "text": [
      "Crimes per inhab: 0.03278450638751398\n",
      "Unemployment rate: 3.4294117647058826\n",
      "Percentage of people living in urban areas: 64.09803921568627\n",
      "Number of enterpreneurs per 1000 people: 118.76470588235294\n",
      "Number of entries for Bohemia: 51\n"
     ]
    }
   ],
   "source": [
    "print(f\"Crimes per inhab: {bohemia['num_crimes_96'].mean() / bohemia['num_inhab'].mean()}\") \n",
    "print(f\"Unemployment rate: {bohemia['perc_unemploy_96'].mean()}\")\n",
    "print(f\"Percentage of people living in urban areas: {bohemia['perc_urban_inhab'].mean()}\")\n",
    "print(f\"Number of enterpreneurs per 1000 people: {bohemia['enterp_per_1000'].mean()}\")\n",
    "\n",
    "print(f\"Number of entries for Bohemia: {len(bohemia)}\")"
   ]
  },
  {
   "cell_type": "markdown",
   "metadata": {},
   "source": [
    "Let's now check differences within zones in a region."
   ]
  },
  {
   "cell_type": "code",
   "execution_count": 227,
   "metadata": {},
   "outputs": [
    {
     "name": "stdout",
     "output_type": "stream",
     "text": [
      "Direction: central -> 9357.25€\n",
      "Direction: south -> 8831.5€\n",
      "Direction: west -> 9015.4€\n",
      "Direction: north -> 9334.2€\n",
      "Direction: east -> 8611.181818181818€\n"
     ]
    }
   ],
   "source": [
    "direction = bohemia['region_zone'].unique()\n",
    "for i in direction:\n",
    "    region_direction = bohemia[bohemia['region_zone'] == i]\n",
    "    print(f\"Direction: {i} -> {region_direction['avg_salary'].mean()}€\")"
   ]
  },
  {
   "cell_type": "markdown",
   "metadata": {},
   "source": [
    "#### Moravia"
   ]
  },
  {
   "cell_type": "code",
   "execution_count": 222,
   "metadata": {},
   "outputs": [
    {
     "name": "stdout",
     "output_type": "stream",
     "text": [
      "Crimes per inhab: 0.030248247890649393\n",
      "Unemployment rate: 4.6508\n",
      "Percentage of people living in urban areas: 59.388000000000005\n",
      "Number of enterpreneurs per 1000 people: 108.72\n",
      "Number of entries for Moravia: 25\n"
     ]
    }
   ],
   "source": [
    "print(f\"Crimes per inhab: {moravia['num_crimes_96'].mean() / moravia['num_inhab'].mean()}\") \n",
    "print(f\"Unemployment rate: {moravia['perc_unemploy_96'].mean()}\")\n",
    "print(f\"Percentage of people living in urban areas: {moravia['perc_urban_inhab'].mean()}\")\n",
    "print(f\"Number of enterpreneurs per 1000 people: {moravia['enterp_per_1000'].mean()}\")\n",
    "\n",
    "print(f\"Number of entries for Moravia: {len(moravia)}\")"
   ]
  },
  {
   "cell_type": "markdown",
   "metadata": {},
   "source": [
    "Let's now check differences within zones in a region."
   ]
  },
  {
   "cell_type": "code",
   "execution_count": 228,
   "metadata": {},
   "outputs": [
    {
     "name": "stdout",
     "output_type": "stream",
     "text": [
      "Direction: south -> 8728.5€\n",
      "Direction: north -> 9049.181818181818€\n"
     ]
    }
   ],
   "source": [
    "direction = moravia['region_zone'].unique()\n",
    "for i in direction:\n",
    "    region_direction = moravia[moravia['region_zone'] == i]\n",
    "    print(f\"Direction: {i} -> {region_direction['avg_salary'].mean()}€\")"
   ]
  },
  {
   "cell_type": "markdown",
   "metadata": {},
   "source": [
    "Bohemia has a lower unemployment rate than moravia, has more enterpreneurs per 100 people and more people living in urban areas."
   ]
  },
  {
   "cell_type": "markdown",
   "metadata": {},
   "source": [
    "In both regions, the northern part is richer that their southern counterpart.\n",
    "For Bohemia, the worst zone to live would be east, while the best would be either north or cental"
   ]
  },
  {
   "cell_type": "markdown",
   "metadata": {},
   "source": [
    "### Transactions"
   ]
  },
  {
   "cell_type": "code",
   "execution_count": 299,
   "metadata": {},
   "outputs": [
    {
     "name": "stderr",
     "output_type": "stream",
     "text": [
      "C:\\Users\\veris\\AppData\\Local\\Temp\\ipykernel_6388\\1635437290.py:1: DtypeWarning: Columns (7) have mixed types. Specify dtype option on import or set low_memory=False.\n",
      "  trans = pd.read_csv(\"dados/pre-preocessed/trans_dev.csv\", na_values=[' '])\n"
     ]
    },
    {
     "data": {
      "text/html": [
       "<div>\n",
       "<style scoped>\n",
       "    .dataframe tbody tr th:only-of-type {\n",
       "        vertical-align: middle;\n",
       "    }\n",
       "\n",
       "    .dataframe tbody tr th {\n",
       "        vertical-align: top;\n",
       "    }\n",
       "\n",
       "    .dataframe thead th {\n",
       "        text-align: right;\n",
       "    }\n",
       "</style>\n",
       "<table border=\"1\" class=\"dataframe\">\n",
       "  <thead>\n",
       "    <tr style=\"text-align: right;\">\n",
       "      <th></th>\n",
       "      <th>trans_id</th>\n",
       "      <th>account_id</th>\n",
       "      <th>type</th>\n",
       "      <th>operation</th>\n",
       "      <th>amount</th>\n",
       "      <th>balance</th>\n",
       "      <th>k_symbol</th>\n",
       "      <th>bank</th>\n",
       "      <th>account</th>\n",
       "      <th>trans_date</th>\n",
       "      <th>trans_year</th>\n",
       "      <th>trans_month</th>\n",
       "      <th>trans_day</th>\n",
       "    </tr>\n",
       "  </thead>\n",
       "  <tbody>\n",
       "    <tr>\n",
       "      <th>0</th>\n",
       "      <td>1</td>\n",
       "      <td>1</td>\n",
       "      <td>credit</td>\n",
       "      <td>cash</td>\n",
       "      <td>1000.0</td>\n",
       "      <td>1000.0</td>\n",
       "      <td>NaN</td>\n",
       "      <td>NaN</td>\n",
       "      <td>NaN</td>\n",
       "      <td>1995-03-24</td>\n",
       "      <td>1995</td>\n",
       "      <td>3</td>\n",
       "      <td>24</td>\n",
       "    </tr>\n",
       "    <tr>\n",
       "      <th>1</th>\n",
       "      <td>5</td>\n",
       "      <td>1</td>\n",
       "      <td>credit</td>\n",
       "      <td>another bank</td>\n",
       "      <td>3679.0</td>\n",
       "      <td>4679.0</td>\n",
       "      <td>NaN</td>\n",
       "      <td>AB</td>\n",
       "      <td>41403269.0</td>\n",
       "      <td>1995-04-13</td>\n",
       "      <td>1995</td>\n",
       "      <td>4</td>\n",
       "      <td>13</td>\n",
       "    </tr>\n",
       "    <tr>\n",
       "      <th>2</th>\n",
       "      <td>6</td>\n",
       "      <td>1</td>\n",
       "      <td>credit</td>\n",
       "      <td>another bank</td>\n",
       "      <td>3679.0</td>\n",
       "      <td>20977.2</td>\n",
       "      <td>NaN</td>\n",
       "      <td>AB</td>\n",
       "      <td>41403269.0</td>\n",
       "      <td>1995-05-13</td>\n",
       "      <td>1995</td>\n",
       "      <td>5</td>\n",
       "      <td>13</td>\n",
       "    </tr>\n",
       "    <tr>\n",
       "      <th>3</th>\n",
       "      <td>7</td>\n",
       "      <td>1</td>\n",
       "      <td>credit</td>\n",
       "      <td>another bank</td>\n",
       "      <td>3679.0</td>\n",
       "      <td>26835.2</td>\n",
       "      <td>NaN</td>\n",
       "      <td>AB</td>\n",
       "      <td>41403269.0</td>\n",
       "      <td>1995-06-13</td>\n",
       "      <td>1995</td>\n",
       "      <td>6</td>\n",
       "      <td>13</td>\n",
       "    </tr>\n",
       "    <tr>\n",
       "      <th>4</th>\n",
       "      <td>8</td>\n",
       "      <td>1</td>\n",
       "      <td>credit</td>\n",
       "      <td>another bank</td>\n",
       "      <td>3679.0</td>\n",
       "      <td>30414.8</td>\n",
       "      <td>NaN</td>\n",
       "      <td>AB</td>\n",
       "      <td>41403269.0</td>\n",
       "      <td>1995-07-13</td>\n",
       "      <td>1995</td>\n",
       "      <td>7</td>\n",
       "      <td>13</td>\n",
       "    </tr>\n",
       "  </tbody>\n",
       "</table>\n",
       "</div>"
      ],
      "text/plain": [
       "   trans_id  account_id    type     operation  amount  balance k_symbol bank  \\\n",
       "0         1           1  credit          cash  1000.0   1000.0      NaN  NaN   \n",
       "1         5           1  credit  another bank  3679.0   4679.0      NaN   AB   \n",
       "2         6           1  credit  another bank  3679.0  20977.2      NaN   AB   \n",
       "3         7           1  credit  another bank  3679.0  26835.2      NaN   AB   \n",
       "4         8           1  credit  another bank  3679.0  30414.8      NaN   AB   \n",
       "\n",
       "      account  trans_date  trans_year  trans_month  trans_day  \n",
       "0         NaN  1995-03-24        1995            3         24  \n",
       "1  41403269.0  1995-04-13        1995            4         13  \n",
       "2  41403269.0  1995-05-13        1995            5         13  \n",
       "3  41403269.0  1995-06-13        1995            6         13  \n",
       "4  41403269.0  1995-07-13        1995            7         13  "
      ]
     },
     "execution_count": 299,
     "metadata": {},
     "output_type": "execute_result"
    }
   ],
   "source": [
    "trans = pd.read_csv(\"dados/pre-preocessed/trans_dev.csv\", na_values=[' '])\n",
    "trans.head()"
   ]
  },
  {
   "cell_type": "code",
   "execution_count": 291,
   "metadata": {},
   "outputs": [
    {
     "name": "stdout",
     "output_type": "stream",
     "text": [
      "Number of recorded transactions: 396685\n"
     ]
    }
   ],
   "source": [
    "print(f\"Number of recorded transactions: {len(trans)}\")"
   ]
  },
  {
   "cell_type": "markdown",
   "metadata": {},
   "source": [
    "Identify columns with null values"
   ]
  },
  {
   "cell_type": "code",
   "execution_count": 292,
   "metadata": {},
   "outputs": [
    {
     "data": {
      "text/plain": [
       "trans_id       False\n",
       "account_id     False\n",
       "type           False\n",
       "operation       True\n",
       "amount         False\n",
       "balance        False\n",
       "k_symbol        True\n",
       "bank            True\n",
       "account         True\n",
       "trans_date     False\n",
       "trans_year     False\n",
       "trans_month    False\n",
       "trans_day      False\n",
       "dtype: bool"
      ]
     },
     "execution_count": 292,
     "metadata": {},
     "output_type": "execute_result"
    }
   ],
   "source": [
    "trans.isna().any()"
   ]
  },
  {
   "cell_type": "markdown",
   "metadata": {},
   "source": [
    "As we can see, lots of columns have null values: operation, k_symbol, bank and account. We'll need to be careful in the way that we parse these null values. Let's start by analyzing each table"
   ]
  },
  {
   "cell_type": "markdown",
   "metadata": {},
   "source": [
    "#### Account column"
   ]
  },
  {
   "cell_type": "code",
   "execution_count": 323,
   "metadata": {},
   "outputs": [
    {
     "data": {
      "text/plain": [
       "NaN           294456\n",
       "0.0             4987\n",
       "62457513.0        48\n",
       "73166322.0        48\n",
       "6149286.0         48\n",
       "               ...  \n",
       "26197439.0         1\n",
       "6951642.0          1\n",
       "1385760.0          1\n",
       "18026441.0         1\n",
       "249672.0           1\n",
       "Name: account, Length: 4537, dtype: int64"
      ]
     },
     "execution_count": 323,
     "metadata": {},
     "output_type": "execute_result"
    }
   ],
   "source": [
    "count_accounts = trans[\"account\"].value_counts(dropna=False)\n",
    "count_accounts"
   ]
  },
  {
   "cell_type": "code",
   "execution_count": 324,
   "metadata": {},
   "outputs": [
    {
     "name": "stdout",
     "output_type": "stream",
     "text": [
      "Number of transactions with missing account: 294456\n"
     ]
    }
   ],
   "source": [
    "print(\"Number of transactions with missing account:\", trans['account'].isna().sum())"
   ]
  },
  {
   "cell_type": "markdown",
   "metadata": {},
   "source": [
    "Let's check the number of transactions per year. This is important, as it might show how active a client is"
   ]
  },
  {
   "cell_type": "code",
   "execution_count": 293,
   "metadata": {},
   "outputs": [
    {
     "data": {
      "text/html": [
       "<div>\n",
       "<style scoped>\n",
       "    .dataframe tbody tr th:only-of-type {\n",
       "        vertical-align: middle;\n",
       "    }\n",
       "\n",
       "    .dataframe tbody tr th {\n",
       "        vertical-align: top;\n",
       "    }\n",
       "\n",
       "    .dataframe thead th {\n",
       "        text-align: right;\n",
       "    }\n",
       "</style>\n",
       "<table border=\"1\" class=\"dataframe\">\n",
       "  <thead>\n",
       "    <tr style=\"text-align: right;\">\n",
       "      <th></th>\n",
       "      <th>account_id</th>\n",
       "      <th>count_year</th>\n",
       "      <th>trans</th>\n",
       "      <th>trans_year</th>\n",
       "    </tr>\n",
       "  </thead>\n",
       "  <tbody>\n",
       "    <tr>\n",
       "      <th>2164</th>\n",
       "      <td>840</td>\n",
       "      <td>1</td>\n",
       "      <td>441</td>\n",
       "      <td>441.00</td>\n",
       "    </tr>\n",
       "    <tr>\n",
       "      <th>2159</th>\n",
       "      <td>3904</td>\n",
       "      <td>1</td>\n",
       "      <td>402</td>\n",
       "      <td>402.00</td>\n",
       "    </tr>\n",
       "    <tr>\n",
       "      <th>2215</th>\n",
       "      <td>856</td>\n",
       "      <td>1</td>\n",
       "      <td>398</td>\n",
       "      <td>398.00</td>\n",
       "    </tr>\n",
       "    <tr>\n",
       "      <th>2893</th>\n",
       "      <td>2573</td>\n",
       "      <td>1</td>\n",
       "      <td>382</td>\n",
       "      <td>382.00</td>\n",
       "    </tr>\n",
       "    <tr>\n",
       "      <th>3362</th>\n",
       "      <td>1546</td>\n",
       "      <td>1</td>\n",
       "      <td>369</td>\n",
       "      <td>369.00</td>\n",
       "    </tr>\n",
       "    <tr>\n",
       "      <th>...</th>\n",
       "      <td>...</td>\n",
       "      <td>...</td>\n",
       "      <td>...</td>\n",
       "      <td>...</td>\n",
       "    </tr>\n",
       "    <tr>\n",
       "      <th>980</th>\n",
       "      <td>437</td>\n",
       "      <td>4</td>\n",
       "      <td>1</td>\n",
       "      <td>0.25</td>\n",
       "    </tr>\n",
       "    <tr>\n",
       "      <th>182</th>\n",
       "      <td>1966</td>\n",
       "      <td>4</td>\n",
       "      <td>1</td>\n",
       "      <td>0.25</td>\n",
       "    </tr>\n",
       "    <tr>\n",
       "      <th>130</th>\n",
       "      <td>730</td>\n",
       "      <td>4</td>\n",
       "      <td>1</td>\n",
       "      <td>0.25</td>\n",
       "    </tr>\n",
       "    <tr>\n",
       "      <th>491</th>\n",
       "      <td>3654</td>\n",
       "      <td>4</td>\n",
       "      <td>1</td>\n",
       "      <td>0.25</td>\n",
       "    </tr>\n",
       "    <tr>\n",
       "      <th>444</th>\n",
       "      <td>1136</td>\n",
       "      <td>4</td>\n",
       "      <td>1</td>\n",
       "      <td>0.25</td>\n",
       "    </tr>\n",
       "  </tbody>\n",
       "</table>\n",
       "<p>3370 rows × 4 columns</p>\n",
       "</div>"
      ],
      "text/plain": [
       "      account_id  count_year  trans  trans_year\n",
       "2164         840           1    441      441.00\n",
       "2159        3904           1    402      402.00\n",
       "2215         856           1    398      398.00\n",
       "2893        2573           1    382      382.00\n",
       "3362        1546           1    369      369.00\n",
       "...          ...         ...    ...         ...\n",
       "980          437           4      1        0.25\n",
       "182         1966           4      1        0.25\n",
       "130          730           4      1        0.25\n",
       "491         3654           4      1        0.25\n",
       "444         1136           4      1        0.25\n",
       "\n",
       "[3370 rows x 4 columns]"
      ]
     },
     "execution_count": 293,
     "metadata": {},
     "output_type": "execute_result"
    }
   ],
   "source": [
    "## Group transactions by account id and year\n",
    "trans_per_year = trans.groupby(by=['account_id', 'trans_year'], axis=0, as_index=False).size()\n",
    "\n",
    "## Count the number of years in which an account made a transaction\n",
    "account_years = trans_per_year['account_id'].value_counts()\n",
    "\n",
    "## Get indexes and values\n",
    "index_count_year = account_years.index \n",
    "values_count_year = account_years.values\n",
    "\n",
    "## To pandas dataframe\n",
    "df = pd.DataFrame({'account_id': index_count_year, 'count_year': values_count_year})\n",
    "\n",
    "# Get the number of transaction per account id\n",
    "trans_per_acc = trans.groupby(by=['account_id'], axis=0, as_index=False).size()\n",
    "\n",
    "final = df.sort_values(\"account_id\")\n",
    "final['trans'] = trans_per_acc[\"size\"]\n",
    "final['trans_year'] = final['trans'] / final['count_year']\n",
    "final.sort_values(\"trans_year\", inplace=True, ascending=False)\n",
    "final\n"
   ]
  },
  {
   "cell_type": "markdown",
   "metadata": {},
   "source": [
    "The most active account had 441 transaction per year, all within only one year."
   ]
  },
  {
   "cell_type": "markdown",
   "metadata": {},
   "source": [
    "#### Operation Column"
   ]
  },
  {
   "cell_type": "code",
   "execution_count": 294,
   "metadata": {},
   "outputs": [
    {
     "data": {
      "text/plain": [
       "cash            227472\n",
       "another bank     97242\n",
       "NaN              70761\n",
       "credit card       1210\n",
       "Name: operation, dtype: int64"
      ]
     },
     "execution_count": 294,
     "metadata": {},
     "output_type": "execute_result"
    }
   ],
   "source": [
    "count_operations = trans['operation'].value_counts(dropna=False)\n",
    "count_operations"
   ]
  },
  {
   "cell_type": "code",
   "execution_count": 295,
   "metadata": {},
   "outputs": [
    {
     "data": {
      "text/plain": [
       "<AxesSubplot:>"
      ]
     },
     "execution_count": 295,
     "metadata": {},
     "output_type": "execute_result"
    },
    {
     "data": {
      "image/png": "[encoded data removed]",
      "text/plain": [
       "<Figure size 432x432 with 1 Axes>"
      ]
     },
     "metadata": {},
     "output_type": "display_data"
    }
   ],
   "source": [
    "sns.set_style('darkgrid')\n",
    "sns.set(rc={'figure.figsize':(6, 6)})\n",
    "\n",
    "x = count_operations.index.tolist()\n",
    "y = count_operations.values.tolist()\n",
    "\n",
    "sns.barplot(x=x, y=y)"
   ]
  },
  {
   "cell_type": "code",
   "execution_count": 296,
   "metadata": {},
   "outputs": [
    {
     "name": "stdout",
     "output_type": "stream",
     "text": [
      "Number of transactions with null operation: 70761\n"
     ]
    }
   ],
   "source": [
    "print(f\"Number of transactions with null operation: {trans.operation.isna().sum()}\")"
   ]
  },
  {
   "cell_type": "markdown",
   "metadata": {},
   "source": [
    "Lots of transactions missing the operation value..."
   ]
  },
  {
   "cell_type": "markdown",
   "metadata": {},
   "source": [
    "#### K-symbol"
   ]
  },
  {
   "cell_type": "code",
   "execution_count": 300,
   "metadata": {},
   "outputs": [
    {
     "data": {
      "text/plain": [
       "array([nan, 'household', 'payment for statement', 'old-age pension',\n",
       "       'insurrance payment', 'interest credited',\n",
       "       'sanction interest if negative balance'], dtype=object)"
      ]
     },
     "execution_count": 300,
     "metadata": {},
     "output_type": "execute_result"
    }
   ],
   "source": [
    "types_ksymbol = trans[\"k_symbol\"].unique()\n",
    "types_ksymbol"
   ]
  },
  {
   "cell_type": "code",
   "execution_count": 303,
   "metadata": {},
   "outputs": [
    {
     "data": {
      "text/plain": [
       "NaN                                      204309\n",
       "interest credited                         70761\n",
       "payment for statement                     58377\n",
       "household                                 42839\n",
       "old-age pension                           13502\n",
       "insurrance payment                         6592\n",
       "sanction interest if negative balance       305\n",
       "Name: k_symbol, dtype: int64"
      ]
     },
     "execution_count": 303,
     "metadata": {},
     "output_type": "execute_result"
    }
   ],
   "source": [
    "count_ksymbol = trans[\"k_symbol\"].value_counts(dropna=False)\n",
    "count_ksymbol"
   ]
  },
  {
   "cell_type": "markdown",
   "metadata": {},
   "source": [
    "The number of NaN transactions is too high to be considered as not important."
   ]
  },
  {
   "cell_type": "code",
   "execution_count": 310,
   "metadata": {},
   "outputs": [
    {
     "data": {
      "text/plain": [
       "<AxesSubplot:>"
      ]
     },
     "execution_count": 310,
     "metadata": {},
     "output_type": "execute_result"
    },
    {
     "data": {
      "image/png": "[encoded data removed]",
      "text/plain": [
       "<Figure size 1224x648 with 1 Axes>"
      ]
     },
     "metadata": {},
     "output_type": "display_data"
    }
   ],
   "source": [
    "sns.set_style('darkgrid')\n",
    "sns.set(rc={'figure.figsize':(17, 9)})\n",
    "\n",
    "x = count_ksymbol.index.tolist()\n",
    "y = count_ksymbol.values.tolist()\n",
    "\n",
    "sns.barplot(x=x, y=y)"
   ]
  },
  {
   "cell_type": "markdown",
   "metadata": {},
   "source": [
    "#### Bank"
   ]
  },
  {
   "cell_type": "code",
   "execution_count": 311,
   "metadata": {},
   "outputs": [
    {
     "data": {
      "text/plain": [
       "array([nan, 'AB', 'YZ', 'ST', 'QR', 'UV', 'OP', 'IJ', 'KL', 'EF', 'MN',\n",
       "       'GH', 'CD', 'WX'], dtype=object)"
      ]
     },
     "execution_count": 311,
     "metadata": {},
     "output_type": "execute_result"
    }
   ],
   "source": [
    "types_bank = trans[\"bank\"].unique()\n",
    "types_bank"
   ]
  },
  {
   "cell_type": "code",
   "execution_count": 316,
   "metadata": {},
   "outputs": [
    {
     "data": {
      "text/plain": [
       "NaN    299443\n",
       "ST       8114\n",
       "GH       7886\n",
       "EF       7878\n",
       "AB       7666\n",
       "UV       7618\n",
       "OP       7595\n",
       "IJ       7536\n",
       "YZ       7471\n",
       "QR       7413\n",
       "KL       7397\n",
       "WX       7033\n",
       "CD       7009\n",
       "MN       6626\n",
       "Name: bank, dtype: int64"
      ]
     },
     "execution_count": 316,
     "metadata": {},
     "output_type": "execute_result"
    }
   ],
   "source": [
    "counts_bank = trans[\"bank\"].value_counts(dropna=False)\n",
    "counts_bank"
   ]
  },
  {
   "cell_type": "markdown",
   "metadata": {},
   "source": [
    "Once again, the number of NAN values might be too high to be discarded."
   ]
  },
  {
   "cell_type": "markdown",
   "metadata": {},
   "source": [
    "#### Others"
   ]
  },
  {
   "cell_type": "markdown",
   "metadata": {},
   "source": [
    "**Years**"
   ]
  },
  {
   "cell_type": "code",
   "execution_count": 328,
   "metadata": {},
   "outputs": [
    {
     "data": {
      "text/plain": [
       "<AxesSubplot:>"
      ]
     },
     "execution_count": 328,
     "metadata": {},
     "output_type": "execute_result"
    },
    {
     "data": {
      "image/png": "[encoded data removed]",
      "text/plain": [
       "<Figure size 432x432 with 1 Axes>"
      ]
     },
     "metadata": {},
     "output_type": "display_data"
    }
   ],
   "source": [
    "counts_year = trans['trans_year'].value_counts()\n",
    "sns.set_style('darkgrid')\n",
    "sns.set(rc={'figure.figsize':(6, 6)})\n",
    "\n",
    "x = counts_year.index.tolist()\n",
    "y = counts_year.values.tolist()\n",
    "\n",
    "sns.barplot(x=x, y=y)"
   ]
  },
  {
   "cell_type": "markdown",
   "metadata": {},
   "source": [
    "Looks like an accurate distribution"
   ]
  },
  {
   "cell_type": "markdown",
   "metadata": {},
   "source": [
    "**Months**"
   ]
  },
  {
   "cell_type": "code",
   "execution_count": 329,
   "metadata": {},
   "outputs": [
    {
     "data": {
      "text/plain": [
       "<AxesSubplot:>"
      ]
     },
     "execution_count": 329,
     "metadata": {},
     "output_type": "execute_result"
    },
    {
     "data": {
      "image/png": "[encoded data removed]",
      "text/plain": [
       "<Figure size 432x432 with 1 Axes>"
      ]
     },
     "metadata": {},
     "output_type": "display_data"
    }
   ],
   "source": [
    "counts_months = trans['trans_month'].value_counts()\n",
    "sns.set_style('darkgrid')\n",
    "sns.set(rc={'figure.figsize':(6, 6)})\n",
    "\n",
    "x = counts_months.index.tolist()\n",
    "y = counts_months.values.tolist()\n",
    "\n",
    "sns.barplot(x=x, y=y)"
   ]
  },
  {
   "cell_type": "markdown",
   "metadata": {},
   "source": [
    "More transactions in the months of January and December. Would assume these are the most commom months to pay the loan yearly installment"
   ]
  },
  {
   "cell_type": "markdown",
   "metadata": {},
   "source": [
    "**Days**"
   ]
  },
  {
   "cell_type": "code",
   "execution_count": 330,
   "metadata": {},
   "outputs": [
    {
     "data": {
      "text/plain": [
       "<AxesSubplot:>"
      ]
     },
     "execution_count": 330,
     "metadata": {},
     "output_type": "execute_result"
    },
    {
     "data": {
      "image/png": "[encoded data removed]",
      "text/plain": [
       "<Figure size 432x432 with 1 Axes>"
      ]
     },
     "metadata": {},
     "output_type": "display_data"
    }
   ],
   "source": [
    "counts_days = trans['trans_day'].value_counts()\n",
    "sns.set_style('darkgrid')\n",
    "sns.set(rc={'figure.figsize':(6, 6)})\n",
    "\n",
    "x = counts_days.index.tolist()\n",
    "y = counts_days.values.tolist()\n",
    "\n",
    "sns.barplot(x=x, y=y)"
   ]
  },
  {
   "cell_type": "markdown",
   "metadata": {},
   "source": [
    "Following the same logic, one would say that the last days of the month are the most commom to pay the loan installment"
   ]
  },
  {
   "cell_type": "markdown",
   "metadata": {},
   "source": [
    "#### Balance "
   ]
  },
  {
   "cell_type": "code",
   "execution_count": 341,
   "metadata": {},
   "outputs": [
    {
     "data": {
      "image/png": "[encoded data removed]",
      "text/plain": [
       "<Figure size 432x432 with 1 Axes>"
      ]
     },
     "metadata": {},
     "output_type": "display_data"
    }
   ],
   "source": [
    "fig, ax = plt.subplots()\n",
    "plt.hist(trans['balance'])\n",
    "ax.set_xlabel(\"Balance\")\n",
    "ax.set_ylabel(\"Frequence\")\n",
    "\n",
    "plt.show()"
   ]
  },
  {
   "cell_type": "code",
   "execution_count": 339,
   "metadata": {},
   "outputs": [
    {
     "name": "stdout",
     "output_type": "stream",
     "text": [
      "The average balance after a transaction is 35804.79€\n"
     ]
    }
   ],
   "source": [
    "average_balance = trans[\"balance\"].mean()\n",
    "print(f\"The average balance after a transaction is {round(average_balance, 2)}€\")"
   ]
  },
  {
   "cell_type": "markdown",
   "metadata": {},
   "source": [
    "#### Amount"
   ]
  },
  {
   "cell_type": "code",
   "execution_count": 342,
   "metadata": {},
   "outputs": [
    {
     "data": {
      "image/png": "[encoded data removed]",
      "text/plain": [
       "<Figure size 432x432 with 1 Axes>"
      ]
     },
     "metadata": {},
     "output_type": "display_data"
    }
   ],
   "source": [
    "fig, ax = plt.subplots()\n",
    "plt.hist(trans['amount'])\n",
    "ax.set_xlabel(\"Amount\")\n",
    "ax.set_ylabel(\"Frequence\")\n",
    "\n",
    "plt.show()"
   ]
  },
  {
   "cell_type": "code",
   "execution_count": 344,
   "metadata": {},
   "outputs": [
    {
     "name": "stdout",
     "output_type": "stream",
     "text": [
      "The average amount of a transaction is 5677.55€\n"
     ]
    }
   ],
   "source": [
    "average_trans_ammount = trans[\"amount\"].mean()\n",
    "print(f\"The average amount of a transaction is {round(average_trans_ammount, 2)}€\")"
   ]
  },
  {
   "cell_type": "markdown",
   "metadata": {},
   "source": [
    "#### Heatmap"
   ]
  },
  {
   "cell_type": "code",
   "execution_count": 345,
   "metadata": {},
   "outputs": [
    {
     "data": {
      "text/plain": [
       "<AxesSubplot:>"
      ]
     },
     "execution_count": 345,
     "metadata": {},
     "output_type": "execute_result"
    },
    {
     "data": {
      "image/png": "[encoded data removed]",
      "text/plain": [
       "<Figure size 720x720 with 1 Axes>"
      ]
     },
     "metadata": {},
     "output_type": "display_data"
    }
   ],
   "source": [
    "plt.figure(figsize=(10, 10))\n",
    "sns.heatmap(trans.corr(), annot=True, cbar=False)"
   ]
  },
  {
   "cell_type": "markdown",
   "metadata": {},
   "source": [
    "Obviously, there is correlation between the amount of a transaction and the balance after"
   ]
  }
 ],
 "metadata": {
  "kernelspec": {
   "display_name": "Python 3.10.4 64-bit",
   "language": "python",
   "name": "python3"
  },
  "language_info": {
   "codemirror_mode": {
    "name": "ipython",
    "version": 3
   },
   "file_extension": ".py",
   "mimetype": "text/x-python",
   "name": "python",
   "nbconvert_exporter": "python",
   "pygments_lexer": "ipython3",
   "version": "3.10.4"
  },
  "orig_nbformat": 4,
  "vscode": {
   "interpreter": {
    "hash": "d262e7d787343bb66990a00de3e9893afc6af4e1c4b01eb9fd482a95e03b1473"
   }
  }
 },
 "nbformat": 4,
 "nbformat_minor": 2
}
