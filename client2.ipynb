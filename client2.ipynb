{
 "cells": [
  {
   "cell_type": "code",
   "execution_count": 22,
   "metadata": {},
   "outputs": [],
   "source": [
    "import pandas as pd\n",
    "import numpy as np\n",
    "from datetime import date"
   ]
  },
  {
   "cell_type": "code",
   "execution_count": 23,
   "metadata": {},
   "outputs": [
    {
     "data": {
      "text/html": [
       "<div>\n",
       "<style scoped>\n",
       "    .dataframe tbody tr th:only-of-type {\n",
       "        vertical-align: middle;\n",
       "    }\n",
       "\n",
       "    .dataframe tbody tr th {\n",
       "        vertical-align: top;\n",
       "    }\n",
       "\n",
       "    .dataframe thead th {\n",
       "        text-align: right;\n",
       "    }\n",
       "</style>\n",
       "<table border=\"1\" class=\"dataframe\">\n",
       "  <thead>\n",
       "    <tr style=\"text-align: right;\">\n",
       "      <th></th>\n",
       "      <th>client_id</th>\n",
       "      <th>district_id</th>\n",
       "      <th>sex</th>\n",
       "      <th>birth_date</th>\n",
       "    </tr>\n",
       "  </thead>\n",
       "  <tbody>\n",
       "    <tr>\n",
       "      <th>0</th>\n",
       "      <td>1</td>\n",
       "      <td>18</td>\n",
       "      <td>f</td>\n",
       "      <td>1970-12-13</td>\n",
       "    </tr>\n",
       "    <tr>\n",
       "      <th>1</th>\n",
       "      <td>2</td>\n",
       "      <td>1</td>\n",
       "      <td>m</td>\n",
       "      <td>1945-02-04</td>\n",
       "    </tr>\n",
       "    <tr>\n",
       "      <th>2</th>\n",
       "      <td>3</td>\n",
       "      <td>1</td>\n",
       "      <td>f</td>\n",
       "      <td>1940-10-09</td>\n",
       "    </tr>\n",
       "    <tr>\n",
       "      <th>3</th>\n",
       "      <td>4</td>\n",
       "      <td>5</td>\n",
       "      <td>m</td>\n",
       "      <td>1956-12-01</td>\n",
       "    </tr>\n",
       "    <tr>\n",
       "      <th>4</th>\n",
       "      <td>5</td>\n",
       "      <td>5</td>\n",
       "      <td>f</td>\n",
       "      <td>1960-07-03</td>\n",
       "    </tr>\n",
       "  </tbody>\n",
       "</table>\n",
       "</div>"
      ],
      "text/plain": [
       "   client_id  district_id sex  birth_date\n",
       "0          1           18   f  1970-12-13\n",
       "1          2            1   m  1945-02-04\n",
       "2          3            1   f  1940-10-09\n",
       "3          4            5   m  1956-12-01\n",
       "4          5            5   f  1960-07-03"
      ]
     },
     "execution_count": 23,
     "metadata": {},
     "output_type": "execute_result"
    }
   ],
   "source": [
    "client = pd.read_csv(\"dados_tratados/client.csv\", sep=\",\", na_values=[\"?\"])\n",
    "client.head()\n"
   ]
  },
  {
   "cell_type": "code",
   "execution_count": 24,
   "metadata": {},
   "outputs": [],
   "source": [
    "collected_date = pd.to_datetime(\"2000-01-01\", format=\"%Y-%m-%d\")\n"
   ]
  },
  {
   "cell_type": "code",
   "execution_count": 25,
   "metadata": {},
   "outputs": [],
   "source": [
    "def getAge(row):\n",
    "    date = pd.to_datetime(row['birth_date'], format='%Y-%m-%d')\n",
    "    return collected_date.year - date.year - ((collected_date.month, collected_date.day) < (date.month, date.day))"
   ]
  },
  {
   "cell_type": "code",
   "execution_count": 26,
   "metadata": {},
   "outputs": [],
   "source": [
    "client['age'] = client.apply(lambda x : getAge(x), axis=1)\n"
   ]
  },
  {
   "cell_type": "code",
   "execution_count": 27,
   "metadata": {},
   "outputs": [],
   "source": [
    "def getAgeCaterory(row):\n",
    "        age = row['age']\n",
    "        if age <18:\n",
    "            return \"-18\"\n",
    "        elif age >= 18 and age <= 25:\n",
    "            return \"18-25\"\n",
    "        elif age > 25 and age <= 40:\n",
    "            return \"25-40\"\n",
    "        elif age > 40 and age <= 50:\n",
    "            return \"40-50\"\n",
    "        elif age > 50 and age <= 65:\n",
    "            return \"25-50\"\n",
    "        else: \n",
    "            return \">65\"\n"
   ]
  },
  {
   "cell_type": "code",
   "execution_count": 28,
   "metadata": {},
   "outputs": [
    {
     "data": {
      "text/html": [
       "<div>\n",
       "<style scoped>\n",
       "    .dataframe tbody tr th:only-of-type {\n",
       "        vertical-align: middle;\n",
       "    }\n",
       "\n",
       "    .dataframe tbody tr th {\n",
       "        vertical-align: top;\n",
       "    }\n",
       "\n",
       "    .dataframe thead th {\n",
       "        text-align: right;\n",
       "    }\n",
       "</style>\n",
       "<table border=\"1\" class=\"dataframe\">\n",
       "  <thead>\n",
       "    <tr style=\"text-align: right;\">\n",
       "      <th></th>\n",
       "      <th>client_id</th>\n",
       "      <th>district_id</th>\n",
       "      <th>sex</th>\n",
       "      <th>birth_date</th>\n",
       "      <th>age</th>\n",
       "      <th>age_category</th>\n",
       "    </tr>\n",
       "  </thead>\n",
       "  <tbody>\n",
       "    <tr>\n",
       "      <th>0</th>\n",
       "      <td>1</td>\n",
       "      <td>18</td>\n",
       "      <td>f</td>\n",
       "      <td>1970-12-13</td>\n",
       "      <td>29</td>\n",
       "      <td>25-40</td>\n",
       "    </tr>\n",
       "    <tr>\n",
       "      <th>1</th>\n",
       "      <td>2</td>\n",
       "      <td>1</td>\n",
       "      <td>m</td>\n",
       "      <td>1945-02-04</td>\n",
       "      <td>54</td>\n",
       "      <td>25-50</td>\n",
       "    </tr>\n",
       "    <tr>\n",
       "      <th>2</th>\n",
       "      <td>3</td>\n",
       "      <td>1</td>\n",
       "      <td>f</td>\n",
       "      <td>1940-10-09</td>\n",
       "      <td>59</td>\n",
       "      <td>25-50</td>\n",
       "    </tr>\n",
       "    <tr>\n",
       "      <th>3</th>\n",
       "      <td>4</td>\n",
       "      <td>5</td>\n",
       "      <td>m</td>\n",
       "      <td>1956-12-01</td>\n",
       "      <td>43</td>\n",
       "      <td>40-50</td>\n",
       "    </tr>\n",
       "    <tr>\n",
       "      <th>4</th>\n",
       "      <td>5</td>\n",
       "      <td>5</td>\n",
       "      <td>f</td>\n",
       "      <td>1960-07-03</td>\n",
       "      <td>39</td>\n",
       "      <td>25-40</td>\n",
       "    </tr>\n",
       "  </tbody>\n",
       "</table>\n",
       "</div>"
      ],
      "text/plain": [
       "   client_id  district_id sex  birth_date  age age_category\n",
       "0          1           18   f  1970-12-13   29        25-40\n",
       "1          2            1   m  1945-02-04   54        25-50\n",
       "2          3            1   f  1940-10-09   59        25-50\n",
       "3          4            5   m  1956-12-01   43        40-50\n",
       "4          5            5   f  1960-07-03   39        25-40"
      ]
     },
     "execution_count": 28,
     "metadata": {},
     "output_type": "execute_result"
    }
   ],
   "source": [
    "client['age_category'] = client.apply(lambda x : getAgeCaterory(x), axis=1)\n",
    "client.head()"
   ]
  },
  {
   "cell_type": "code",
   "execution_count": 29,
   "metadata": {},
   "outputs": [
    {
     "data": {
      "image/png": "[encoded data removed]",
      "text/plain": [
       "<Figure size 432x288 with 1 Axes>"
      ]
     },
     "metadata": {
      "needs_background": "light"
     },
     "output_type": "display_data"
    },
    {
     "data": {
      "image/png": "[encoded data removed]",
      "text/plain": [
       "<Figure size 432x288 with 1 Axes>"
      ]
     },
     "metadata": {
      "needs_background": "light"
     },
     "output_type": "display_data"
    }
   ],
   "source": [
    "import matplotlib.pyplot as plt\n",
    "plt.hist(client[\"age\"], 10, rwidth=0.9)\n",
    "plt.show()\n",
    "plt.hist(client[\"age_category\"], 10, rwidth=0.9)\n",
    "plt.show()"
   ]
  },
  {
   "cell_type": "code",
   "execution_count": 30,
   "metadata": {},
   "outputs": [
    {
     "data": {
      "text/html": [
       "<div>\n",
       "<style scoped>\n",
       "    .dataframe tbody tr th:only-of-type {\n",
       "        vertical-align: middle;\n",
       "    }\n",
       "\n",
       "    .dataframe tbody tr th {\n",
       "        vertical-align: top;\n",
       "    }\n",
       "\n",
       "    .dataframe thead th {\n",
       "        text-align: right;\n",
       "    }\n",
       "</style>\n",
       "<table border=\"1\" class=\"dataframe\">\n",
       "  <thead>\n",
       "    <tr style=\"text-align: right;\">\n",
       "      <th></th>\n",
       "      <th>client_id</th>\n",
       "      <th>district_id</th>\n",
       "      <th>sex</th>\n",
       "      <th>age</th>\n",
       "      <th>age_category</th>\n",
       "    </tr>\n",
       "  </thead>\n",
       "  <tbody>\n",
       "    <tr>\n",
       "      <th>0</th>\n",
       "      <td>1</td>\n",
       "      <td>18</td>\n",
       "      <td>f</td>\n",
       "      <td>29</td>\n",
       "      <td>25-40</td>\n",
       "    </tr>\n",
       "    <tr>\n",
       "      <th>1</th>\n",
       "      <td>2</td>\n",
       "      <td>1</td>\n",
       "      <td>m</td>\n",
       "      <td>54</td>\n",
       "      <td>25-50</td>\n",
       "    </tr>\n",
       "    <tr>\n",
       "      <th>2</th>\n",
       "      <td>3</td>\n",
       "      <td>1</td>\n",
       "      <td>f</td>\n",
       "      <td>59</td>\n",
       "      <td>25-50</td>\n",
       "    </tr>\n",
       "    <tr>\n",
       "      <th>3</th>\n",
       "      <td>4</td>\n",
       "      <td>5</td>\n",
       "      <td>m</td>\n",
       "      <td>43</td>\n",
       "      <td>40-50</td>\n",
       "    </tr>\n",
       "    <tr>\n",
       "      <th>4</th>\n",
       "      <td>5</td>\n",
       "      <td>5</td>\n",
       "      <td>f</td>\n",
       "      <td>39</td>\n",
       "      <td>25-40</td>\n",
       "    </tr>\n",
       "  </tbody>\n",
       "</table>\n",
       "</div>"
      ],
      "text/plain": [
       "   client_id  district_id sex  age age_category\n",
       "0          1           18   f   29        25-40\n",
       "1          2            1   m   54        25-50\n",
       "2          3            1   f   59        25-50\n",
       "3          4            5   m   43        40-50\n",
       "4          5            5   f   39        25-40"
      ]
     },
     "execution_count": 30,
     "metadata": {},
     "output_type": "execute_result"
    }
   ],
   "source": [
    "client = client.drop(client.columns[[3]], axis=1)\n",
    "client.head()"
   ]
  },
  {
   "cell_type": "code",
   "execution_count": 31,
   "metadata": {},
   "outputs": [],
   "source": [
    "demographics = pd.read_csv(\"dados_tratados/demographics.csv\", sep=\",\", header=0)\n",
    "demographics = demographics.rename(columns={\"code\" : \"district_id\"})\n",
    "\n"
   ]
  },
  {
   "cell_type": "code",
   "execution_count": 32,
   "metadata": {},
   "outputs": [
    {
     "data": {
      "text/html": [
       "<div>\n",
       "<style scoped>\n",
       "    .dataframe tbody tr th:only-of-type {\n",
       "        vertical-align: middle;\n",
       "    }\n",
       "\n",
       "    .dataframe tbody tr th {\n",
       "        vertical-align: top;\n",
       "    }\n",
       "\n",
       "    .dataframe thead th {\n",
       "        text-align: right;\n",
       "    }\n",
       "</style>\n",
       "<table border=\"1\" class=\"dataframe\">\n",
       "  <thead>\n",
       "    <tr style=\"text-align: right;\">\n",
       "      <th></th>\n",
       "      <th>client_id</th>\n",
       "      <th>district_id</th>\n",
       "      <th>sex</th>\n",
       "      <th>age</th>\n",
       "      <th>age_category</th>\n",
       "      <th>no. of inhabitants</th>\n",
       "      <th>ratio of urban inhabitants</th>\n",
       "      <th>average salary</th>\n",
       "      <th>crime_increase</th>\n",
       "      <th>unemployment_increase</th>\n",
       "      <th>crime_avg</th>\n",
       "      <th>unemployment_avg</th>\n",
       "    </tr>\n",
       "  </thead>\n",
       "  <tbody>\n",
       "    <tr>\n",
       "      <th>0</th>\n",
       "      <td>1</td>\n",
       "      <td>18</td>\n",
       "      <td>f</td>\n",
       "      <td>29</td>\n",
       "      <td>25-40</td>\n",
       "      <td>70699</td>\n",
       "      <td>65.3</td>\n",
       "      <td>8968</td>\n",
       "      <td>2.4</td>\n",
       "      <td>0.52</td>\n",
       "      <td>25.81</td>\n",
       "      <td>3.09</td>\n",
       "    </tr>\n",
       "    <tr>\n",
       "      <th>1</th>\n",
       "      <td>420</td>\n",
       "      <td>18</td>\n",
       "      <td>m</td>\n",
       "      <td>21</td>\n",
       "      <td>18-25</td>\n",
       "      <td>70699</td>\n",
       "      <td>65.3</td>\n",
       "      <td>8968</td>\n",
       "      <td>2.4</td>\n",
       "      <td>0.52</td>\n",
       "      <td>25.81</td>\n",
       "      <td>3.09</td>\n",
       "    </tr>\n",
       "    <tr>\n",
       "      <th>2</th>\n",
       "      <td>499</td>\n",
       "      <td>18</td>\n",
       "      <td>f</td>\n",
       "      <td>64</td>\n",
       "      <td>25-50</td>\n",
       "      <td>70699</td>\n",
       "      <td>65.3</td>\n",
       "      <td>8968</td>\n",
       "      <td>2.4</td>\n",
       "      <td>0.52</td>\n",
       "      <td>25.81</td>\n",
       "      <td>3.09</td>\n",
       "    </tr>\n",
       "    <tr>\n",
       "      <th>3</th>\n",
       "      <td>519</td>\n",
       "      <td>18</td>\n",
       "      <td>m</td>\n",
       "      <td>19</td>\n",
       "      <td>18-25</td>\n",
       "      <td>70699</td>\n",
       "      <td>65.3</td>\n",
       "      <td>8968</td>\n",
       "      <td>2.4</td>\n",
       "      <td>0.52</td>\n",
       "      <td>25.81</td>\n",
       "      <td>3.09</td>\n",
       "    </tr>\n",
       "    <tr>\n",
       "      <th>4</th>\n",
       "      <td>682</td>\n",
       "      <td>18</td>\n",
       "      <td>m</td>\n",
       "      <td>20</td>\n",
       "      <td>18-25</td>\n",
       "      <td>70699</td>\n",
       "      <td>65.3</td>\n",
       "      <td>8968</td>\n",
       "      <td>2.4</td>\n",
       "      <td>0.52</td>\n",
       "      <td>25.81</td>\n",
       "      <td>3.09</td>\n",
       "    </tr>\n",
       "  </tbody>\n",
       "</table>\n",
       "</div>"
      ],
      "text/plain": [
       "   client_id  district_id sex  age age_category  no. of inhabitants  \\\n",
       "0          1           18   f   29        25-40               70699   \n",
       "1        420           18   m   21        18-25               70699   \n",
       "2        499           18   f   64        25-50               70699   \n",
       "3        519           18   m   19        18-25               70699   \n",
       "4        682           18   m   20        18-25               70699   \n",
       "\n",
       "   ratio of urban inhabitants  average salary  crime_increase  \\\n",
       "0                        65.3            8968             2.4   \n",
       "1                        65.3            8968             2.4   \n",
       "2                        65.3            8968             2.4   \n",
       "3                        65.3            8968             2.4   \n",
       "4                        65.3            8968             2.4   \n",
       "\n",
       "   unemployment_increase  crime_avg  unemployment_avg  \n",
       "0                   0.52      25.81              3.09  \n",
       "1                   0.52      25.81              3.09  \n",
       "2                   0.52      25.81              3.09  \n",
       "3                   0.52      25.81              3.09  \n",
       "4                   0.52      25.81              3.09  "
      ]
     },
     "execution_count": 32,
     "metadata": {},
     "output_type": "execute_result"
    }
   ],
   "source": [
    "client_demographics = pd.merge(client, demographics, on=\"district_id\")\n",
    "client_demographics.head()"
   ]
  },
  {
   "cell_type": "code",
   "execution_count": null,
   "metadata": {},
   "outputs": [],
   "source": []
  },
  {
   "cell_type": "code",
   "execution_count": null,
   "metadata": {},
   "outputs": [],
   "source": []
  },
  {
   "cell_type": "code",
   "execution_count": 33,
   "metadata": {},
   "outputs": [],
   "source": [
    "client_demographics = client_demographics.sort_values(by=['client_id'])\n",
    "client_demographics.to_csv(\"dados_limpos/client_demographics.csv\", index=False, float_format=\"%.2f\")\n"
   ]
  },
  {
   "cell_type": "markdown",
   "metadata": {},
   "source": [
    "### Associantion between client_demo and Account ID's"
   ]
  },
  {
   "cell_type": "code",
   "execution_count": 34,
   "metadata": {},
   "outputs": [
    {
     "data": {
      "text/html": [
       "<div>\n",
       "<style scoped>\n",
       "    .dataframe tbody tr th:only-of-type {\n",
       "        vertical-align: middle;\n",
       "    }\n",
       "\n",
       "    .dataframe tbody tr th {\n",
       "        vertical-align: top;\n",
       "    }\n",
       "\n",
       "    .dataframe thead th {\n",
       "        text-align: right;\n",
       "    }\n",
       "</style>\n",
       "<table border=\"1\" class=\"dataframe\">\n",
       "  <thead>\n",
       "    <tr style=\"text-align: right;\">\n",
       "      <th></th>\n",
       "      <th>disp_id</th>\n",
       "      <th>client_id</th>\n",
       "      <th>account_id</th>\n",
       "      <th>type</th>\n",
       "    </tr>\n",
       "  </thead>\n",
       "  <tbody>\n",
       "    <tr>\n",
       "      <th>0</th>\n",
       "      <td>1</td>\n",
       "      <td>1</td>\n",
       "      <td>1</td>\n",
       "      <td>OWNER</td>\n",
       "    </tr>\n",
       "    <tr>\n",
       "      <th>1</th>\n",
       "      <td>2</td>\n",
       "      <td>2</td>\n",
       "      <td>2</td>\n",
       "      <td>OWNER</td>\n",
       "    </tr>\n",
       "    <tr>\n",
       "      <th>2</th>\n",
       "      <td>3</td>\n",
       "      <td>3</td>\n",
       "      <td>2</td>\n",
       "      <td>DISPONENT</td>\n",
       "    </tr>\n",
       "    <tr>\n",
       "      <th>3</th>\n",
       "      <td>4</td>\n",
       "      <td>4</td>\n",
       "      <td>3</td>\n",
       "      <td>OWNER</td>\n",
       "    </tr>\n",
       "    <tr>\n",
       "      <th>4</th>\n",
       "      <td>5</td>\n",
       "      <td>5</td>\n",
       "      <td>3</td>\n",
       "      <td>DISPONENT</td>\n",
       "    </tr>\n",
       "  </tbody>\n",
       "</table>\n",
       "</div>"
      ],
      "text/plain": [
       "   disp_id  client_id  account_id       type\n",
       "0        1          1           1      OWNER\n",
       "1        2          2           2      OWNER\n",
       "2        3          3           2  DISPONENT\n",
       "3        4          4           3      OWNER\n",
       "4        5          5           3  DISPONENT"
      ]
     },
     "execution_count": 34,
     "metadata": {},
     "output_type": "execute_result"
    }
   ],
   "source": [
    "client_acount_association = pd.read_csv(\"dados/disp.csv\", sep=\";\", header=0)\n",
    "client_acount_association.head()\n"
   ]
  },
  {
   "cell_type": "markdown",
   "metadata": {},
   "source": [
    "### Association between disposition and credit card"
   ]
  },
  {
   "cell_type": "code",
   "execution_count": 35,
   "metadata": {},
   "outputs": [
    {
     "data": {
      "text/html": [
       "<div>\n",
       "<style scoped>\n",
       "    .dataframe tbody tr th:only-of-type {\n",
       "        vertical-align: middle;\n",
       "    }\n",
       "\n",
       "    .dataframe tbody tr th {\n",
       "        vertical-align: top;\n",
       "    }\n",
       "\n",
       "    .dataframe thead th {\n",
       "        text-align: right;\n",
       "    }\n",
       "</style>\n",
       "<table border=\"1\" class=\"dataframe\">\n",
       "  <thead>\n",
       "    <tr style=\"text-align: right;\">\n",
       "      <th></th>\n",
       "      <th>card_id</th>\n",
       "      <th>disp_id</th>\n",
       "      <th>type</th>\n",
       "      <th>issued</th>\n",
       "    </tr>\n",
       "  </thead>\n",
       "  <tbody>\n",
       "    <tr>\n",
       "      <th>0</th>\n",
       "      <td>1005</td>\n",
       "      <td>9285</td>\n",
       "      <td>classic</td>\n",
       "      <td>931107</td>\n",
       "    </tr>\n",
       "    <tr>\n",
       "      <th>1</th>\n",
       "      <td>104</td>\n",
       "      <td>588</td>\n",
       "      <td>classic</td>\n",
       "      <td>940119</td>\n",
       "    </tr>\n",
       "    <tr>\n",
       "      <th>2</th>\n",
       "      <td>747</td>\n",
       "      <td>4915</td>\n",
       "      <td>classic</td>\n",
       "      <td>940205</td>\n",
       "    </tr>\n",
       "    <tr>\n",
       "      <th>3</th>\n",
       "      <td>70</td>\n",
       "      <td>439</td>\n",
       "      <td>classic</td>\n",
       "      <td>940208</td>\n",
       "    </tr>\n",
       "    <tr>\n",
       "      <th>4</th>\n",
       "      <td>577</td>\n",
       "      <td>3687</td>\n",
       "      <td>classic</td>\n",
       "      <td>940215</td>\n",
       "    </tr>\n",
       "  </tbody>\n",
       "</table>\n",
       "</div>"
      ],
      "text/plain": [
       "   card_id  disp_id     type  issued\n",
       "0     1005     9285  classic  931107\n",
       "1      104      588  classic  940119\n",
       "2      747     4915  classic  940205\n",
       "3       70      439  classic  940208\n",
       "4      577     3687  classic  940215"
      ]
     },
     "execution_count": 35,
     "metadata": {},
     "output_type": "execute_result"
    }
   ],
   "source": [
    "client_card = pd.read_csv(\"dados/card_dev.csv\", sep=\";\", header=0)\n",
    "client_card.head()"
   ]
  },
  {
   "cell_type": "code",
   "execution_count": 36,
   "metadata": {},
   "outputs": [
    {
     "data": {
      "text/html": [
       "<div>\n",
       "<style scoped>\n",
       "    .dataframe tbody tr th:only-of-type {\n",
       "        vertical-align: middle;\n",
       "    }\n",
       "\n",
       "    .dataframe tbody tr th {\n",
       "        vertical-align: top;\n",
       "    }\n",
       "\n",
       "    .dataframe thead th {\n",
       "        text-align: right;\n",
       "    }\n",
       "</style>\n",
       "<table border=\"1\" class=\"dataframe\">\n",
       "  <thead>\n",
       "    <tr style=\"text-align: right;\">\n",
       "      <th></th>\n",
       "      <th>disp_id</th>\n",
       "      <th>client_id</th>\n",
       "      <th>account_id</th>\n",
       "      <th>type_x</th>\n",
       "      <th>card_id</th>\n",
       "      <th>type_y</th>\n",
       "      <th>issued</th>\n",
       "    </tr>\n",
       "  </thead>\n",
       "  <tbody>\n",
       "    <tr>\n",
       "      <th>0</th>\n",
       "      <td>41</td>\n",
       "      <td>41</td>\n",
       "      <td>33</td>\n",
       "      <td>OWNER</td>\n",
       "      <td>3</td>\n",
       "      <td>gold</td>\n",
       "      <td>950903</td>\n",
       "    </tr>\n",
       "    <tr>\n",
       "      <th>1</th>\n",
       "      <td>51</td>\n",
       "      <td>51</td>\n",
       "      <td>43</td>\n",
       "      <td>OWNER</td>\n",
       "      <td>5</td>\n",
       "      <td>junior</td>\n",
       "      <td>950424</td>\n",
       "    </tr>\n",
       "    <tr>\n",
       "      <th>2</th>\n",
       "      <td>77</td>\n",
       "      <td>77</td>\n",
       "      <td>66</td>\n",
       "      <td>OWNER</td>\n",
       "      <td>10</td>\n",
       "      <td>classic</td>\n",
       "      <td>961207</td>\n",
       "    </tr>\n",
       "    <tr>\n",
       "      <th>3</th>\n",
       "      <td>83</td>\n",
       "      <td>83</td>\n",
       "      <td>71</td>\n",
       "      <td>OWNER</td>\n",
       "      <td>12</td>\n",
       "      <td>junior</td>\n",
       "      <td>960911</td>\n",
       "    </tr>\n",
       "    <tr>\n",
       "      <th>4</th>\n",
       "      <td>87</td>\n",
       "      <td>87</td>\n",
       "      <td>73</td>\n",
       "      <td>OWNER</td>\n",
       "      <td>13</td>\n",
       "      <td>classic</td>\n",
       "      <td>940629</td>\n",
       "    </tr>\n",
       "  </tbody>\n",
       "</table>\n",
       "</div>"
      ],
      "text/plain": [
       "   disp_id  client_id  account_id type_x  card_id   type_y  issued\n",
       "0       41         41          33  OWNER        3     gold  950903\n",
       "1       51         51          43  OWNER        5   junior  950424\n",
       "2       77         77          66  OWNER       10  classic  961207\n",
       "3       83         83          71  OWNER       12   junior  960911\n",
       "4       87         87          73  OWNER       13  classic  940629"
      ]
     },
     "execution_count": 36,
     "metadata": {},
     "output_type": "execute_result"
    }
   ],
   "source": [
    "disp_card = pd.merge(client_acount_association, client_card, on=\"disp_id\")\n",
    "disp_card.head()"
   ]
  },
  {
   "cell_type": "code",
   "execution_count": 37,
   "metadata": {},
   "outputs": [],
   "source": [
    "disp_card = disp_card.drop(['disp_id', 'card_id'], axis=1)"
   ]
  },
  {
   "cell_type": "code",
   "execution_count": 38,
   "metadata": {},
   "outputs": [],
   "source": [
    "disp_card = disp_card.rename(columns={'type_y': 'typeCard', 'type_x': 'typeDisposition'})"
   ]
  },
  {
   "cell_type": "code",
   "execution_count": 39,
   "metadata": {},
   "outputs": [
    {
     "data": {
      "text/html": [
       "<div>\n",
       "<style scoped>\n",
       "    .dataframe tbody tr th:only-of-type {\n",
       "        vertical-align: middle;\n",
       "    }\n",
       "\n",
       "    .dataframe tbody tr th {\n",
       "        vertical-align: top;\n",
       "    }\n",
       "\n",
       "    .dataframe thead th {\n",
       "        text-align: right;\n",
       "    }\n",
       "</style>\n",
       "<table border=\"1\" class=\"dataframe\">\n",
       "  <thead>\n",
       "    <tr style=\"text-align: right;\">\n",
       "      <th></th>\n",
       "      <th>client_id</th>\n",
       "      <th>account_id</th>\n",
       "      <th>typeDisposition</th>\n",
       "      <th>typeCard</th>\n",
       "      <th>issued</th>\n",
       "    </tr>\n",
       "  </thead>\n",
       "  <tbody>\n",
       "    <tr>\n",
       "      <th>0</th>\n",
       "      <td>41</td>\n",
       "      <td>33</td>\n",
       "      <td>OWNER</td>\n",
       "      <td>gold</td>\n",
       "      <td>950903</td>\n",
       "    </tr>\n",
       "    <tr>\n",
       "      <th>1</th>\n",
       "      <td>51</td>\n",
       "      <td>43</td>\n",
       "      <td>OWNER</td>\n",
       "      <td>junior</td>\n",
       "      <td>950424</td>\n",
       "    </tr>\n",
       "    <tr>\n",
       "      <th>2</th>\n",
       "      <td>77</td>\n",
       "      <td>66</td>\n",
       "      <td>OWNER</td>\n",
       "      <td>classic</td>\n",
       "      <td>961207</td>\n",
       "    </tr>\n",
       "    <tr>\n",
       "      <th>3</th>\n",
       "      <td>83</td>\n",
       "      <td>71</td>\n",
       "      <td>OWNER</td>\n",
       "      <td>junior</td>\n",
       "      <td>960911</td>\n",
       "    </tr>\n",
       "    <tr>\n",
       "      <th>4</th>\n",
       "      <td>87</td>\n",
       "      <td>73</td>\n",
       "      <td>OWNER</td>\n",
       "      <td>classic</td>\n",
       "      <td>940629</td>\n",
       "    </tr>\n",
       "  </tbody>\n",
       "</table>\n",
       "</div>"
      ],
      "text/plain": [
       "   client_id  account_id typeDisposition typeCard  issued\n",
       "0         41          33           OWNER     gold  950903\n",
       "1         51          43           OWNER   junior  950424\n",
       "2         77          66           OWNER  classic  961207\n",
       "3         83          71           OWNER   junior  960911\n",
       "4         87          73           OWNER  classic  940629"
      ]
     },
     "execution_count": 39,
     "metadata": {},
     "output_type": "execute_result"
    }
   ],
   "source": [
    "disp_card.head()"
   ]
  },
  {
   "cell_type": "code",
   "execution_count": 40,
   "metadata": {},
   "outputs": [],
   "source": [
    "disp_card = disp_card.sort_values(by=['client_id'])\n",
    "disp_card.to_csv(\"dados_limpos/disp_credit.csv\", index=False, float_format=\"%.2f\")\n"
   ]
  },
  {
   "cell_type": "markdown",
   "metadata": {},
   "source": [
    "Merge the two tables by client_id"
   ]
  },
  {
   "cell_type": "markdown",
   "metadata": {},
   "source": []
  },
  {
   "cell_type": "code",
   "execution_count": 41,
   "metadata": {},
   "outputs": [
    {
     "data": {
      "text/html": [
       "<div>\n",
       "<style scoped>\n",
       "    .dataframe tbody tr th:only-of-type {\n",
       "        vertical-align: middle;\n",
       "    }\n",
       "\n",
       "    .dataframe tbody tr th {\n",
       "        vertical-align: top;\n",
       "    }\n",
       "\n",
       "    .dataframe thead th {\n",
       "        text-align: right;\n",
       "    }\n",
       "</style>\n",
       "<table border=\"1\" class=\"dataframe\">\n",
       "  <thead>\n",
       "    <tr style=\"text-align: right;\">\n",
       "      <th></th>\n",
       "      <th>client_id</th>\n",
       "      <th>account_id</th>\n",
       "      <th>typeDisposition</th>\n",
       "      <th>typeCard</th>\n",
       "      <th>issued</th>\n",
       "      <th>district_id</th>\n",
       "      <th>sex</th>\n",
       "      <th>age</th>\n",
       "      <th>age_category</th>\n",
       "      <th>no. of inhabitants</th>\n",
       "      <th>ratio of urban inhabitants</th>\n",
       "      <th>average salary</th>\n",
       "      <th>crime_increase</th>\n",
       "      <th>unemployment_increase</th>\n",
       "      <th>crime_avg</th>\n",
       "      <th>unemployment_avg</th>\n",
       "    </tr>\n",
       "  </thead>\n",
       "  <tbody>\n",
       "    <tr>\n",
       "      <th>0</th>\n",
       "      <td>41</td>\n",
       "      <td>33</td>\n",
       "      <td>OWNER</td>\n",
       "      <td>gold</td>\n",
       "      <td>950903</td>\n",
       "      <td>22</td>\n",
       "      <td>m</td>\n",
       "      <td>31</td>\n",
       "      <td>25-40</td>\n",
       "      <td>58400</td>\n",
       "      <td>52.4</td>\n",
       "      <td>8620</td>\n",
       "      <td>0.48</td>\n",
       "      <td>0.15</td>\n",
       "      <td>18.89</td>\n",
       "      <td>1.18</td>\n",
       "    </tr>\n",
       "    <tr>\n",
       "      <th>1</th>\n",
       "      <td>51</td>\n",
       "      <td>43</td>\n",
       "      <td>OWNER</td>\n",
       "      <td>junior</td>\n",
       "      <td>950424</td>\n",
       "      <td>36</td>\n",
       "      <td>f</td>\n",
       "      <td>20</td>\n",
       "      <td>18-25</td>\n",
       "      <td>159617</td>\n",
       "      <td>85.2</td>\n",
       "      <td>9198</td>\n",
       "      <td>2.11</td>\n",
       "      <td>0.95</td>\n",
       "      <td>37.36</td>\n",
       "      <td>3.81</td>\n",
       "    </tr>\n",
       "    <tr>\n",
       "      <th>2</th>\n",
       "      <td>77</td>\n",
       "      <td>66</td>\n",
       "      <td>OWNER</td>\n",
       "      <td>classic</td>\n",
       "      <td>961207</td>\n",
       "      <td>1</td>\n",
       "      <td>f</td>\n",
       "      <td>43</td>\n",
       "      <td>40-50</td>\n",
       "      <td>1204953</td>\n",
       "      <td>100.0</td>\n",
       "      <td>12541</td>\n",
       "      <td>11.15</td>\n",
       "      <td>0.14</td>\n",
       "      <td>76.68</td>\n",
       "      <td>0.36</td>\n",
       "    </tr>\n",
       "    <tr>\n",
       "      <th>3</th>\n",
       "      <td>83</td>\n",
       "      <td>71</td>\n",
       "      <td>OWNER</td>\n",
       "      <td>junior</td>\n",
       "      <td>960911</td>\n",
       "      <td>1</td>\n",
       "      <td>f</td>\n",
       "      <td>21</td>\n",
       "      <td>18-25</td>\n",
       "      <td>1204953</td>\n",
       "      <td>100.0</td>\n",
       "      <td>12541</td>\n",
       "      <td>11.15</td>\n",
       "      <td>0.14</td>\n",
       "      <td>76.68</td>\n",
       "      <td>0.36</td>\n",
       "    </tr>\n",
       "    <tr>\n",
       "      <th>4</th>\n",
       "      <td>87</td>\n",
       "      <td>73</td>\n",
       "      <td>OWNER</td>\n",
       "      <td>classic</td>\n",
       "      <td>940629</td>\n",
       "      <td>72</td>\n",
       "      <td>f</td>\n",
       "      <td>53</td>\n",
       "      <td>25-50</td>\n",
       "      <td>226122</td>\n",
       "      <td>62.6</td>\n",
       "      <td>8994</td>\n",
       "      <td>-2.05</td>\n",
       "      <td>0.99</td>\n",
       "      <td>41.75</td>\n",
       "      <td>4.29</td>\n",
       "    </tr>\n",
       "  </tbody>\n",
       "</table>\n",
       "</div>"
      ],
      "text/plain": [
       "   client_id  account_id typeDisposition typeCard  issued  district_id sex  \\\n",
       "0         41          33           OWNER     gold  950903           22   m   \n",
       "1         51          43           OWNER   junior  950424           36   f   \n",
       "2         77          66           OWNER  classic  961207            1   f   \n",
       "3         83          71           OWNER   junior  960911            1   f   \n",
       "4         87          73           OWNER  classic  940629           72   f   \n",
       "\n",
       "   age age_category  no. of inhabitants  ratio of urban inhabitants  \\\n",
       "0   31        25-40               58400                        52.4   \n",
       "1   20        18-25              159617                        85.2   \n",
       "2   43        40-50             1204953                       100.0   \n",
       "3   21        18-25             1204953                       100.0   \n",
       "4   53        25-50              226122                        62.6   \n",
       "\n",
       "   average salary  crime_increase  unemployment_increase  crime_avg  \\\n",
       "0            8620            0.48                   0.15      18.89   \n",
       "1            9198            2.11                   0.95      37.36   \n",
       "2           12541           11.15                   0.14      76.68   \n",
       "3           12541           11.15                   0.14      76.68   \n",
       "4            8994           -2.05                   0.99      41.75   \n",
       "\n",
       "   unemployment_avg  \n",
       "0              1.18  \n",
       "1              3.81  \n",
       "2              0.36  \n",
       "3              0.36  \n",
       "4              4.29  "
      ]
     },
     "execution_count": 41,
     "metadata": {},
     "output_type": "execute_result"
    }
   ],
   "source": [
    "merged_client_demo_account = pd.merge(disp_card, client_demographics, on= 'client_id')\n",
    "merged_client_demo_account.to_csv(\"dados_limpos/client_demo_account.csv\", index=False, float_format=\"%.2f\")\n",
    "merged_client_demo_account.head()\n",
    "\n"
   ]
  },
  {
   "cell_type": "code",
   "execution_count": 65,
   "metadata": {},
   "outputs": [
    {
     "ename": "NameError",
     "evalue": "name 'merged_client_demo_accoun' is not defined",
     "output_type": "error",
     "traceback": [
      "\u001b[0;31m---------------------------------------------------------------------------\u001b[0m",
      "\u001b[0;31mNameError\u001b[0m                                 Traceback (most recent call last)",
      "\u001b[0;32m<ipython-input-65-33ac4721e727>\u001b[0m in \u001b[0;36m<module>\u001b[0;34m\u001b[0m\n\u001b[0;32m----> 1\u001b[0;31m \u001b[0mmerged_client_demo_accoun\u001b[0m\u001b[0;34m[\u001b[0m \u001b[0;34m'status'\u001b[0m\u001b[0;34m]\u001b[0m\u001b[0;34m\u001b[0m\u001b[0;34m\u001b[0m\u001b[0m\n\u001b[0m",
      "\u001b[0;31mNameError\u001b[0m: name 'merged_client_demo_accoun' is not defined"
     ]
    }
   ],
   "source": []
  },
  {
   "cell_type": "code",
   "execution_count": null,
   "metadata": {},
   "outputs": [],
   "source": []
  },
  {
   "cell_type": "markdown",
   "metadata": {},
   "source": []
  },
  {
   "cell_type": "code",
   "execution_count": 42,
   "metadata": {},
   "outputs": [
    {
     "ename": "ModuleNotFoundError",
     "evalue": "No module named 'seaborn'",
     "output_type": "error",
     "traceback": [
      "\u001b[0;31m---------------------------------------------------------------------------\u001b[0m",
      "\u001b[0;31mModuleNotFoundError\u001b[0m                       Traceback (most recent call last)",
      "\u001b[0;32m<ipython-input-42-76ba8e789c77>\u001b[0m in \u001b[0;36m<module>\u001b[0;34m\u001b[0m\n\u001b[0;32m----> 1\u001b[0;31m \u001b[0;32mimport\u001b[0m \u001b[0mseaborn\u001b[0m \u001b[0;32mas\u001b[0m \u001b[0msns\u001b[0m\u001b[0;34m\u001b[0m\u001b[0;34m\u001b[0m\u001b[0m\n\u001b[0m\u001b[1;32m      2\u001b[0m \u001b[0msns\u001b[0m\u001b[0;34m.\u001b[0m\u001b[0mset_theme\u001b[0m\u001b[0;34m(\u001b[0m\u001b[0mstyle\u001b[0m\u001b[0;34m=\u001b[0m\u001b[0;34m\"darkgrid\"\u001b[0m\u001b[0;34m)\u001b[0m\u001b[0;34m\u001b[0m\u001b[0;34m\u001b[0m\u001b[0m\n\u001b[1;32m      3\u001b[0m \u001b[0msns\u001b[0m\u001b[0;34m.\u001b[0m\u001b[0mrelplot\u001b[0m\u001b[0;34m(\u001b[0m\u001b[0mdata\u001b[0m\u001b[0;34m=\u001b[0m \u001b[0mmerged_client_demo_account\u001b[0m\u001b[0;34m,\u001b[0m \u001b[0mx\u001b[0m\u001b[0;34m=\u001b[0m\u001b[0;34m\"unemployment_increase\"\u001b[0m\u001b[0;34m,\u001b[0m \u001b[0my\u001b[0m\u001b[0;34m=\u001b[0m\u001b[0;34m\"status\"\u001b[0m\u001b[0;34m)\u001b[0m\u001b[0;34m\u001b[0m\u001b[0;34m\u001b[0m\u001b[0m\n",
      "\u001b[0;31mModuleNotFoundError\u001b[0m: No module named 'seaborn'"
     ]
    }
   ],
   "source": [
    "import seaborn as sns\n",
    "sns.set_theme(style=\"darkgrid\")\n",
    "sns.relplot(data= merged_client_demo_account, x=\"unemployment_increase\", y=\"status\")\n"
   ]
  },
  {
   "cell_type": "markdown",
   "metadata": {},
   "source": [
    "# Qualquer titulo"
   ]
  },
  {
   "cell_type": "markdown",
   "metadata": {},
   "source": [
    "### Merge the Loan and Transaction table with account\n"
   ]
  },
  {
   "cell_type": "code",
   "execution_count": 43,
   "metadata": {},
   "outputs": [
    {
     "data": {
      "text/html": [
       "<div>\n",
       "<style scoped>\n",
       "    .dataframe tbody tr th:only-of-type {\n",
       "        vertical-align: middle;\n",
       "    }\n",
       "\n",
       "    .dataframe tbody tr th {\n",
       "        vertical-align: top;\n",
       "    }\n",
       "\n",
       "    .dataframe thead th {\n",
       "        text-align: right;\n",
       "    }\n",
       "</style>\n",
       "<table border=\"1\" class=\"dataframe\">\n",
       "  <thead>\n",
       "    <tr style=\"text-align: right;\">\n",
       "      <th></th>\n",
       "      <th>loan_id</th>\n",
       "      <th>account_id</th>\n",
       "      <th>date</th>\n",
       "      <th>amount</th>\n",
       "      <th>duration</th>\n",
       "      <th>payments</th>\n",
       "      <th>status</th>\n",
       "    </tr>\n",
       "  </thead>\n",
       "  <tbody>\n",
       "    <tr>\n",
       "      <th>0</th>\n",
       "      <td>5314</td>\n",
       "      <td>1787</td>\n",
       "      <td>930705</td>\n",
       "      <td>96396</td>\n",
       "      <td>12</td>\n",
       "      <td>8033</td>\n",
       "      <td>-1</td>\n",
       "    </tr>\n",
       "    <tr>\n",
       "      <th>1</th>\n",
       "      <td>5316</td>\n",
       "      <td>1801</td>\n",
       "      <td>930711</td>\n",
       "      <td>165960</td>\n",
       "      <td>36</td>\n",
       "      <td>4610</td>\n",
       "      <td>1</td>\n",
       "    </tr>\n",
       "    <tr>\n",
       "      <th>2</th>\n",
       "      <td>6863</td>\n",
       "      <td>9188</td>\n",
       "      <td>930728</td>\n",
       "      <td>127080</td>\n",
       "      <td>60</td>\n",
       "      <td>2118</td>\n",
       "      <td>1</td>\n",
       "    </tr>\n",
       "    <tr>\n",
       "      <th>3</th>\n",
       "      <td>5325</td>\n",
       "      <td>1843</td>\n",
       "      <td>930803</td>\n",
       "      <td>105804</td>\n",
       "      <td>36</td>\n",
       "      <td>2939</td>\n",
       "      <td>1</td>\n",
       "    </tr>\n",
       "    <tr>\n",
       "      <th>4</th>\n",
       "      <td>7240</td>\n",
       "      <td>11013</td>\n",
       "      <td>930906</td>\n",
       "      <td>274740</td>\n",
       "      <td>60</td>\n",
       "      <td>4579</td>\n",
       "      <td>1</td>\n",
       "    </tr>\n",
       "  </tbody>\n",
       "</table>\n",
       "</div>"
      ],
      "text/plain": [
       "   loan_id  account_id    date  amount  duration  payments  status\n",
       "0     5314        1787  930705   96396        12      8033      -1\n",
       "1     5316        1801  930711  165960        36      4610       1\n",
       "2     6863        9188  930728  127080        60      2118       1\n",
       "3     5325        1843  930803  105804        36      2939       1\n",
       "4     7240       11013  930906  274740        60      4579       1"
      ]
     },
     "execution_count": 43,
     "metadata": {},
     "output_type": "execute_result"
    }
   ],
   "source": [
    "loan = pd.read_csv(\"dados/loan_dev.csv\", sep=\";\", header=0)\n",
    "loan.head()"
   ]
  },
  {
   "cell_type": "markdown",
   "metadata": {},
   "source": [
    "#### Clean Transaction data"
   ]
  },
  {
   "cell_type": "code",
   "execution_count": 44,
   "metadata": {},
   "outputs": [
    {
     "name": "stderr",
     "output_type": "stream",
     "text": [
      "/Library/Frameworks/Python.framework/Versions/3.7/lib/python3.7/site-packages/IPython/core/interactiveshell.py:3166: DtypeWarning: Columns (8) have mixed types.Specify dtype option on import or set low_memory=False.\n",
      "  interactivity=interactivity, compiler=compiler, result=result)\n"
     ]
    },
    {
     "data": {
      "text/html": [
       "<div>\n",
       "<style scoped>\n",
       "    .dataframe tbody tr th:only-of-type {\n",
       "        vertical-align: middle;\n",
       "    }\n",
       "\n",
       "    .dataframe tbody tr th {\n",
       "        vertical-align: top;\n",
       "    }\n",
       "\n",
       "    .dataframe thead th {\n",
       "        text-align: right;\n",
       "    }\n",
       "</style>\n",
       "<table border=\"1\" class=\"dataframe\">\n",
       "  <thead>\n",
       "    <tr style=\"text-align: right;\">\n",
       "      <th></th>\n",
       "      <th>trans_id</th>\n",
       "      <th>account_id</th>\n",
       "      <th>date</th>\n",
       "      <th>type</th>\n",
       "      <th>operation</th>\n",
       "      <th>amount</th>\n",
       "      <th>balance</th>\n",
       "      <th>k_symbol</th>\n",
       "      <th>bank</th>\n",
       "      <th>account</th>\n",
       "    </tr>\n",
       "  </thead>\n",
       "  <tbody>\n",
       "    <tr>\n",
       "      <th>0</th>\n",
       "      <td>1548749</td>\n",
       "      <td>5270</td>\n",
       "      <td>930113</td>\n",
       "      <td>credit</td>\n",
       "      <td>credit in cash</td>\n",
       "      <td>800.0</td>\n",
       "      <td>800.0</td>\n",
       "      <td>NaN</td>\n",
       "      <td>NaN</td>\n",
       "      <td>NaN</td>\n",
       "    </tr>\n",
       "    <tr>\n",
       "      <th>1</th>\n",
       "      <td>1548750</td>\n",
       "      <td>5270</td>\n",
       "      <td>930114</td>\n",
       "      <td>credit</td>\n",
       "      <td>collection from another bank</td>\n",
       "      <td>44749.0</td>\n",
       "      <td>45549.0</td>\n",
       "      <td>NaN</td>\n",
       "      <td>IJ</td>\n",
       "      <td>80269753.0</td>\n",
       "    </tr>\n",
       "    <tr>\n",
       "      <th>2</th>\n",
       "      <td>3393738</td>\n",
       "      <td>11265</td>\n",
       "      <td>930114</td>\n",
       "      <td>credit</td>\n",
       "      <td>credit in cash</td>\n",
       "      <td>1000.0</td>\n",
       "      <td>1000.0</td>\n",
       "      <td>NaN</td>\n",
       "      <td>NaN</td>\n",
       "      <td>NaN</td>\n",
       "    </tr>\n",
       "    <tr>\n",
       "      <th>3</th>\n",
       "      <td>3122924</td>\n",
       "      <td>10364</td>\n",
       "      <td>930117</td>\n",
       "      <td>credit</td>\n",
       "      <td>credit in cash</td>\n",
       "      <td>1100.0</td>\n",
       "      <td>1100.0</td>\n",
       "      <td>NaN</td>\n",
       "      <td>NaN</td>\n",
       "      <td>NaN</td>\n",
       "    </tr>\n",
       "    <tr>\n",
       "      <th>4</th>\n",
       "      <td>1121963</td>\n",
       "      <td>3834</td>\n",
       "      <td>930119</td>\n",
       "      <td>credit</td>\n",
       "      <td>credit in cash</td>\n",
       "      <td>700.0</td>\n",
       "      <td>700.0</td>\n",
       "      <td>NaN</td>\n",
       "      <td>NaN</td>\n",
       "      <td>NaN</td>\n",
       "    </tr>\n",
       "  </tbody>\n",
       "</table>\n",
       "</div>"
      ],
      "text/plain": [
       "   trans_id  account_id    date    type                     operation  \\\n",
       "0   1548749        5270  930113  credit                credit in cash   \n",
       "1   1548750        5270  930114  credit  collection from another bank   \n",
       "2   3393738       11265  930114  credit                credit in cash   \n",
       "3   3122924       10364  930117  credit                credit in cash   \n",
       "4   1121963        3834  930119  credit                credit in cash   \n",
       "\n",
       "    amount  balance k_symbol bank     account  \n",
       "0    800.0    800.0      NaN  NaN         NaN  \n",
       "1  44749.0  45549.0      NaN   IJ  80269753.0  \n",
       "2   1000.0   1000.0      NaN  NaN         NaN  \n",
       "3   1100.0   1100.0      NaN  NaN         NaN  \n",
       "4    700.0    700.0      NaN  NaN         NaN  "
      ]
     },
     "execution_count": 44,
     "metadata": {},
     "output_type": "execute_result"
    }
   ],
   "source": [
    "trans = pd.read_csv(\"dados/trans_dev.csv\", sep=\";\", header=0)\n",
    "trans.head()"
   ]
  },
  {
   "cell_type": "code",
   "execution_count": null,
   "metadata": {},
   "outputs": [],
   "source": []
  },
  {
   "cell_type": "code",
   "execution_count": null,
   "metadata": {},
   "outputs": [
    {
     "data": {
      "text/plain": [
       "trans_id           0\n",
       "account_id         0\n",
       "date               0\n",
       "type               0\n",
       "operation      70761\n",
       "amount             0\n",
       "balance            0\n",
       "k_symbol      185244\n",
       "bank          299443\n",
       "account       294456\n",
       "dtype: int64"
      ]
     },
     "execution_count": 50,
     "metadata": {},
     "output_type": "execute_result"
    }
   ],
   "source": [
    "trans.isnull().sum()"
   ]
  },
  {
   "cell_type": "code",
   "execution_count": 49,
   "metadata": {},
   "outputs": [
    {
     "data": {
      "text/html": [
       "<div>\n",
       "<style scoped>\n",
       "    .dataframe tbody tr th:only-of-type {\n",
       "        vertical-align: middle;\n",
       "    }\n",
       "\n",
       "    .dataframe tbody tr th {\n",
       "        vertical-align: top;\n",
       "    }\n",
       "\n",
       "    .dataframe thead th {\n",
       "        text-align: right;\n",
       "    }\n",
       "</style>\n",
       "<table border=\"1\" class=\"dataframe\">\n",
       "  <thead>\n",
       "    <tr style=\"text-align: right;\">\n",
       "      <th></th>\n",
       "      <th>trans_id</th>\n",
       "      <th>account_id</th>\n",
       "      <th>date_x</th>\n",
       "      <th>type</th>\n",
       "      <th>operation</th>\n",
       "      <th>amount_x</th>\n",
       "      <th>balance</th>\n",
       "      <th>k_symbol</th>\n",
       "      <th>bank</th>\n",
       "      <th>account</th>\n",
       "      <th>loan_id</th>\n",
       "      <th>date_y</th>\n",
       "      <th>amount_y</th>\n",
       "      <th>duration</th>\n",
       "      <th>payments</th>\n",
       "      <th>status</th>\n",
       "    </tr>\n",
       "  </thead>\n",
       "  <tbody>\n",
       "    <tr>\n",
       "      <th>0</th>\n",
       "      <td>1548749</td>\n",
       "      <td>5270</td>\n",
       "      <td>930113</td>\n",
       "      <td>credit</td>\n",
       "      <td>credit in cash</td>\n",
       "      <td>800.0</td>\n",
       "      <td>800.0</td>\n",
       "      <td>NaN</td>\n",
       "      <td>NaN</td>\n",
       "      <td>NaN</td>\n",
       "      <td>6077</td>\n",
       "      <td>931122</td>\n",
       "      <td>79608</td>\n",
       "      <td>24</td>\n",
       "      <td>3317</td>\n",
       "      <td>1</td>\n",
       "    </tr>\n",
       "    <tr>\n",
       "      <th>1</th>\n",
       "      <td>1548750</td>\n",
       "      <td>5270</td>\n",
       "      <td>930114</td>\n",
       "      <td>credit</td>\n",
       "      <td>collection from another bank</td>\n",
       "      <td>44749.0</td>\n",
       "      <td>45549.0</td>\n",
       "      <td>NaN</td>\n",
       "      <td>IJ</td>\n",
       "      <td>80269753.0</td>\n",
       "      <td>6077</td>\n",
       "      <td>931122</td>\n",
       "      <td>79608</td>\n",
       "      <td>24</td>\n",
       "      <td>3317</td>\n",
       "      <td>1</td>\n",
       "    </tr>\n",
       "    <tr>\n",
       "      <th>2</th>\n",
       "      <td>3669814</td>\n",
       "      <td>5270</td>\n",
       "      <td>930131</td>\n",
       "      <td>credit</td>\n",
       "      <td>NaN</td>\n",
       "      <td>110.2</td>\n",
       "      <td>45659.2</td>\n",
       "      <td>interest credited</td>\n",
       "      <td>NaN</td>\n",
       "      <td>NaN</td>\n",
       "      <td>6077</td>\n",
       "      <td>931122</td>\n",
       "      <td>79608</td>\n",
       "      <td>24</td>\n",
       "      <td>3317</td>\n",
       "      <td>1</td>\n",
       "    </tr>\n",
       "    <tr>\n",
       "      <th>3</th>\n",
       "      <td>1549098</td>\n",
       "      <td>5270</td>\n",
       "      <td>930212</td>\n",
       "      <td>withdrawal</td>\n",
       "      <td>withdrawal in cash</td>\n",
       "      <td>9600.0</td>\n",
       "      <td>36059.2</td>\n",
       "      <td>NaN</td>\n",
       "      <td>NaN</td>\n",
       "      <td>NaN</td>\n",
       "      <td>6077</td>\n",
       "      <td>931122</td>\n",
       "      <td>79608</td>\n",
       "      <td>24</td>\n",
       "      <td>3317</td>\n",
       "      <td>1</td>\n",
       "    </tr>\n",
       "    <tr>\n",
       "      <th>4</th>\n",
       "      <td>1548751</td>\n",
       "      <td>5270</td>\n",
       "      <td>930214</td>\n",
       "      <td>credit</td>\n",
       "      <td>collection from another bank</td>\n",
       "      <td>44749.0</td>\n",
       "      <td>80808.2</td>\n",
       "      <td>NaN</td>\n",
       "      <td>IJ</td>\n",
       "      <td>80269753.0</td>\n",
       "      <td>6077</td>\n",
       "      <td>931122</td>\n",
       "      <td>79608</td>\n",
       "      <td>24</td>\n",
       "      <td>3317</td>\n",
       "      <td>1</td>\n",
       "    </tr>\n",
       "  </tbody>\n",
       "</table>\n",
       "</div>"
      ],
      "text/plain": [
       "   trans_id  account_id  date_x        type                     operation  \\\n",
       "0   1548749        5270  930113      credit                credit in cash   \n",
       "1   1548750        5270  930114      credit  collection from another bank   \n",
       "2   3669814        5270  930131      credit                           NaN   \n",
       "3   1549098        5270  930212  withdrawal            withdrawal in cash   \n",
       "4   1548751        5270  930214      credit  collection from another bank   \n",
       "\n",
       "   amount_x  balance           k_symbol bank     account  loan_id  date_y  \\\n",
       "0     800.0    800.0                NaN  NaN         NaN     6077  931122   \n",
       "1   44749.0  45549.0                NaN   IJ  80269753.0     6077  931122   \n",
       "2     110.2  45659.2  interest credited  NaN         NaN     6077  931122   \n",
       "3    9600.0  36059.2                NaN  NaN         NaN     6077  931122   \n",
       "4   44749.0  80808.2                NaN   IJ  80269753.0     6077  931122   \n",
       "\n",
       "   amount_y  duration  payments  status  \n",
       "0     79608        24      3317       1  \n",
       "1     79608        24      3317       1  \n",
       "2     79608        24      3317       1  \n",
       "3     79608        24      3317       1  \n",
       "4     79608        24      3317       1  "
      ]
     },
     "execution_count": 49,
     "metadata": {},
     "output_type": "execute_result"
    }
   ],
   "source": [
    "merge = pd.merge(trans, loan, on='account_id')\n",
    "merge.head()"
   ]
  },
  {
   "cell_type": "code",
   "execution_count": 50,
   "metadata": {},
   "outputs": [
    {
     "data": {
      "text/plain": [
       "<AxesSubplot:>"
      ]
     },
     "execution_count": 50,
     "metadata": {},
     "output_type": "execute_result"
    },
    {
     "data": {
      "image/png": "[encoded data removed]",
      "text/plain": [
       "<Figure size 432x288 with 1 Axes>"
      ]
     },
     "metadata": {
      "needs_background": "light"
     },
     "output_type": "display_data"
    }
   ],
   "source": [
    "merge['operation'].value_counts().plot(kind='bar')"
   ]
  },
  {
   "cell_type": "code",
   "execution_count": 54,
   "metadata": {},
   "outputs": [
    {
     "data": {
      "text/plain": [
       "count    24494.000000\n",
       "mean        36.094554\n",
       "std         17.230049\n",
       "min         12.000000\n",
       "25%         24.000000\n",
       "50%         36.000000\n",
       "75%         48.000000\n",
       "max         60.000000\n",
       "Name: duration, dtype: float64"
      ]
     },
     "execution_count": 54,
     "metadata": {},
     "output_type": "execute_result"
    }
   ],
   "source": [
    "merge['duration'].describe()"
   ]
  },
  {
   "cell_type": "code",
   "execution_count": 56,
   "metadata": {},
   "outputs": [
    {
     "data": {
      "text/plain": [
       "<AxesSubplot:>"
      ]
     },
     "execution_count": 56,
     "metadata": {},
     "output_type": "execute_result"
    },
    {
     "data": {
      "image/png": "[encoded data removed]",
      "text/plain": [
       "<Figure size 432x288 with 1 Axes>"
      ]
     },
     "metadata": {
      "needs_background": "light"
     },
     "output_type": "display_data"
    }
   ],
   "source": [
    "merge['duration'].value_counts().plot(kind='bar')"
   ]
  },
  {
   "cell_type": "code",
   "execution_count": 48,
   "metadata": {},
   "outputs": [
    {
     "data": {
      "text/plain": [
       "count          24494\n",
       "unique             3\n",
       "top       withdrawal\n",
       "freq           13730\n",
       "Name: type, dtype: object"
      ]
     },
     "execution_count": 48,
     "metadata": {},
     "output_type": "execute_result"
    }
   ],
   "source": [
    "merge['type'].describe()\n"
   ]
  },
  {
   "cell_type": "code",
   "execution_count": 62,
   "metadata": {},
   "outputs": [
    {
     "data": {
      "text/plain": [
       "<AxesSubplot:>"
      ]
     },
     "execution_count": 62,
     "metadata": {},
     "output_type": "execute_result"
    },
    {
     "data": {
      "image/png": "[encoded data removed]",
      "text/plain": [
       "<Figure size 432x288 with 1 Axes>"
      ]
     },
     "metadata": {
      "needs_background": "light"
     },
     "output_type": "display_data"
    }
   ],
   "source": [
    "merge['status'].value_counts().plot(x='amount_x', y = 'amount_y')"
   ]
  },
  {
   "cell_type": "code",
   "execution_count": null,
   "metadata": {},
   "outputs": [
    {
     "data": {
      "text/plain": [
       "<AxesSubplot:>"
      ]
     },
     "execution_count": 55,
     "metadata": {},
     "output_type": "execute_result"
    },
    {
     "data": {
      "image/png": "[encoded data removed]",
      "text/plain": [
       "<Figure size 432x288 with 1 Axes>"
      ]
     },
     "metadata": {
      "needs_background": "light"
     },
     "output_type": "display_data"
    }
   ],
   "source": [
    "merge['type'].value_counts().plot(kind='bar')"
   ]
  },
  {
   "cell_type": "code",
   "execution_count": 58,
   "metadata": {},
   "outputs": [
    {
     "data": {
      "text/plain": [
       "count     4172\n",
       "unique      13\n",
       "top         EF\n",
       "freq       449\n",
       "Name: bank, dtype: object"
      ]
     },
     "execution_count": 58,
     "metadata": {},
     "output_type": "execute_result"
    }
   ],
   "source": [
    "merge['bank'].describe()"
   ]
  },
  {
   "cell_type": "code",
   "execution_count": 59,
   "metadata": {},
   "outputs": [
    {
     "data": {
      "text/plain": [
       "<AxesSubplot:>"
      ]
     },
     "execution_count": 59,
     "metadata": {},
     "output_type": "execute_result"
    },
    {
     "data": {
      "image/png": "[encoded data removed]",
      "text/plain": [
       "<Figure size 432x288 with 1 Axes>"
      ]
     },
     "metadata": {
      "needs_background": "light"
     },
     "output_type": "display_data"
    }
   ],
   "source": [
    "merge['bank'].value_counts().plot(kind='bar')"
   ]
  },
  {
   "cell_type": "code",
   "execution_count": null,
   "metadata": {},
   "outputs": [],
   "source": [
    "merge['bank'].describe()"
   ]
  },
  {
   "cell_type": "code",
   "execution_count": null,
   "metadata": {},
   "outputs": [
    {
     "data": {
      "text/html": [
       "<div>\n",
       "<style scoped>\n",
       "    .dataframe tbody tr th:only-of-type {\n",
       "        vertical-align: middle;\n",
       "    }\n",
       "\n",
       "    .dataframe tbody tr th {\n",
       "        vertical-align: top;\n",
       "    }\n",
       "\n",
       "    .dataframe thead th {\n",
       "        text-align: right;\n",
       "    }\n",
       "</style>\n",
       "<table border=\"1\" class=\"dataframe\">\n",
       "  <thead>\n",
       "    <tr style=\"text-align: right;\">\n",
       "      <th></th>\n",
       "      <th>trans_id</th>\n",
       "      <th>account_id</th>\n",
       "      <th>date_x</th>\n",
       "      <th>amount_x</th>\n",
       "      <th>balance</th>\n",
       "      <th>account</th>\n",
       "      <th>loan_id</th>\n",
       "      <th>date_y</th>\n",
       "      <th>amount_y</th>\n",
       "      <th>duration</th>\n",
       "      <th>payments</th>\n",
       "      <th>status</th>\n",
       "    </tr>\n",
       "  </thead>\n",
       "  <tbody>\n",
       "    <tr>\n",
       "      <th>trans_id</th>\n",
       "      <td>1.000000</td>\n",
       "      <td>0.730371</td>\n",
       "      <td>-0.025121</td>\n",
       "      <td>-0.187568</td>\n",
       "      <td>0.005802</td>\n",
       "      <td>-0.004157</td>\n",
       "      <td>0.730089</td>\n",
       "      <td>-0.026257</td>\n",
       "      <td>-0.010869</td>\n",
       "      <td>-0.021905</td>\n",
       "      <td>0.007769</td>\n",
       "      <td>0.082070</td>\n",
       "    </tr>\n",
       "    <tr>\n",
       "      <th>account_id</th>\n",
       "      <td>0.730371</td>\n",
       "      <td>1.000000</td>\n",
       "      <td>-0.019500</td>\n",
       "      <td>0.012000</td>\n",
       "      <td>0.048992</td>\n",
       "      <td>-0.004597</td>\n",
       "      <td>0.999854</td>\n",
       "      <td>-0.041919</td>\n",
       "      <td>-0.022425</td>\n",
       "      <td>-0.031803</td>\n",
       "      <td>0.005414</td>\n",
       "      <td>0.136425</td>\n",
       "    </tr>\n",
       "    <tr>\n",
       "      <th>date_x</th>\n",
       "      <td>-0.025121</td>\n",
       "      <td>-0.019500</td>\n",
       "      <td>1.000000</td>\n",
       "      <td>-0.014588</td>\n",
       "      <td>0.013204</td>\n",
       "      <td>0.006802</td>\n",
       "      <td>-0.020599</td>\n",
       "      <td>0.832331</td>\n",
       "      <td>0.124943</td>\n",
       "      <td>0.187537</td>\n",
       "      <td>-0.001061</td>\n",
       "      <td>0.086638</td>\n",
       "    </tr>\n",
       "    <tr>\n",
       "      <th>amount_x</th>\n",
       "      <td>-0.187568</td>\n",
       "      <td>0.012000</td>\n",
       "      <td>-0.014588</td>\n",
       "      <td>1.000000</td>\n",
       "      <td>0.483082</td>\n",
       "      <td>0.219267</td>\n",
       "      <td>0.011748</td>\n",
       "      <td>0.009549</td>\n",
       "      <td>0.088110</td>\n",
       "      <td>-0.025263</td>\n",
       "      <td>0.130100</td>\n",
       "      <td>0.008215</td>\n",
       "    </tr>\n",
       "    <tr>\n",
       "      <th>balance</th>\n",
       "      <td>0.005802</td>\n",
       "      <td>0.048992</td>\n",
       "      <td>0.013204</td>\n",
       "      <td>0.483082</td>\n",
       "      <td>1.000000</td>\n",
       "      <td>0.098041</td>\n",
       "      <td>0.048577</td>\n",
       "      <td>0.041381</td>\n",
       "      <td>0.068698</td>\n",
       "      <td>-0.055999</td>\n",
       "      <td>0.140668</td>\n",
       "      <td>0.095336</td>\n",
       "    </tr>\n",
       "    <tr>\n",
       "      <th>account</th>\n",
       "      <td>-0.004157</td>\n",
       "      <td>-0.004597</td>\n",
       "      <td>0.006802</td>\n",
       "      <td>0.219267</td>\n",
       "      <td>0.098041</td>\n",
       "      <td>1.000000</td>\n",
       "      <td>-0.005580</td>\n",
       "      <td>-0.004063</td>\n",
       "      <td>-0.045632</td>\n",
       "      <td>-0.014599</td>\n",
       "      <td>-0.043374</td>\n",
       "      <td>0.122683</td>\n",
       "    </tr>\n",
       "    <tr>\n",
       "      <th>loan_id</th>\n",
       "      <td>0.730089</td>\n",
       "      <td>0.999854</td>\n",
       "      <td>-0.020599</td>\n",
       "      <td>0.011748</td>\n",
       "      <td>0.048577</td>\n",
       "      <td>-0.005580</td>\n",
       "      <td>1.000000</td>\n",
       "      <td>-0.043296</td>\n",
       "      <td>-0.022998</td>\n",
       "      <td>-0.032348</td>\n",
       "      <td>0.004766</td>\n",
       "      <td>0.135477</td>\n",
       "    </tr>\n",
       "    <tr>\n",
       "      <th>date_y</th>\n",
       "      <td>-0.026257</td>\n",
       "      <td>-0.041919</td>\n",
       "      <td>0.832331</td>\n",
       "      <td>0.009549</td>\n",
       "      <td>0.041381</td>\n",
       "      <td>-0.004063</td>\n",
       "      <td>-0.043296</td>\n",
       "      <td>1.000000</td>\n",
       "      <td>0.127169</td>\n",
       "      <td>0.207419</td>\n",
       "      <td>-0.007509</td>\n",
       "      <td>0.055215</td>\n",
       "    </tr>\n",
       "    <tr>\n",
       "      <th>amount_y</th>\n",
       "      <td>-0.010869</td>\n",
       "      <td>-0.022425</td>\n",
       "      <td>0.124943</td>\n",
       "      <td>0.088110</td>\n",
       "      <td>0.068698</td>\n",
       "      <td>-0.045632</td>\n",
       "      <td>-0.022998</td>\n",
       "      <td>0.127169</td>\n",
       "      <td>1.000000</td>\n",
       "      <td>0.592526</td>\n",
       "      <td>0.681284</td>\n",
       "      <td>-0.205194</td>\n",
       "    </tr>\n",
       "    <tr>\n",
       "      <th>duration</th>\n",
       "      <td>-0.021905</td>\n",
       "      <td>-0.031803</td>\n",
       "      <td>0.187537</td>\n",
       "      <td>-0.025263</td>\n",
       "      <td>-0.055999</td>\n",
       "      <td>-0.014599</td>\n",
       "      <td>-0.032348</td>\n",
       "      <td>0.207419</td>\n",
       "      <td>0.592526</td>\n",
       "      <td>1.000000</td>\n",
       "      <td>-0.076225</td>\n",
       "      <td>-0.075314</td>\n",
       "    </tr>\n",
       "    <tr>\n",
       "      <th>payments</th>\n",
       "      <td>0.007769</td>\n",
       "      <td>0.005414</td>\n",
       "      <td>-0.001061</td>\n",
       "      <td>0.130100</td>\n",
       "      <td>0.140668</td>\n",
       "      <td>-0.043374</td>\n",
       "      <td>0.004766</td>\n",
       "      <td>-0.007509</td>\n",
       "      <td>0.681284</td>\n",
       "      <td>-0.076225</td>\n",
       "      <td>1.000000</td>\n",
       "      <td>-0.202433</td>\n",
       "    </tr>\n",
       "    <tr>\n",
       "      <th>status</th>\n",
       "      <td>0.082070</td>\n",
       "      <td>0.136425</td>\n",
       "      <td>0.086638</td>\n",
       "      <td>0.008215</td>\n",
       "      <td>0.095336</td>\n",
       "      <td>0.122683</td>\n",
       "      <td>0.135477</td>\n",
       "      <td>0.055215</td>\n",
       "      <td>-0.205194</td>\n",
       "      <td>-0.075314</td>\n",
       "      <td>-0.202433</td>\n",
       "      <td>1.000000</td>\n",
       "    </tr>\n",
       "  </tbody>\n",
       "</table>\n",
       "</div>"
      ],
      "text/plain": [
       "            trans_id  account_id    date_x  amount_x   balance   account  \\\n",
       "trans_id    1.000000    0.730371 -0.025121 -0.187568  0.005802 -0.004157   \n",
       "account_id  0.730371    1.000000 -0.019500  0.012000  0.048992 -0.004597   \n",
       "date_x     -0.025121   -0.019500  1.000000 -0.014588  0.013204  0.006802   \n",
       "amount_x   -0.187568    0.012000 -0.014588  1.000000  0.483082  0.219267   \n",
       "balance     0.005802    0.048992  0.013204  0.483082  1.000000  0.098041   \n",
       "account    -0.004157   -0.004597  0.006802  0.219267  0.098041  1.000000   \n",
       "loan_id     0.730089    0.999854 -0.020599  0.011748  0.048577 -0.005580   \n",
       "date_y     -0.026257   -0.041919  0.832331  0.009549  0.041381 -0.004063   \n",
       "amount_y   -0.010869   -0.022425  0.124943  0.088110  0.068698 -0.045632   \n",
       "duration   -0.021905   -0.031803  0.187537 -0.025263 -0.055999 -0.014599   \n",
       "payments    0.007769    0.005414 -0.001061  0.130100  0.140668 -0.043374   \n",
       "status      0.082070    0.136425  0.086638  0.008215  0.095336  0.122683   \n",
       "\n",
       "             loan_id    date_y  amount_y  duration  payments    status  \n",
       "trans_id    0.730089 -0.026257 -0.010869 -0.021905  0.007769  0.082070  \n",
       "account_id  0.999854 -0.041919 -0.022425 -0.031803  0.005414  0.136425  \n",
       "date_x     -0.020599  0.832331  0.124943  0.187537 -0.001061  0.086638  \n",
       "amount_x    0.011748  0.009549  0.088110 -0.025263  0.130100  0.008215  \n",
       "balance     0.048577  0.041381  0.068698 -0.055999  0.140668  0.095336  \n",
       "account    -0.005580 -0.004063 -0.045632 -0.014599 -0.043374  0.122683  \n",
       "loan_id     1.000000 -0.043296 -0.022998 -0.032348  0.004766  0.135477  \n",
       "date_y     -0.043296  1.000000  0.127169  0.207419 -0.007509  0.055215  \n",
       "amount_y   -0.022998  0.127169  1.000000  0.592526  0.681284 -0.205194  \n",
       "duration   -0.032348  0.207419  0.592526  1.000000 -0.076225 -0.075314  \n",
       "payments    0.004766 -0.007509  0.681284 -0.076225  1.000000 -0.202433  \n",
       "status      0.135477  0.055215 -0.205194 -0.075314 -0.202433  1.000000  "
      ]
     },
     "execution_count": 73,
     "metadata": {},
     "output_type": "execute_result"
    }
   ],
   "source": [
    "merge.corr()"
   ]
  },
  {
   "cell_type": "code",
   "execution_count": null,
   "metadata": {},
   "outputs": [
    {
     "data": {
      "image/png": "[encoded data removed]",
      "text/plain": [
       "<Figure size 1080x576 with 1 Axes>"
      ]
     },
     "metadata": {},
     "output_type": "display_data"
    }
   ],
   "source": [
    "plt.figure(figsize=(15,8),facecolor='white',edgecolor='red')\n",
    "plt.hist(merge[\"type\"])\n",
    "plt.show()"
   ]
  },
  {
   "cell_type": "code",
   "execution_count": null,
   "metadata": {},
   "outputs": [
    {
     "data": {
      "image/png": "[encoded data removed]",
      "text/plain": [
       "<Figure size 1080x576 with 1 Axes>"
      ]
     },
     "metadata": {},
     "output_type": "display_data"
    }
   ],
   "source": [
    "plt.figure(figsize=(15,8),facecolor='white',edgecolor='red')\n",
    "plt.hist(merge[\"operation\"])\n",
    "plt.show()\n"
   ]
  },
  {
   "cell_type": "code",
   "execution_count": null,
   "metadata": {},
   "outputs": [],
   "source": []
  }
 ],
 "metadata": {
  "kernelspec": {
   "display_name": "Python 3.7.4 64-bit",
   "language": "python",
   "name": "python3"
  },
  "language_info": {
   "codemirror_mode": {
    "name": "ipython",
    "version": 3
   },
   "file_extension": ".py",
   "mimetype": "text/x-python",
   "name": "python",
   "nbconvert_exporter": "python",
   "pygments_lexer": "ipython3",
   "version": "3.7.4"
  },
  "orig_nbformat": 4,
  "vscode": {
   "interpreter": {
    "hash": "aee8b7b246df8f9039afb4144a1f6fd8d2ca17a180786b69acc140d282b71a49"
   }
  }
 },
 "nbformat": 4,
 "nbformat_minor": 2
}
