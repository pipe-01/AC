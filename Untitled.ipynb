{
 "cells": [
  {
   "cell_type": "code",
   "execution_count": 41,
   "id": "7bf4cefb",
   "metadata": {},
   "outputs": [],
   "source": [
    "import pandas as pd\n",
    "import time\n",
    "import datetime"
   ]
  },
  {
   "cell_type": "code",
   "execution_count": 42,
   "id": "b7eb00b0",
   "metadata": {},
   "outputs": [],
   "source": [
    "dfAccount = pd.read_csv('ficheiros_competicao_dev/account.csv', na_values=['NaN'])\n",
    "dfCard = pd.read_csv('ficheiros_competicao_dev/card_dev.csv', na_values=['NaN'])\n",
    "dfClient = pd.read_csv('ficheiros_competicao_dev/client.csv', na_values=['NaN'])\n",
    "dfDisp = pd.read_csv('ficheiros_competicao_dev/disp.csv', na_values=['NaN'])\n",
    "dfDistrict = pd.read_csv('ficheiros_competicao_dev/district.csv', na_values=['NaN'])\n",
    "dfLoan = pd.read_csv('ficheiros_competicao_dev/loan_dev.csv', na_values=['NaN'])\n",
    "dfTrans = pd.read_csv('ficheiros_competicao_dev/trans_dev.csv', na_values=['NaN'])"
   ]
  },
  {
   "cell_type": "code",
   "execution_count": 43,
   "id": "600ebdcb",
   "metadata": {},
   "outputs": [
    {
     "data": {
      "text/html": [
       "<div>\n",
       "<style scoped>\n",
       "    .dataframe tbody tr th:only-of-type {\n",
       "        vertical-align: middle;\n",
       "    }\n",
       "\n",
       "    .dataframe tbody tr th {\n",
       "        vertical-align: top;\n",
       "    }\n",
       "\n",
       "    .dataframe thead th {\n",
       "        text-align: right;\n",
       "    }\n",
       "</style>\n",
       "<table border=\"1\" class=\"dataframe\">\n",
       "  <thead>\n",
       "    <tr style=\"text-align: right;\">\n",
       "      <th></th>\n",
       "      <th>trans_id;\"account_id\";\"date\";\"type\";\"operation\";\"amount\";\"balance\";\"k_symbol\";\"bank\";\"account\"</th>\n",
       "    </tr>\n",
       "  </thead>\n",
       "  <tbody>\n",
       "    <tr>\n",
       "      <th>9995</th>\n",
       "      <td>403791;1375;940807;\"credit\";\"credit in cash\";2...</td>\n",
       "    </tr>\n",
       "    <tr>\n",
       "      <th>9996</th>\n",
       "      <td>1910663;6472;940807;\"withdrawal\";\"withdrawal i...</td>\n",
       "    </tr>\n",
       "    <tr>\n",
       "      <th>9997</th>\n",
       "      <td>1113434;3804;940807;\"credit\";\"collection from ...</td>\n",
       "    </tr>\n",
       "    <tr>\n",
       "      <th>9998</th>\n",
       "      <td>2979108;9869;940807;\"withdrawal\";\"remittance t...</td>\n",
       "    </tr>\n",
       "    <tr>\n",
       "      <th>9999</th>\n",
       "      <td>1122199;3834;940807;\"withdrawal\";\"remittance t...</td>\n",
       "    </tr>\n",
       "  </tbody>\n",
       "</table>\n",
       "</div>"
      ],
      "text/plain": [
       "     trans_id;\"account_id\";\"date\";\"type\";\"operation\";\"amount\";\"balance\";\"k_symbol\";\"bank\";\"account\"\n",
       "9995  403791;1375;940807;\"credit\";\"credit in cash\";2...                                            \n",
       "9996  1910663;6472;940807;\"withdrawal\";\"withdrawal i...                                            \n",
       "9997  1113434;3804;940807;\"credit\";\"collection from ...                                            \n",
       "9998  2979108;9869;940807;\"withdrawal\";\"remittance t...                                            \n",
       "9999  1122199;3834;940807;\"withdrawal\";\"remittance t...                                            "
      ]
     },
     "execution_count": 43,
     "metadata": {},
     "output_type": "execute_result"
    }
   ],
   "source": [
    "dfTrans.tail()"
   ]
  },
  {
   "cell_type": "code",
   "execution_count": 44,
   "id": "70b298db",
   "metadata": {},
   "outputs": [],
   "source": [
    "listdf = [dfAccount, dfCard, dfClient, dfDisp, dfDistrict, dfLoan, dfTrans]"
   ]
  },
  {
   "cell_type": "code",
   "execution_count": 45,
   "id": "33cfcf82",
   "metadata": {},
   "outputs": [
    {
     "name": "stdout",
     "output_type": "stream",
     "text": [
      " Rows: 4500 177 5369 5369 77 328 10000  \n",
      " Cols: 1 1 1 1 1 1 1 \n"
     ]
    }
   ],
   "source": [
    "nRows = ' Rows: '\n",
    "nCols = 'Cols: '\n",
    "for df in listdf:\n",
    "  nRows += str(len(df))+ ' ' \n",
    "  nCols += str(len(df.columns)) + ' '\n",
    "\n",
    "print(nRows,'\\n',nCols)"
   ]
  },
  {
   "cell_type": "code",
   "execution_count": 46,
   "id": "6da65ab9",
   "metadata": {},
   "outputs": [
    {
     "data": {
      "text/html": [
       "<div>\n",
       "<style scoped>\n",
       "    .dataframe tbody tr th:only-of-type {\n",
       "        vertical-align: middle;\n",
       "    }\n",
       "\n",
       "    .dataframe tbody tr th {\n",
       "        vertical-align: top;\n",
       "    }\n",
       "\n",
       "    .dataframe thead th {\n",
       "        text-align: right;\n",
       "    }\n",
       "</style>\n",
       "<table border=\"1\" class=\"dataframe\">\n",
       "  <thead>\n",
       "    <tr style=\"text-align: right;\">\n",
       "      <th></th>\n",
       "      <th>account_id;\"district_id\";\"frequency\";\"date\"</th>\n",
       "    </tr>\n",
       "  </thead>\n",
       "  <tbody>\n",
       "    <tr>\n",
       "      <th>0</th>\n",
       "      <td>576;55;\"monthly issuance\";930101</td>\n",
       "    </tr>\n",
       "    <tr>\n",
       "      <th>1</th>\n",
       "      <td>3818;74;\"monthly issuance\";930101</td>\n",
       "    </tr>\n",
       "    <tr>\n",
       "      <th>2</th>\n",
       "      <td>704;55;\"monthly issuance\";930101</td>\n",
       "    </tr>\n",
       "    <tr>\n",
       "      <th>3</th>\n",
       "      <td>2378;16;\"monthly issuance\";930101</td>\n",
       "    </tr>\n",
       "    <tr>\n",
       "      <th>4</th>\n",
       "      <td>2632;24;\"monthly issuance\";930102</td>\n",
       "    </tr>\n",
       "  </tbody>\n",
       "</table>\n",
       "</div>"
      ],
      "text/plain": [
       "  account_id;\"district_id\";\"frequency\";\"date\"\n",
       "0            576;55;\"monthly issuance\";930101\n",
       "1           3818;74;\"monthly issuance\";930101\n",
       "2            704;55;\"monthly issuance\";930101\n",
       "3           2378;16;\"monthly issuance\";930101\n",
       "4           2632;24;\"monthly issuance\";930102"
      ]
     },
     "execution_count": 46,
     "metadata": {},
     "output_type": "execute_result"
    }
   ],
   "source": [
    "dfAccount.head()"
   ]
  },
  {
   "cell_type": "code",
   "execution_count": 60,
   "id": "f849efe8",
   "metadata": {},
   "outputs": [
    {
     "data": {
      "text/plain": [
       "<function ndarray.any>"
      ]
     },
     "execution_count": 60,
     "metadata": {},
     "output_type": "execute_result"
    }
   ],
   "source": [
    "dfAccount.isnull().values.any"
   ]
  },
  {
   "cell_type": "code",
   "execution_count": null,
   "id": "98896485",
   "metadata": {},
   "outputs": [],
   "source": []
  }
 ],
 "metadata": {
  "kernelspec": {
   "display_name": "Python 3 (ipykernel)",
   "language": "python",
   "name": "python3"
  },
  "language_info": {
   "codemirror_mode": {
    "name": "ipython",
    "version": 3
   },
   "file_extension": ".py",
   "mimetype": "text/x-python",
   "name": "python",
   "nbconvert_exporter": "python",
   "pygments_lexer": "ipython3",
   "version": "3.9.7"
  }
 },
 "nbformat": 4,
 "nbformat_minor": 5
}
