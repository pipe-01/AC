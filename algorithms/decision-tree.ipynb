{
 "cells": [
  {
   "cell_type": "code",
   "execution_count": 46,
   "metadata": {},
   "outputs": [],
   "source": [
    "import pandas as pd\n",
    "import time\n",
    "from sklearn.tree import DecisionTreeClassifier\n",
    "from sklearn.model_selection import train_test_split\n",
    "from sklearn.metrics import roc_auc_score"
   ]
  },
  {
   "cell_type": "code",
   "execution_count": 47,
   "metadata": {},
   "outputs": [],
   "source": [
    "df_dev  = pd.read_csv(\"../dados/ready/dev.csv\")\n",
    "df_comp = pd.read_csv(\"../dados/ready/comp.csv\")"
   ]
  },
  {
   "cell_type": "code",
   "execution_count": 48,
   "metadata": {},
   "outputs": [],
   "source": [
    "def get_x(df: pd.DataFrame) -> None:\n",
    "    condition = (df.columns != 'status') & (df.columns != 'account_id') & (df.columns != 'loan_id') & (\n",
    "        df.columns != 'client_id') & (df.columns != 'district_id') & (df.columns != 'disp_id') & (df.columns != 'district_id_y') & (\n",
    "        df.columns != 'district_id_x') & (df.columns != 'id')\n",
    "    return df.loc[:, condition]\n",
    "\n",
    "def get_y(df: pd.DataFrame) -> None:\n",
    "    return df.status"
   ]
  },
  {
   "cell_type": "code",
   "execution_count": 144,
   "metadata": {},
   "outputs": [
    {
     "name": "stdout",
     "output_type": "stream",
     "text": [
      "Score is 0.695906432748538\n",
      "Time Elapsed: 0.019004344940185547\n"
     ]
    }
   ],
   "source": [
    "start = time.time()\n",
    "\n",
    "train, test = train_test_split(df_dev, test_size = 0.2)\n",
    "\n",
    "x = get_x(train)\n",
    "y = get_y(train)\n",
    "\n",
    "log_reg = DecisionTreeClassifier(max_depth=12)\n",
    "log_reg.fit(x, y)\n",
    "\n",
    "end = time.time()\n",
    "\n",
    "pred_competition = log_reg.predict_proba(get_x(df_comp))\n",
    "\n",
    "prediction = pd.DataFrame({'Id': df_comp['loan_id'], 'Predicted': pred_competition[::, 1]})\n",
    "\n",
    "predicted = log_reg.predict_proba(get_x(test))[::, 1]\n",
    "expected  = get_y(test)\n",
    "score = roc_auc_score(expected, predicted)\n",
    "\n",
    "print(f\"Score is {score}\")\n",
    "\n",
    "print(f\"Time Elapsed: {end-start}\")"
   ]
  },
  {
   "cell_type": "code",
   "execution_count": 64,
   "metadata": {},
   "outputs": [],
   "source": [
    "prediction.to_csv(\"../predictions/decision-tree.csv\", index = False)"
   ]
  }
 ],
 "metadata": {
  "kernelspec": {
   "display_name": "Python 3.10.6 64-bit",
   "language": "python",
   "name": "python3"
  },
  "language_info": {
   "codemirror_mode": {
    "name": "ipython",
    "version": 3
   },
   "file_extension": ".py",
   "mimetype": "text/x-python",
   "name": "python",
   "nbconvert_exporter": "python",
   "pygments_lexer": "ipython3",
   "version": "3.10.6"
  },
  "orig_nbformat": 4,
  "vscode": {
   "interpreter": {
    "hash": "916dbcbb3f70747c44a77c7bcd40155683ae19c65e1c03b4aa3499c5328201f1"
   }
  }
 },
 "nbformat": 4,
 "nbformat_minor": 2
}
