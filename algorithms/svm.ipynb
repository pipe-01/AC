{
 "cells": [
  {
   "cell_type": "code",
   "execution_count": 45,
   "metadata": {},
   "outputs": [],
   "source": [
    "from sklearn.svm import SVC\n",
    "from sklearn.pipeline import make_pipeline\n",
    "import pandas as pd\n",
    "import time\n",
    "\n",
    "from sklearn.model_selection import train_test_split\n",
    "from sklearn.metrics import roc_auc_score\n",
    "from sklearn.preprocessing import StandardScaler\n",
    "from imblearn.over_sampling import SMOTE\n",
    "from sklearn.feature_selection import SelectKBest, f_classif"
   ]
  },
  {
   "cell_type": "code",
   "execution_count": 46,
   "metadata": {},
   "outputs": [],
   "source": [
    "def get_x(df: pd.DataFrame) -> None:\n",
    "    condition = (df.columns != 'status') & (df.columns != 'account_id') & (df.columns != 'loan_id') & (\n",
    "        df.columns != 'client_id') & (df.columns != 'district_id') & (df.columns != 'disp_id') & (df.columns != 'district_id_y') & (\n",
    "        df.columns != 'district_id_x') & (df.columns != 'id')\n",
    "    return df.loc[:, condition]\n",
    "\n",
    "def get_y(df: pd.DataFrame) -> None:\n",
    "    return df.status"
   ]
  },
  {
   "cell_type": "code",
   "execution_count": 47,
   "metadata": {},
   "outputs": [],
   "source": [
    "df_dev  = pd.read_csv(\"../dados/ready/dev.csv\")\n",
    "df_comp = pd.read_csv(\"../dados/ready/comp.csv\")"
   ]
  },
  {
   "cell_type": "code",
   "execution_count": 48,
   "metadata": {},
   "outputs": [],
   "source": [
    "start = time.time()\n",
    "\n",
    "x = get_x(df_dev)\n",
    "y = get_y(df_dev)\n",
    "\n",
    "k_best = SelectKBest(f_classif, k=7)\n",
    "\n",
    "x_train, x_test, y_train, y_test = train_test_split(x, y, test_size=0.25, stratify=y)\n",
    "\n",
    "smp = SMOTE()\n",
    "x_res, y_res = smp.fit_resample(x_train, y_train)\n",
    "x_res = k_best.fit_transform(x_res, y_res)\n",
    "\n",
    "scaler = StandardScaler()\n",
    "scaler.fit(x_res)\n",
    "x_res = scaler.transform(x_res)\n",
    "x_res = scaler.transform(x_res)\n",
    "\n",
    "clf = SVC(gamma='auto', probability=True, kernel=\"linear\")\n",
    "clf.fit(x_res, y_res)\n",
    "\n",
    "# Selecting columns\n",
    "cols = k_best.get_support()\n",
    "\n",
    "x_test = x_test.iloc[:, cols]\n",
    "predicted = clf.predict_proba(x_test)[::, 1]\n",
    "expected = y_test\n",
    "\n",
    "print(f\"score {roc_auc_score(expected.values, predicted)}\")"
   ]
  }
 ],
 "metadata": {
  "kernelspec": {
   "display_name": "Python 3.10.6 64-bit",
   "language": "python",
   "name": "python3"
  },
  "language_info": {
   "codemirror_mode": {
    "name": "ipython",
    "version": 3
   },
   "file_extension": ".py",
   "mimetype": "text/x-python",
   "name": "python",
   "nbconvert_exporter": "python",
   "pygments_lexer": "ipython3",
   "version": "3.10.6"
  },
  "orig_nbformat": 4,
  "vscode": {
   "interpreter": {
    "hash": "916dbcbb3f70747c44a77c7bcd40155683ae19c65e1c03b4aa3499c5328201f1"
   }
  }
 },
 "nbformat": 4,
 "nbformat_minor": 2
}
