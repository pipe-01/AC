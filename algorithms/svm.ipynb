{
 "cells": [
  {
   "cell_type": "code",
   "execution_count": 1,
   "metadata": {},
   "outputs": [],
   "source": [
    "from sklearn.svm import SVC\n",
    "from sklearn.pipeline import make_pipeline\n",
    "import pandas as pd\n",
    "import time\n",
    "\n",
    "from sklearn.model_selection import train_test_split\n",
    "from sklearn.metrics import roc_auc_score\n",
    "from sklearn.preprocessing import StandardScaler\n",
    "from imblearn.over_sampling import SMOTE\n",
    "from sklearn.feature_selection import SelectKBest, f_classif"
   ]
  },
  {
   "cell_type": "code",
   "execution_count": 2,
   "metadata": {},
   "outputs": [],
   "source": [
    "def get_x(df: pd.DataFrame) -> None:\n",
    "    condition = (df.columns != 'status') & (df.columns != 'account_id') & (df.columns != 'loan_id') & (\n",
    "        df.columns != 'client_id') & (df.columns != 'district_id') & (df.columns != 'disp_id') & (df.columns != 'district_id_y') & (\n",
    "        df.columns != 'district_id_x') & (df.columns != 'id')\n",
    "    return df.loc[:, condition]\n",
    "\n",
    "def get_y(df: pd.DataFrame) -> None:\n",
    "    return df.status"
   ]
  },
  {
   "cell_type": "code",
   "execution_count": 3,
   "metadata": {},
   "outputs": [],
   "source": [
    "df_dev  = pd.read_csv(\"../dados/ready/dev.csv\")\n",
    "df_comp = pd.read_csv(\"../dados/ready/comp.csv\")"
   ]
  },
  {
   "cell_type": "code",
   "execution_count": 4,
   "metadata": {},
   "outputs": [
    {
     "name": "stdout",
     "output_type": "stream",
     "text": [
      "score 0.5\n"
     ]
    },
    {
     "name": "stderr",
     "output_type": "stream",
     "text": [
      "C:\\Users\\mika1\\AppData\\Roaming\\Python\\Python39\\site-packages\\sklearn\\base.py:443: UserWarning: X has feature names, but SVC was fitted without feature names\n",
      "  warnings.warn(\n"
     ]
    }
   ],
   "source": [
    "start = time.time()\n",
    "\n",
    "x = get_x(df_dev)\n",
    "y = get_y(df_dev)\n",
    "\n",
    "k_best = SelectKBest(f_classif, k=7)\n",
    "\n",
    "x_train, x_test, y_train, y_test = train_test_split(x, y, test_size=0.25, stratify=y)\n",
    "\n",
    "smp = SMOTE()\n",
    "x_res, y_res = smp.fit_resample(x_train, y_train)\n",
    "x_res = k_best.fit_transform(x_res, y_res)\n",
    "\n",
    "scaler = StandardScaler()\n",
    "scaler.fit(x_res)\n",
    "x_res = scaler.transform(x_res)\n",
    "x_res = scaler.transform(x_res)\n",
    "\n",
    "clf = SVC(gamma='auto', probability=True, kernel=\"linear\")\n",
    "clf.fit(x_res, y_res)\n",
    "\n",
    "# Selecting columns\n",
    "cols = k_best.get_support()\n",
    "\n",
    "x_test = x_test.iloc[:, cols]\n",
    "predicted = clf.predict_proba(x_test)[::, 1]\n",
    "expected = y_test\n",
    "\n",
    "print(f\"score {roc_auc_score(expected.values, predicted)}\")"
   ]
  }
 ],
 "metadata": {
  "kernelspec": {
   "display_name": "Python 3.9.13 ('base')",
   "language": "python",
   "name": "python3"
  },
  "language_info": {
   "codemirror_mode": {
    "name": "ipython",
    "version": 3
   },
   "file_extension": ".py",
   "mimetype": "text/x-python",
   "name": "python",
   "nbconvert_exporter": "python",
   "pygments_lexer": "ipython3",
   "version": "3.9.13"
  },
  "orig_nbformat": 4,
  "vscode": {
   "interpreter": {
    "hash": "ad2bdc8ecc057115af97d19610ffacc2b4e99fae6737bb82f5d7fb13d2f2c186"
   }
  }
 },
 "nbformat": 4,
 "nbformat_minor": 2
}
