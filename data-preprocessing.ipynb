{
 "cells": [
  {
   "cell_type": "code",
   "execution_count": 2,
   "metadata": {},
   "outputs": [],
   "source": [
    "import pandas as pd"
   ]
  },
  {
   "cell_type": "code",
   "execution_count": 216,
   "metadata": {},
   "outputs": [],
   "source": [
    "def process_date(date):\n",
    "    # Given an integer date like 960101 transforms it into the standard format\n",
    "    # returns 4 columns, year, month, day and full data\n",
    "\n",
    "    year        = str(int(str(date)[:2]) + 1900)\n",
    "    month       = str(date)[2:4]\n",
    "    day         = str(date)[4:]\n",
    "\n",
    "    full_date   = year + '-' + month + '-' + day\n",
    "\n",
    "    return year, month, day, full_date"
   ]
  },
  {
   "cell_type": "code",
   "execution_count": 217,
   "metadata": {},
   "outputs": [],
   "source": [
    "## Load datasets\n",
    "account = pd.read_csv(\"dados/raw/account.csv\", sep=\";\", low_memory=False)\n",
    "card_dev = pd.read_csv(\"dados/raw/card_dev.csv\", sep=\";\", low_memory=False)\n",
    "card_comp = pd.read_csv(\"dados/raw/card_comp.csv\", sep=\";\", low_memory=False)\n",
    "client = pd.read_csv(\"dados/raw/client.csv\", sep=\";\", low_memory=False)\n",
    "disp = pd.read_csv(\"dados/raw/disp.csv\", sep=\";\", low_memory=False)\n",
    "district = pd.read_csv(\"dados/raw/district.csv\", sep=\";\", low_memory=False)\n",
    "loan_dev = pd.read_csv(\"dados/raw/loan_dev.csv\", sep=\";\", low_memory=False)\n",
    "loan_comp = pd.read_csv(\"dados/raw/loan_comp.csv\", sep=\";\", low_memory=False)\n",
    "trans_dev = pd.read_csv(\"dados/raw/trans_dev.csv\", sep=\";\", low_memory=False)\n",
    "trans_comp = pd.read_csv(\"dados/raw/trans_comp.csv\", sep=\";\", low_memory=False)"
   ]
  },
  {
   "cell_type": "code",
   "execution_count": 219,
   "metadata": {},
   "outputs": [],
   "source": [
    "def process_account(df: pd.DataFrame):\n",
    "    # Process date\n",
    "    df['acc_creation_year'], df['acc_creation_month'], df['acc_creation_day'], df['acc_creation_date']  = zip(*df['date'].map(process_date))\n",
    "\n",
    "    # Drop date column\n",
    "    df.drop([\"date\"], axis=1, inplace=True)\n",
    "\n",
    "    # Sort by account id\n",
    "    df.sort_values(by=['account_id'], inplace=True)\n",
    "\n",
    "    df.to_csv(\"dados/pre-processed/account.csv\", index=False)"
   ]
  },
  {
   "cell_type": "code",
   "execution_count": 220,
   "metadata": {},
   "outputs": [],
   "source": [
    "def process_card(df: pd.DataFrame, type: str): \n",
    "    # Process date\n",
    "    df['card_issued_year'], df['card_issued_month'], df['card_issued_day'], df['card_issued_date']  = zip(*df['issued'].map(process_date))\n",
    "\n",
    "    # Drop issued column\n",
    "    df.drop([\"issued\"], axis=1, inplace=True)\n",
    "\n",
    "    # Sort by account id\n",
    "    df.sort_values(by=['card_id'], inplace=True)\n",
    "\n",
    "    df.to_csv(\"dados/pre-processed/card_\"+ type + \".csv\", index=False)"
   ]
  },
  {
   "cell_type": "code",
   "execution_count": 221,
   "metadata": {},
   "outputs": [],
   "source": [
    "def process_client(df: pd.DataFrame):\n",
    "    # Process date\n",
    "    df['birthdate_year'], df['birthdate_month'], df['birthdate_day'], df['birthdate']  = zip(*df['birth_number'].map(process_date))\n",
    "\n",
    "    # Cast month as int\n",
    "    df['birthdate_month'] = df['birthdate_month'].astype(int)\n",
    "\n",
    "    # Drop birthnumber column\n",
    "    df.drop([\"birth_number\"], axis=1, inplace=True)\n",
    "\n",
    "    # Get the sex\n",
    "    df[\"sex\"] = df.apply(lambda row: 'f' if row[\"birthdate_month\"] > 12 else 'm', axis=1)\n",
    "\n",
    "    # If the month is greater than 12, update the data and subtract 50 from month\n",
    "    df.loc[df['birthdate_month'] > 12, 'birthdate'] = df['birthdate_year'] + '-' + (df['birthdate_month']-50).astype(str) + '-' + df['birthdate_day']\n",
    "    \n",
    "    df.loc[df['birthdate_month'] > 12, 'birthdate_month'] = df['birthdate_month'] - 50\n",
    "\n",
    "    # Sort by account id\n",
    "    df.sort_values(by=['client_id'], inplace=True)\n",
    "\n",
    "    df.to_csv(\"dados/pre-processed/client.csv\", index=False)"
   ]
  },
  {
   "cell_type": "code",
   "execution_count": 218,
   "metadata": {},
   "outputs": [],
   "source": [
    "def process_district(df: pd.DataFrame):\n",
    "    def process_city(row):\n",
    "        # If the city name contains '-' split it\n",
    "        if '-' in row['city']:\n",
    "            return row['city'].split('-')[0]\n",
    "        else:\n",
    "            return row['city']\n",
    "    \n",
    "    def get_zone(row):\n",
    "        if ' ' in row[\"region\"]:\n",
    "            return row[\"region\"].split(' ')[0]\n",
    "        else:\n",
    "            return 'NULL'\n",
    "\n",
    "    def process_region(row):\n",
    "        if ' ' in row[\"region\"]:\n",
    "            return row[\"region\"].split(' ')[1]\n",
    "        else:\n",
    "            return row[\"region\"]\n",
    "\n",
    "    ## Rename columns\n",
    "    df.columns = ['id', 'city', 'region', 'num_inhab', 'num_municip_inhab_0_499', \\\n",
    "    'num_municip_inhab_500_1999', 'num_municip_inhab_2000_9999', \\\n",
    "    'num_municip_inhab_10000_', 'num_cities', 'perc_urban_inhab', 'avg_salary', 'perc_unemploy_95', \\\n",
    "    'perc_unemploy_96', 'enterp_per_1000','num_crimes_95', 'num_crimes_96']\n",
    "\n",
    "    df[\"city\"] = df.apply(lambda row: process_city(row), axis=1)\n",
    "    df[\"region_zone\"] = df.apply(lambda row: get_zone(row), axis=1)\n",
    "    df[\"region\"] = df.apply(lambda row: process_region(row), axis=1)\n",
    "\n",
    "    ## Replace cells with ? with None\n",
    "    df.replace('?', None, inplace=True)\n",
    "\n",
    "    df.to_csv(\"dados/pre-processed/district.csv\", index=False)\n"
   ]
  },
  {
   "cell_type": "code",
   "execution_count": 222,
   "metadata": {},
   "outputs": [],
   "source": [
    "def process_dispostion(df: pd.DataFrame):\n",
    "    ## Set the type to lower case\n",
    "    df[\"type\"] = df[\"type\"].str.lower()\n",
    "\n",
    "    # Sort by disp id\n",
    "    df.sort_values(by=['disp_id'], inplace=True)\n",
    "\n",
    "    df.to_csv(\"dados/pre-processed/disp.csv\", index=False)"
   ]
  },
  {
   "cell_type": "code",
   "execution_count": 223,
   "metadata": {},
   "outputs": [],
   "source": [
    "def process_loan(df: pd.DataFrame, type: str):\n",
    "    # Process date\n",
    "    df['loan_year'], df['loan_month'], df['loan_day'], df['loan_date']  = zip(*df['date'].map(process_date))\n",
    "\n",
    "    # Drop date column\n",
    "    df.drop([\"date\"], axis=1, inplace=True)\n",
    "\n",
    "    # Sort by account id\n",
    "    df.sort_values(by=['loan_id'], inplace=True)\n",
    "\n",
    "    df.to_csv(\"dados/pre-processed/loan_\"+ type + \".csv\", index=False)"
   ]
  },
  {
   "cell_type": "code",
   "execution_count": 224,
   "metadata": {},
   "outputs": [],
   "source": [
    "def process_trans(df: pd.DataFrame, type: str):\n",
    "    dict_map = {\n",
    "        'credit in cash':'cash',\n",
    "        'withdrawal in cash':'cash',\n",
    "        'collection from another bank':'another bank',\n",
    "        'remittance to another bank':'another bank',\n",
    "        'credit card withdrawal':'credit card',\n",
    "    }\n",
    "    \n",
    "    # Process date\n",
    "    df['trans_year'], df['trans_month'], df['trans_day'], df['trans_date']  = zip(*df['date'].map(process_date))\n",
    "    \n",
    "    # Drop date column\n",
    "    df.drop([\"date\"], axis=1, inplace=True)\n",
    "\n",
    "    # Replace nan with empty string\n",
    "    df['operation'].fillna('', inplace=True)\n",
    "\n",
    "    # Check if operation is NAN, if so, set it to 'null', otherwise look into the dict\n",
    "    df[\"operation\"] = df[\"operation\"].apply(lambda x: 'NULL' if x == '' else dict_map[x])\n",
    "\n",
    "    # Sort by account id\n",
    "    df.sort_values(by=['trans_id'], inplace=True)\n",
    "\n",
    "    df.to_csv(\"dados/pre-processed/trans_\"+ type + \".csv\", index=False)\n"
   ]
  },
  {
   "cell_type": "code",
   "execution_count": 225,
   "metadata": {},
   "outputs": [],
   "source": [
    "def pre_process_data():\n",
    "    process_account(account)\n",
    "    process_district(district)\n",
    "    process_card(card_dev, 'dev')\n",
    "    process_card(card_comp, 'comp')\n",
    "    process_client(client)\n",
    "    process_dispostion(disp)\n",
    "    process_loan(loan_dev, \"dev\")\n",
    "    process_loan(loan_comp, \"comp\")\n",
    "    process_trans(trans_dev, \"dev\")\n",
    "    process_trans(trans_comp, 'comp')"
   ]
  },
  {
   "cell_type": "code",
   "execution_count": 226,
   "metadata": {},
   "outputs": [],
   "source": [
    "pre_process_data()"
   ]
  }
 ],
 "metadata": {
  "kernelspec": {
   "display_name": "Python 3 (ipykernel)",
   "language": "python",
   "name": "python3"
  },
  "language_info": {
   "codemirror_mode": {
    "name": "ipython",
    "version": 3
   },
   "file_extension": ".py",
   "mimetype": "text/x-python",
   "name": "python",
   "nbconvert_exporter": "python",
   "pygments_lexer": "ipython3",
   "version": "3.10.4"
  },
  "vscode": {
   "interpreter": {
    "hash": "d262e7d787343bb66990a00de3e9893afc6af4e1c4b01eb9fd482a95e03b1473"
   }
  }
 },
 "nbformat": 4,
 "nbformat_minor": 2
}
